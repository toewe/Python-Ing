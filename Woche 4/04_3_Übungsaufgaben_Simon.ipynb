{
 "cells": [
  {
   "cell_type": "markdown",
   "metadata": {},
   "source": [
    "# **Python für Ingenieure**\n",
    "<!-- Lizensiert unter (CC BY 2.0) Gert Herold, 2020 -->\n",
    "## 4.3. Übungsaufgaben"
   ]
  },
  {
   "cell_type": "markdown",
   "metadata": {},
   "source": [
    "**1) Berechnen Sie einen gewichteten Mittelwert der Zahlen im folgenden Dictionary. Werte, bei denen der Schlüssel mit einem \"!\" endet, sollen doppelt gewichtet werden. Vergleichen Sie mit dem ungewichteten Mittelwert.**"
   ]
  },
  {
   "cell_type": "code",
   "execution_count": 2,
   "metadata": {},
   "outputs": [
    {
     "name": "stdout",
     "output_type": "stream",
     "text": [
      "29.36178571428571\n"
     ]
    }
   ],
   "source": [
    "messwerte = {'2018-10-19 20:58:17' : 29.52,\n",
    "             '2018-10-19 23:31:09' : 41.72,\n",
    "             '2018-10-19 18:27:14' : 13.68,\n",
    "             '2018-10-20 00:23:12' : 27.39,\n",
    "             '2018-10-19 21:24:47!': 21.92,\n",
    "             '2018-10-20 01:37:01' : 34.70,\n",
    "             '2018-10-19 19:43:20!': 20.85,\n",
    "             '2018-10-19 20:31:55!': 29.27,\n",
    "             '2018-10-19 23:57:24' : 27.28,\n",
    "             '2018-10-19 19:17:05!': 47.96,\n",
    "             '2018-10-19 23:06:13' : 18.15,\n",
    "             '2018-10-19 18:01:29' : 30.15,\n",
    "             '2018-10-20 00:48:26!': 20.16,\n",
    "             '2018-10-19 22:39:59!': 25.25,\n",
    "             '2018-10-19 21:49:38' : 27.05,\n",
    "             '2018-10-19 20:07:21' : 39.39,\n",
    "             '2018-10-19 18:52:01' : 32.54,\n",
    "             '2018-10-19 17:37:20' : 20.06,\n",
    "             '2018-10-19 22:14:07!': 33.50,\n",
    "             '2018-10-20 01:13:07!': 41.34}\n",
    "\n",
    "\n",
    "# Hier eigenen Code schreiben ...\n",
    "counter = 0\n",
    "avg_sum = 0\n",
    "for entry in messwerte:\n",
    "    if \"!\" in entry:\n",
    "        counter += 2\n",
    "        avg_sum += 2*messwerte[entry]\n",
    "    else:\n",
    "        counter += 1\n",
    "        avg_sum += messwerte[entry]\n",
    "avg = avg_sum/counter\n",
    "print(avg)"
   ]
  },
  {
   "cell_type": "markdown",
   "metadata": {},
   "source": [
    "**2) Geben Sie das obige Dictionary als zeitlich sortierte Tabelle *ohne* \"!\" aus.**\n",
    "\n",
    "```\n",
    " |  2018-10-19 17:37:20  |  20.06  |\n",
    " |  2018-10-19 18:01:29  |  30.15  |\n",
    " ...\n",
    "```"
   ]
  },
  {
   "cell_type": "code",
   "execution_count": 8,
   "metadata": {},
   "outputs": [
    {
     "name": "stdout",
     "output_type": "stream",
     "text": [
      "|  2018-10-19 17:37:20  |  20.06  |\n",
      "|  2018-10-19 18:01:29  |  30.15  |\n",
      "|  2018-10-19 18:27:14  |  13.68  |\n",
      "|  2018-10-19 18:52:01  |  32.54  |\n",
      "|  2018-10-19 20:07:21  |  39.39  |\n",
      "|  2018-10-19 20:58:17  |  29.52  |\n",
      "|  2018-10-19 21:49:38  |  27.05  |\n",
      "|  2018-10-19 23:06:13  |  18.15  |\n",
      "|  2018-10-19 23:31:09  |  41.72  |\n",
      "|  2018-10-19 23:57:24  |  27.28  |\n",
      "|  2018-10-20 00:23:12  |  27.39  |\n",
      "|  2018-10-20 01:37:01  |  34.70  |\n"
     ]
    }
   ],
   "source": [
    "keys = sorted(messwerte)\n",
    "for key in keys:\n",
    "    if \"!\" not in key:\n",
    "        print(\"|  {}  |  {:.2f}  |\".format(key, messwerte[key]))\n",
    "# Hier eigenen Code schreiben ...\n"
   ]
  },
  {
   "cell_type": "markdown",
   "metadata": {},
   "source": [
    "**3) Geben Sie die Messzeiten aus, zu denen die `n` geringsten Werte gemessen wurden.** \n",
    "\n",
    "Hinweis: Variablen lassen sich mit \n",
    "```python\n",
    "del mein_variablenname\n",
    "``` \n",
    "löschen."
   ]
  },
  {
   "cell_type": "code",
   "execution_count": 19,
   "metadata": {},
   "outputs": [
    {
     "name": "stdout",
     "output_type": "stream",
     "text": [
      "2018-10-19 18:27:14\n",
      "2018-10-19 23:06:13\n",
      "2018-10-19 17:37:20\n"
     ]
    }
   ],
   "source": [
    "n = 3\n",
    "messkopie = messwerte.copy()\n",
    "values = sorted(messkopie.values())\n",
    "for key in messwerte:\n",
    "    if messwerte[key] in values[0:n]:\n",
    "        print(key)\n",
    "\n"
   ]
  },
  {
   "cell_type": "markdown",
   "metadata": {},
   "source": [
    "**4)Wieviel [Zeit](https://docs.python.org/3/library/time.html) (in Minuten) vergeht jeweils zwischen zwei aufeinanderfolgenden Messungen?**"
   ]
  },
  {
   "cell_type": "code",
   "execution_count": 44,
   "metadata": {},
   "outputs": [
    {
     "name": "stdout",
     "output_type": "stream",
     "text": [
      "time.struct_time(tm_year=2019, tm_mon=12, tm_mday=31, tm_hour=23, tm_min=59, tm_sec=0, tm_wday=1, tm_yday=365, tm_isdst=-1)\n",
      "\n",
      "Zu Silvester vergangene Sekunden seit 1.1.1970: 1577833140.0\n",
      "Minuten zwischen Eintrag 0 und 1: 24.1\n",
      "Minuten zwischen Eintrag 1 und 2: 25.8\n",
      "Minuten zwischen Eintrag 2 und 3: 24.8\n",
      "Minuten zwischen Eintrag 3 und 4: 25.1\n",
      "Minuten zwischen Eintrag 4 und 5: 26.2\n",
      "Minuten zwischen Eintrag 5 und 6: 24.0\n",
      "Minuten zwischen Eintrag 6 und 7: 24.6\n",
      "Minuten zwischen Eintrag 7 und 8: 26.4\n",
      "Minuten zwischen Eintrag 8 und 9: 26.5\n",
      "Minuten zwischen Eintrag 9 und 10: 24.9\n",
      "Minuten zwischen Eintrag 10 und 11: 24.5\n",
      "Minuten zwischen Eintrag 11 und 12: 25.9\n",
      "Minuten zwischen Eintrag 12 und 13: 26.2\n",
      "Minuten zwischen Eintrag 13 und 14: 24.9\n",
      "Minuten zwischen Eintrag 14 und 15: 26.2\n",
      "Minuten zwischen Eintrag 15 und 16: 25.8\n",
      "Minuten zwischen Eintrag 16 und 17: 25.2\n",
      "Minuten zwischen Eintrag 17 und 18: 24.7\n",
      "Minuten zwischen Eintrag 18 und 19: 23.9\n"
     ]
    }
   ],
   "source": [
    "import time\n",
    "#time.strptime?\n",
    "silvester = time.strptime('31.12.2019, 23:59 Uhr','%d.%m.%Y, %H:%M Uhr')\n",
    "print(silvester)\n",
    "print('\\nZu Silvester vergangene Sekunden seit 1.1.1970:',time.mktime(silvester))\n",
    "\n",
    "keys = list(sorted(messwerte.keys()))\n",
    "time_map = '%Y-%m-%d %H:%M:%S'\n",
    "\n",
    "for i in range(len(keys)-1):\n",
    "    time1 = time.mktime(time.strptime(keys[i].replace('!',''), time_map))\n",
    "    time2 = time.mktime(time.strptime(keys[i+1].replace('!',''), time_map))\n",
    "    print('Minuten zwischen Eintrag {} und {}: {:.1f}'.format(i, i+1, (time2-time1)/60))"
   ]
  },
  {
   "cell_type": "markdown",
   "metadata": {},
   "source": [
    "**5) Schreiben Sie ein kurzes Programm, das den Nutzer nach einem Datum fragt und daraufhin eine Aussage über den Wochentag zurückgibt. Unterscheiden Sie, ob das Datum in der Zukunft oder Vergangenheit liegt.**\n",
    "\n",
    "Beispiele:\n",
    "```\n",
    " Der 03.10.1990 war ein Mittwoch.\n",
    " Der 01.05.2048 ist ein Freitag.\n",
    "```"
   ]
  },
  {
   "cell_type": "code",
   "execution_count": 19,
   "metadata": {},
   "outputs": [
    {
     "name": "stdout",
     "output_type": "stream",
     "text": [
      "Heute: time.struct_time(tm_year=2020, tm_mon=5, tm_mday=16, tm_hour=22, tm_min=23, tm_sec=11, tm_wday=5, tm_yday=137, tm_isdst=0)\n"
     ]
    },
    {
     "name": "stdin",
     "output_type": "stream",
     "text": [
      "Geben sie ein Datum im Format DD.MM.YYYY ein:  20.05.2020\n"
     ]
    },
    {
     "name": "stdout",
     "output_type": "stream",
     "text": [
      "Der 20.05.2020 ist ein Mittwoch.\n",
      "Das Dateum liegt in der Zunkunft\n"
     ]
    }
   ],
   "source": [
    "import time\n",
    "print('Heute:',time.gmtime())\n",
    "wochentage = ['Montag', 'Dienstag', 'Mittwoch', 'Donnerstag', 'Freitag', 'Samstag', 'Sonntag']\n",
    "\n",
    "get_input = True\n",
    "\n",
    "while get_input:\n",
    "    input_date_str = input(\"Geben sie ein Datum im Format DD.MM.YYYY ein: \")\n",
    "    try:\n",
    "        input_date_tm = time.strptime(input_date_str, '%d.%m.%Y')\n",
    "    except ValueError:\n",
    "        print('Fasche Eingabe')\n",
    "    else:\n",
    "        get_input = False\n",
    "        \n",
    "print('Der {} ist ein {}.'.format(input_date_str, wochentage[input_date_tm.tm_wday]))\n",
    "\n",
    "today_sec = time.mktime(time.gmtime())\n",
    "date_sec = time.mktime(input_date_tm)\n",
    "if today_sec > date_sec:\n",
    "    print('Das Datum liegt in der Vergangenheit.')\n",
    "else:\n",
    "    print('Das Datum liegt in der Zunkunft')\n"
   ]
  },
  {
   "cell_type": "code",
   "execution_count": null,
   "metadata": {},
   "outputs": [],
   "source": []
  }
 ],
 "metadata": {
  "kernelspec": {
   "display_name": "Python 3",
   "language": "python",
   "name": "python3"
  },
  "language_info": {
   "codemirror_mode": {
    "name": "ipython",
    "version": 3
   },
   "file_extension": ".py",
   "mimetype": "text/x-python",
   "name": "python",
   "nbconvert_exporter": "python",
   "pygments_lexer": "ipython3",
   "version": "3.7.6"
  }
 },
 "nbformat": 4,
 "nbformat_minor": 4
}
