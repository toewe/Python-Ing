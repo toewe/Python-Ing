{
 "cells": [
  {
   "cell_type": "markdown",
   "metadata": {},
   "source": [
    "# **Python für Ingenieure**\n",
    "<!-- Lizensiert unter (CC BY 2.0) Gert Herold, 2020 -->\n",
    "## Prolog: Jupyter Notebook/Lab\n",
    "\n",
    "Interaktive Python-Konsole\n",
    "\n",
    "Kann Python-Code direkt ausführen und Ergebnisse anzeigen"
   ]
  },
  {
   "cell_type": "code",
   "execution_count": null,
   "metadata": {},
   "outputs": [],
   "source": [
    "print('Hallo Welt')"
   ]
  },
  {
   "cell_type": "markdown",
   "metadata": {},
   "source": [
    "Infos zu Funktionen oder anderen Objekten lassen sich einfach über ein nachgestelltes Fragezeichen abrufen:"
   ]
  },
  {
   "cell_type": "code",
   "execution_count": null,
   "metadata": {},
   "outputs": [],
   "source": [
    "print?"
   ]
  },
  {
   "cell_type": "markdown",
   "metadata": {},
   "source": [
    "Ausgaben sind in dieser Umgebung auch ohne expliziten `print`-Befehl möglich. [Ausdrücke](https://de.wikipedia.org/wiki/Ausdruck_(Programmierung)) werden direkt ausgewertet:"
   ]
  },
  {
   "cell_type": "code",
   "execution_count": null,
   "metadata": {},
   "outputs": [],
   "source": [
    "'Hallo Welt'"
   ]
  },
  {
   "cell_type": "code",
   "execution_count": null,
   "metadata": {},
   "outputs": [],
   "source": [
    "1+1"
   ]
  },
  {
   "cell_type": "markdown",
   "metadata": {},
   "source": [
    "Bei mehrzeiligen Code-Abschnitten wird jedoch nur die letzte Zeile ausgegeben:"
   ]
  },
  {
   "cell_type": "code",
   "execution_count": null,
   "metadata": {},
   "outputs": [],
   "source": [
    "1+1\n",
    "1+2\n",
    "2+2"
   ]
  },
  {
   "cell_type": "markdown",
   "metadata": {},
   "source": [
    "Falls benötigt, Ausgabe explizit [anweisen](https://de.wikipedia.org/wiki/Anweisung_(Programmierung)):"
   ]
  },
  {
   "cell_type": "code",
   "execution_count": null,
   "metadata": {},
   "outputs": [],
   "source": [
    "print(1+1)\n",
    "print(1+2)\n",
    "print(2+2)"
   ]
  },
  {
   "cell_type": "markdown",
   "metadata": {},
   "source": [
    "Das jeweils letzte direkt per implizitem Befehl berechnete Ergebnis lässt sich über die Variable \\\"_\\\" abrufen:"
   ]
  },
  {
   "cell_type": "code",
   "execution_count": null,
   "metadata": {},
   "outputs": [],
   "source": [
    "3*7"
   ]
  },
  {
   "cell_type": "code",
   "execution_count": null,
   "metadata": {},
   "outputs": [],
   "source": [
    "_+2"
   ]
  },
  {
   "cell_type": "markdown",
   "metadata": {},
   "source": [
    "Um Quelltext zu kommentieren, wird dem Text, der nicht als Programmteil interpretiert werden soll, eine Raute (`#`) vorangestellt:"
   ]
  },
  {
   "cell_type": "code",
   "execution_count": null,
   "metadata": {},
   "outputs": [],
   "source": [
    "print(1+2)\n",
    "# Dies ist ein Kommentar.\n",
    "'Dies ist ein Satz.' # Hier ist er zu Ende.\n",
    "# Dies ist noch ein Kommentar."
   ]
  },
  {
   "cell_type": "markdown",
   "metadata": {},
   "source": [
    "## Übung:\n",
    "\n",
    "1. Setzen Sie den Cursor zurück in die Zelle über dieser hier.\n",
    "    * Drücken Sie wiederholt <kbd>Strg</kbd> + <kbd>↵</kbd>\n",
    "    * Drücken Sie wiederholt <kbd>Shift</kbd> + <kbd>↵</kbd>\n",
    "    * Was passiert und warum?\n",
    "    \n",
    "    \n",
    "2. Setzen Sie den Cursor in die Zelle unter dieser hier.\n",
    "    * Wechseln Sie zwischen Kommando- und Editier-Modus mittels <kbd>Esc</kbd> und <kbd>↵</kbd>\n",
    "    * Ändern Sie den Zelltyp mittels <kbd>M</kbd> oder <kbd>Y</kbd>\n",
    "    * Interpretieren Sie das Ergebnis der Zellausführung (<kbd>Strg</kbd> + <kbd>↵</kbd>\n",
    "\n",
    "\n",
    "3. Testen Sie im Kommando-Modus die Funktion der Tasten:\n",
    "    * <kbd>D</kbd>,<kbd>D</kbd>\n",
    "    * <kbd>Z</kbd>\n",
    "    * <kbd>A</kbd>\n",
    "    * <kbd>B</kbd>\n",
    "    \n"
   ]
  },
  {
   "cell_type": "raw",
   "metadata": {},
   "source": [
    "### Testzelle für \n",
    "## Übungszwecke\n",
    "\n",
    "# $\\lambda = \\frac{c}{f}$\n",
    "\n",
    "3*3*3"
   ]
  },
  {
   "cell_type": "markdown",
   "metadata": {},
   "source": []
  },
  {
   "cell_type": "markdown",
   "metadata": {},
   "source": []
  },
  {
   "cell_type": "markdown",
   "metadata": {},
   "source": []
  },
  {
   "cell_type": "markdown",
   "metadata": {},
   "source": []
  },
  {
   "cell_type": "markdown",
   "metadata": {},
   "source": []
  }
 ],
 "metadata": {
  "kernelspec": {
   "display_name": "Python 3",
   "language": "python",
   "name": "python3"
  },
  "language_info": {
   "codemirror_mode": {
    "name": "ipython",
    "version": 3
   },
   "file_extension": ".py",
   "mimetype": "text/x-python",
   "name": "python",
   "nbconvert_exporter": "python",
   "pygments_lexer": "ipython3",
   "version": "3.7.6"
  }
 },
 "nbformat": 4,
 "nbformat_minor": 4
}
