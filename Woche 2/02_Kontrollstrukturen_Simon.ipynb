{
 "cells": [
  {
   "cell_type": "markdown",
   "metadata": {},
   "source": [
    "# **Python für Ingenieure**\n",
    "<!-- Lizensiert unter (CC BY 2.0) Gert Herold, 2020 -->\n",
    "# 2. Kontrollstrukturen\n",
    "\n",
    "Für komplexere Programmieraufgaben werden Strukturen benötigt, die den Ablauf eines Programms steuern.\n",
    "Hierzu gehören *Schleifen*, die dann Anwendung finden, wenn gleichartige Anweisungen wiederholt werden sollen, sowie *Verzweigungen*, die die Ausführung von Anweisungen an Bedingungen knüpfen."
   ]
  },
  {
   "cell_type": "markdown",
   "metadata": {},
   "source": [
    "## 2.1. *if/elif/else* &ndash; Bedingte Anweisungen"
   ]
  },
  {
   "cell_type": "markdown",
   "metadata": {},
   "source": [
    "Um Programmcode nur unter Bedingungen auszuführen, wird folgende Syntax verwendet:"
   ]
  },
  {
   "cell_type": "code",
   "execution_count": null,
   "metadata": {},
   "outputs": [],
   "source": [
    "i=10\n",
    "if i<10:\n",
    "    print('kleiner als zehn!')"
   ]
  },
  {
   "cell_type": "markdown",
   "metadata": {},
   "source": [
    "Falls mehrere Bedingungen geprüft werden sollen bzw. es einen \"Sonst\"-Fall geben soll:"
   ]
  },
  {
   "cell_type": "code",
   "execution_count": null,
   "metadata": {},
   "outputs": [],
   "source": [
    "i = \n",
    "if (i<=10 and i>=1):\n",
    "    print('zwischen 1 und 10')\n",
    "elif (i < 0):\n",
    "    print('negativ')\n",
    "else:\n",
    "    print('0 oder größer 10')"
   ]
  },
  {
   "cell_type": "markdown",
   "metadata": {},
   "source": [
    "**Achtung:** Im Gegensatz zu vielen anderen Programmiersprachen hat unter Python die Einrückung (engl: *indentation*) des Quellcodes eine elementare Bedeutung für den Programmablauf. Zeilen \n",
    "gleicher Einrückung markieren jeweils einen zusammenhängenden Block."
   ]
  },
  {
   "cell_type": "markdown",
   "metadata": {},
   "source": [
    "## 2.2. *for*-Schleife\n",
    "\n",
    "Eine Anweisung eine bestimmte Anzahl von Wiederholungen (Iterationen) zu durchlaufen, ist mit folgender Struktur möglich:"
   ]
  },
  {
   "cell_type": "code",
   "execution_count": null,
   "metadata": {},
   "outputs": [],
   "source": [
    "for i in range(5):\n",
    "    print('Wiederholung:',i)"
   ]
  },
  {
   "cell_type": "markdown",
   "metadata": {},
   "source": [
    "Iteriert werden kann mit einer for-Schleife nicht nur über einen Zahlenbereich, sondern über jedes iterierbare Objekt, z.B. auch über Listen:"
   ]
  },
  {
   "cell_type": "code",
   "execution_count": null,
   "metadata": {},
   "outputs": [],
   "source": [
    "a = [1, 2, 'lalala', 14, -2.3]\n",
    "for i in a:\n",
    "    print(i)"
   ]
  },
  {
   "cell_type": "markdown",
   "metadata": {},
   "source": [
    "Das Ergebnis der oben verwendeten Funktion *range* kann auch in eine Liste umgewandelt werden. Außerdem muss eine *range* nicht bei 0 starten:"
   ]
  },
  {
   "cell_type": "code",
   "execution_count": null,
   "metadata": {},
   "outputs": [],
   "source": [
    "range?"
   ]
  },
  {
   "cell_type": "code",
   "execution_count": null,
   "metadata": {},
   "outputs": [],
   "source": [
    "r = range(3,7)\n",
    "print(r)\n",
    "print(list(r))"
   ]
  },
  {
   "cell_type": "markdown",
   "metadata": {},
   "source": [
    "Durch zwei Sequenzen gleichzeitig iterieren:"
   ]
  },
  {
   "cell_type": "code",
   "execution_count": null,
   "metadata": {},
   "outputs": [],
   "source": [
    "for x,y in zip('Hallo',[12, -7.3, 1, 0, False]):\n",
    "    print(x,y)"
   ]
  },
  {
   "cell_type": "markdown",
   "metadata": {},
   "source": [
    "Einen Zähler mitlaufen lassen:"
   ]
  },
  {
   "cell_type": "code",
   "execution_count": null,
   "metadata": {},
   "outputs": [],
   "source": [
    "for x,y, in enumerate([12, -7.3, 1, 0, False]):\n",
    "    print(x,y)"
   ]
  },
  {
   "cell_type": "markdown",
   "metadata": {},
   "source": [
    "## 2.3. *while*-Schleife"
   ]
  },
  {
   "cell_type": "markdown",
   "metadata": {},
   "source": [
    "Um eine Anweisung so lang wiederholen zu lassen, wie eine Bedingung erfüllt ist:"
   ]
  },
  {
   "cell_type": "code",
   "execution_count": null,
   "metadata": {},
   "outputs": [],
   "source": [
    "a = 'Hallo'\n",
    "while len(a)<40:\n",
    "    a = a+a\n",
    "    print(a)"
   ]
  },
  {
   "cell_type": "markdown",
   "metadata": {},
   "source": [
    "Soll eine Bedingung nicht am Anfang der Schleife, sondern an anderer Stelle geprüft werden:"
   ]
  },
  {
   "cell_type": "code",
   "execution_count": null,
   "metadata": {},
   "outputs": [],
   "source": [
    "a = 'Hallo'\n",
    "while True:\n",
    "    a = a+a\n",
    "    print(a)\n",
    "    if len(a)>40:\n",
    "        break"
   ]
  },
  {
   "cell_type": "markdown",
   "metadata": {},
   "source": [
    "Übrigens: `else` kann auch nach einer Schleife verwendet werden.\n",
    "Der Block darin wird dann ausgeführt, wenn der Ausdruck nach dem `while`-Befehl nicht (mehr) `True` ist oder die `for`-Schleife komplett durchlaufen wurde – also nicht im Falle von `if: ... break`.\n",
    "\n",
    "Darüber hinaus gibt es für Schleifen als Gegenstück zu `break` noch den Befehl `continue`, der die Schleife sofort \"weiter-iteriert\", also direkt zum nächsten Schritt wieder an den Anfang der Schleife springt, ohne weitere Befehle auszuführen."
   ]
  },
  {
   "cell_type": "code",
   "execution_count": null,
   "metadata": {},
   "outputs": [],
   "source": [
    "n = 10 # Wert ändern und schauen, was passiert\n",
    "\n",
    "for a in range(1,n):\n",
    "    b = 0\n",
    "    if a%4 == 0:\n",
    "        continue\n",
    "    print('a:',a)\n",
    "    while b < n**2:\n",
    "        b += a\n",
    "        print('.', end='')\n",
    "        if b>100: \n",
    "            print('!')\n",
    "            break\n",
    "    else:\n",
    "        print('?')\n",
    "    if a>12:\n",
    "        break\n",
    "else:\n",
    "    print('endgültig', end=' ')\n",
    "print('zu Ende')"
   ]
  },
  {
   "cell_type": "markdown",
   "metadata": {},
   "source": [
    "Wenn gewünscht ist, dass in einer Kontrollstruktur einfach gar nichts passiert (z.B. zu Testzwecken), kann hierfür der Befehl `pass` verwendet werden (z.B. als Platzhalter in der obigen Zelle anstelle `break` oder `continue`)."
   ]
  },
  {
   "cell_type": "markdown",
   "metadata": {},
   "source": [
    "## 2.4. Logische Ausdrücke\n",
    "\n",
    "Bedingungen, wie sie mit `if` und `while` ausgewertet werden, können über logische Ausdrücke formuliert werden.\n",
    "Ein logischer Ausdruck verknüpft Werte, sodass eine Aussage gebildet wird, die entweder wahr (`True`) oder falsch (`False`) ist.\n",
    "Diese Verknüpfung geschieht mit Vergleichsoperatoren oder logischen Operatoren.\n",
    "\n",
    "### Vergleichsoperatoren\n",
    "\n",
    "| Operator | Vergleichsoperation          |\n",
    "|----------|------------------------------|\n",
    "| `==`     | gleicher Wert                |\n",
    "| `!=`     | ungleich                     |\n",
    "| `<`      | kleiner als                  |\n",
    "| `<=`     | kleiner oder gleich          |\n",
    "| `>`      | größer als                   |\n",
    "| `>=`     | größer oder gleich           |\n",
    "| `is`     | gleiches Objekt              |\n",
    "| `in`     | Element in Sequenz enthalten |"
   ]
  },
  {
   "cell_type": "code",
   "execution_count": null,
   "metadata": {},
   "outputs": [],
   "source": [
    "b=1.5\n",
    "a=b\n",
    "c=3/2\n",
    "a==b, a==c, a is b, a is c "
   ]
  },
  {
   "cell_type": "markdown",
   "metadata": {},
   "source": [
    "Es können auch mehrere Vergleiche gleichzeitig durchgeführt werden:"
   ]
  },
  {
   "cell_type": "code",
   "execution_count": null,
   "metadata": {},
   "outputs": [],
   "source": [
    "d = 3\n",
    "e = 6\n",
    "if 1<=d<=5<e:\n",
    "    print('Ja')\n",
    "else:\n",
    "    print('Nein')"
   ]
  },
  {
   "cell_type": "markdown",
   "metadata": {},
   "source": [
    "### Logische Operatoren\n",
    "\n",
    "Zur Verknüpfung von logischen Ausdrücken:\n",
    "\n",
    "| Operator | Ergebnis                                                  |\n",
    "|----------|-----------------------------------------------------------|\n",
    "| `and`    | `True` wenn beide Operanden `True` sind, sonst `False`    |\n",
    "| `or`     | `True` wenn einer der Operanden `True` ist, sonst `False` |\n",
    "| `not`    | `True` wenn Operand `False` und umgekehrt                 |"
   ]
  },
  {
   "cell_type": "code",
   "execution_count": null,
   "metadata": {},
   "outputs": [],
   "source": [
    "d = 3\n",
    "e = 6\n",
    "if d>=1 and not e>10:\n",
    "    print('Ja')\n",
    "else:\n",
    "    print('Nein')"
   ]
  },
  {
   "cell_type": "markdown",
   "metadata": {},
   "source": [
    "Wie für mathematische Operatoren gibt es auch für logische Operatoren [Rechenregeln](https://de.wikipedia.org/wiki/Boolesche_Algebra). \n",
    "Sich mit diesen auseinanderzusetzen ist z.B. dann sinnvoll, wenn viele unterschiedliche Zustände auftreten können, die betrachtet werden müssen."
   ]
  },
  {
   "cell_type": "markdown",
   "metadata": {},
   "source": [
    "### Was ist Falsch?\n",
    "\n",
    "Die Strukturen `while` und `if` akzeptieren als Bedingung nicht nur logischen Ausdrücke, sondern beliebige Variablen. \n",
    "Diese werden dann als logischer Ausdruck uminterpretiert:"
   ]
  },
  {
   "cell_type": "code",
   "execution_count": null,
   "metadata": {},
   "outputs": [],
   "source": [
    "wert = 0\n",
    "if wert:\n",
    "    print('Der Wert',wert,'wird als WAHR (True) gewertet.')\n",
    "else:\n",
    "    print('Der Wert',wert,'wird als FALSCH (False) gewertet.')\n",
    "bool(wert)"
   ]
  },
  {
   "cell_type": "markdown",
   "metadata": {},
   "source": [
    "Als `False` werden auch interpretiert: \n",
    "  * der Boolean-Wert `False`\n",
    "  * der \"Nicht\"-Wert `Ǹone`\n",
    "  * die Zahl `0` (egal ob `integer`, `float` oder `complex`)\n",
    "  * leere Sequenzen: `''`, `()`, `[]`, `{}`\n",
    "  \n",
    "Entsprechend werden Zahlen ungleich 0 sowie Sequenzen mit Inhalt als `True` interpretiert."
   ]
  },
  {
   "cell_type": "markdown",
   "metadata": {},
   "source": [
    "## Übung\n",
    "\n",
    "**1) Berechnen Sie die Summe aller ungeraden ganzen Zahlen zwischen 75 und 1001 ...**\n",
    "  * ... mithilfe einer for-Schleife.\n",
    "  * ... mithilfe einer while-Schleife.\n",
    "  * ... ohne Schleife."
   ]
  },
  {
   "cell_type": "code",
   "execution_count": 49,
   "metadata": {},
   "outputs": [
    {
     "name": "stdout",
     "output_type": "stream",
     "text": [
      "249632\n",
      "249632\n",
      "249632\n"
     ]
    }
   ],
   "source": [
    "a = 0\n",
    "for i in range(75, 1002, 2):\n",
    "    a = a + i\n",
    "print(a)\n",
    "\n",
    "b = 0\n",
    "j = 75\n",
    "while j <=1001:\n",
    "    b = b + j\n",
    "    j = j + 2\n",
    "print(b)\n",
    "\n",
    "nums = len(list(range(75,1002,2)))\n",
    "c = (75 + 1001) * nums//2\n",
    "print(c)\n"
   ]
  },
  {
   "cell_type": "markdown",
   "metadata": {},
   "source": [
    "**2) Nähern Sie die Kreiszahl $\\pi$ iterativ an. Hierfür können Sie z.B. das [Wallissche Produkt](https://de.wikipedia.org/wiki/Wallissches_Produkt) verwenden.**\n",
    "\n",
    "$$\n",
    "\\pi= 2\\,\\prod_{i=1}^\\infty\\left(1+\\frac{1}{4i^2-1}\\right)\n",
    "$$"
   ]
  },
  {
   "cell_type": "code",
   "execution_count": 28,
   "metadata": {},
   "outputs": [
    {
     "name": "stdout",
     "output_type": "stream",
     "text": [
      "3.1415925750808458\n"
     ]
    },
    {
     "data": {
      "text/plain": [
       "1"
      ]
     },
     "execution_count": 28,
     "metadata": {},
     "output_type": "execute_result"
    }
   ],
   "source": [
    "pi_half=1\n",
    "for i in range(1,10000000):\n",
    "    pi_half = pi_half * (1+(1/((4*(i**2)-1))))\n",
    "print(2*pi_half)"
   ]
  },
  {
   "cell_type": "markdown",
   "metadata": {},
   "source": [
    "**3) Schreiben Sie einen kurzen Programmabschnitt, der vom Nutzer eingegebene Zahlwörter in Integer-Zahlen von 1 bis 4 umwandelt. Verwenden Sie hierfür ...**\n",
    "  * ...eine *if/elif/else*-Struktur\n",
    "  * ...nur ein *Dictionary*"
   ]
  },
  {
   "cell_type": "code",
   "execution_count": 36,
   "metadata": {},
   "outputs": [
    {
     "name": "stdin",
     "output_type": "stream",
     "text": [
      "Geben Sie ein Zahlwort zwischen \"eins\" und \"vier\" ein: g\n"
     ]
    },
    {
     "name": "stdout",
     "output_type": "stream",
     "text": [
      "Falsche Eingabe\n"
     ]
    }
   ],
   "source": [
    "# Die input-Funktion fragt Nutzereingaben ab:\n",
    "zahlwort = input('Geben Sie ein Zahlwort zwischen \"eins\" und \"vier\" ein:')\n",
    "\n",
    "dic = {\"eins\": 1,\n",
    "       \"zwei\": 2,\n",
    "       \"drei\": 3,\n",
    "       \"vier\": 4}\n",
    "\n",
    "if zahlwort.lower() in dic.keys():\n",
    "    print(dic[zahlwort.lower()])\n",
    "else:\n",
    "    print(\"Falsche Eingabe\")"
   ]
  }
 ],
 "metadata": {
  "kernelspec": {
   "display_name": "Python 3",
   "language": "python",
   "name": "python3"
  },
  "language_info": {
   "codemirror_mode": {
    "name": "ipython",
    "version": 3
   },
   "file_extension": ".py",
   "mimetype": "text/x-python",
   "name": "python",
   "nbconvert_exporter": "python",
   "pygments_lexer": "ipython3",
   "version": "3.7.6"
  }
 },
 "nbformat": 4,
 "nbformat_minor": 4
}
