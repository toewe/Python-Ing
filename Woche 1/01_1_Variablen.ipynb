{
 "cells": [
  {
   "cell_type": "markdown",
   "metadata": {},
   "source": [
    "# **Python für Ingenieure**\n",
    "<!-- Lizensiert unter (CC BY 2.0) Gert Herold, 2020 -->\n",
    "# 1. Variablen und Datentypen\n",
    "\n",
    "Um Werte im Programmverlauf zu speichern und abrufen zu können, werden Variablen verwendet. Der Name der Variable ist der Bezeichner, unter dem die Variable abgerufen werden kann. \n",
    "Eine Zuweisung sieht in Python so aus:\n",
    "```python\n",
    "variablenname = wert\n",
    "```\n",
    "\n",
    "## 1.1. Einfache Datentypen"
   ]
  },
  {
   "cell_type": "markdown",
   "metadata": {},
   "source": [
    "*integer*: Ganze Zahlen (positiv und negativ)"
   ]
  },
  {
   "cell_type": "code",
   "execution_count": 1,
   "metadata": {},
   "outputs": [
    {
     "name": "stdout",
     "output_type": "stream",
     "text": [
      "<class 'int'>\n"
     ]
    }
   ],
   "source": [
    "a=3\n",
    "print(type(a))"
   ]
  },
  {
   "cell_type": "markdown",
   "metadata": {},
   "source": [
    "*float*: Fließkommazahlen"
   ]
  },
  {
   "cell_type": "code",
   "execution_count": 4,
   "metadata": {},
   "outputs": [
    {
     "data": {
      "text/plain": [
       "float"
      ]
     },
     "execution_count": 4,
     "metadata": {},
     "output_type": "execute_result"
    }
   ],
   "source": [
    "b=3.1\n",
    "type(b)"
   ]
  },
  {
   "cell_type": "markdown",
   "metadata": {},
   "source": [
    "*complex*: Komplexe Zahlen"
   ]
  },
  {
   "cell_type": "code",
   "execution_count": 5,
   "metadata": {},
   "outputs": [
    {
     "data": {
      "text/plain": [
       "complex"
      ]
     },
     "execution_count": 5,
     "metadata": {},
     "output_type": "execute_result"
    }
   ],
   "source": [
    "c=3.1+2j\n",
    "type(c)"
   ]
  },
  {
   "cell_type": "markdown",
   "metadata": {},
   "source": [
    "*string*: Zeichenketten"
   ]
  },
  {
   "cell_type": "code",
   "execution_count": 7,
   "metadata": {},
   "outputs": [
    {
     "name": "stdout",
     "output_type": "stream",
     "text": [
      "Hallo\n",
      "<class 'str'>\n"
     ]
    }
   ],
   "source": [
    "s = 'Hallo'\n",
    "print(s)\n",
    "print(type(s))"
   ]
  },
  {
   "cell_type": "markdown",
   "metadata": {},
   "source": [
    "*boolean*: Boole'sche Variablen (wahr/falsch)"
   ]
  },
  {
   "cell_type": "code",
   "execution_count": 8,
   "metadata": {},
   "outputs": [
    {
     "data": {
      "text/plain": [
       "(True, bool)"
      ]
     },
     "execution_count": 8,
     "metadata": {},
     "output_type": "execute_result"
    }
   ],
   "source": [
    "d=(4>3)\n",
    "d, type(d)"
   ]
  },
  {
   "cell_type": "markdown",
   "metadata": {},
   "source": [
    "### Mathematische Operatoren\n",
    "\n",
    "| Operator | Operation |\n",
    "| ---- | ----- |\n",
    "| `+`  | Addition   |\n",
    "| `-`  | Subtraktion | \n",
    "| `*` | Multiplikation |\n",
    "| `/` | Division |\n",
    "| `//` | Integerdivision |\n",
    "| `**` | Potenzierung |\n",
    "|  `%` | Restdivision |"
   ]
  },
  {
   "cell_type": "code",
   "execution_count": 9,
   "metadata": {},
   "outputs": [
    {
     "data": {
      "text/plain": [
       "(16.0, float)"
      ]
     },
     "execution_count": 9,
     "metadata": {},
     "output_type": "execute_result"
    }
   ],
   "source": [
    "a=4\n",
    "b=2.\n",
    "z=a**b\n",
    "z, type(z)"
   ]
  },
  {
   "cell_type": "markdown",
   "metadata": {},
   "source": [
    "## Übung\n",
    "**1) Untersuchen Sie, welche Ergebnisse die Addition & Multiplikation zweier Variablen unterschiedlichen Typs haben:**\n",
    "* integer, float\n",
    "* complex, float\n",
    "* string, string\n",
    "* integer, boolean\n",
    "* integer, string\n",
    "\n",
    "Überlegen Sie vor der Ausführung, welches Ergebnis Sie erwarten würden."
   ]
  },
  {
   "cell_type": "code",
   "execution_count": 37,
   "metadata": {},
   "outputs": [
    {
     "name": "stdout",
     "output_type": "stream",
     "text": [
      "\n",
      "2*test erwartet float\n",
      "testtest <class 'str'>\n"
     ]
    }
   ],
   "source": [
    "a = 2\n",
    "b = \"test\"\n",
    "#print(str(a) + \"+\" + str(b), \"erwartet float\")\n",
    "#print(a+b, type(a+b))\n",
    "print()\n",
    "print(str(a) + \"*\" + str(b), \"erwartet float\")\n",
    "print(a*b, type(a*b))"
   ]
  },
  {
   "cell_type": "markdown",
   "metadata": {},
   "source": [
    "Für ein Beispiel die folgende Zelle öffnen."
   ]
  },
  {
   "cell_type": "code",
   "execution_count": null,
   "metadata": {
    "jupyter": {
     "source_hidden": true
    }
   },
   "outputs": [],
   "source": [
    "a=3\n",
    "b='Hallo'\n",
    "print(a,b)\n",
    "a*b"
   ]
  },
  {
   "cell_type": "markdown",
   "metadata": {},
   "source": [
    "**2) Berechnen Sie Umfang und Flächeninhalt eines rechtwinkligen Dreiecks, dessen kurze Seiten 2 und 3 Zentimeter lang sind:**"
   ]
  },
  {
   "cell_type": "code",
   "execution_count": 34,
   "metadata": {},
   "outputs": [
    {
     "name": "stdout",
     "output_type": "stream",
     "text": [
      "Area = 3.0\n",
      "Circumference = 8.60555127546399\n"
     ]
    }
   ],
   "source": [
    "a = 2\n",
    "b = 3\n",
    "\n",
    "# Hier eigenen Code schreiben ...\n",
    "Area = (a*b)/2\n",
    "Circumference = a + b + ((a**2)+(b**2))**(1/2)\n",
    "print(\"Area = \" + str(Area))\n",
    "print(\"Circumference = \" + str(Circumference))"
   ]
  }
 ],
 "metadata": {
  "kernelspec": {
   "display_name": "Python 3",
   "language": "python",
   "name": "python3"
  },
  "language_info": {
   "codemirror_mode": {
    "name": "ipython",
    "version": 3
   },
   "file_extension": ".py",
   "mimetype": "text/x-python",
   "name": "python",
   "nbconvert_exporter": "python",
   "pygments_lexer": "ipython3",
   "version": "3.7.6"
  }
 },
 "nbformat": 4,
 "nbformat_minor": 4
}
