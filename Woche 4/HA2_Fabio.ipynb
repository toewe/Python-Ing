{
 "cells": [
  {
   "cell_type": "markdown",
   "metadata": {},
   "source": [
    "# Hausaufgabe 2\n",
    "## Ablassung eines Stausees\n",
    "<!-- Lizensiert unter (CC BY 2.0) Gert Herold, 2020 -->\n",
    "\n",
    "Wegen Reparaturarbeiten an der Staumauer einer Talsperre soll das Wasser abgelassen werden. Der See habe ein Fassungsvermögen von $215 \\cdot 10^6\\,\\text{m}^3$. Die Oberfläche des Stausees erstrecke sich über $10\\,\\text{km}^2$. Der Wasserauslass auf Grundhöhe habe einen Querschnitt von $2\\,\\text{m}^2$. Der Fluss selbst werde so umgeleitet, dass kein Wasser in den See nachfließen kann."
   ]
  },
  {
   "cell_type": "markdown",
   "metadata": {},
   "source": [
    "**1) Es werde angenommen, die Form des Sees lasse sich mit einem umgedrehten [Kegel](https://de.wikipedia.org/wiki/Kegel_(Geometrie)) annähern. Wie tief ist dann der See?** "
   ]
  },
  {
   "cell_type": "code",
   "execution_count": 17,
   "metadata": {},
   "outputs": [
    {
     "name": "stdout",
     "output_type": "stream",
     "text": [
      "Die maximale Tiefe beträgt:  64.5 Meter\n"
     ]
    }
   ],
   "source": [
    "import math\n",
    "\n",
    "A0=10*1000**2 # Oberfläche in Quadratmetern\n",
    "V0=215*10**6     # Volumen in Kubikmetern\n",
    "\n",
    "h0=3*V0/(A0)\n",
    "print(\"Die maximale Tiefe beträgt: \",h0 ,\"Meter\")\n"
   ]
  },
  {
   "cell_type": "markdown",
   "metadata": {},
   "source": [
    "Vereinfachend werde angenommen, dass die sich ausbildende Strömung sich mithilfe der [Bernoulli-Gleichung](https://de.wikipedia.org/wiki/Bernoulli-Gleichung) beschreiben lasse:\n",
    "\n",
    "$$\n",
    "\\frac{u^2}{2}+\\frac{p}{\\rho}+g \\, z = \\text{const}\n",
    "$$\n",
    "\n",
    "Dabei beschreibt $u$ die Strömungsgeschwindigkeit des Fluids an einer beliebigen betrachteten Stelle, $p$ den hydrodynamischen Druck, $\\rho$ die Dichte und $z$ die Höhe. $g=9{,}81\\frac{\\text{m}}{\\text{s}^2}$ ist die Erdbeschleunigung. Werden nur die Seeoberfläche und der Ausfluss betrachtet, so kann der Druck $p$ ebenfalls als konstant angenommen werden, da er dem Umgebungsdruck entspricht. Ebenso wird die Dichte als konstant angenommen, und die obige Gleichung vereinfacht sich zu \n",
    "\n",
    "$$\n",
    "\\frac{u^2}{2}+g \\, z = \\text{const}\n",
    "$$\n",
    "\n",
    "bzw. für oben und unten:\n",
    "\n",
    "$$\n",
    "\\frac{u_\\text{oben}^2}{2}+g \\, z_\\text{oben} = \\frac{u_\\text{unten}^2}{2}+g \\, z_\\text{unten}\n",
    "$$"
   ]
  },
  {
   "cell_type": "markdown",
   "metadata": {},
   "source": [
    "**2) Berechnen Sie die sich anfangs ausbildende Strömungsgeschwindigkeit am Ausfluss $u_\\text{unten,0}$ sowie den Volumenstrom $\\dot{V_0}$ unter der Annahme, dass die Bewegung der Seeoberfläche vernachlässigbar ist.**"
   ]
  },
  {
   "cell_type": "code",
   "execution_count": 26,
   "metadata": {},
   "outputs": [
    {
     "name": "stdout",
     "output_type": "stream",
     "text": [
      "Die Geschwindigkeit bei vollen Füllstand beträgt unten: 35.57 m/s\n"
     ]
    }
   ],
   "source": [
    "def Ausflussgeschwindigkeit(h):\n",
    "\n",
    "    g=9.81  # Erdbeschleunigung in m/s^2\n",
    "\n",
    "    U=(2*(g*h))**0.5 # Ausflussgeschwindigkeit in m/s\n",
    "    return U\n",
    "\n",
    "U0=Ausflussgeschwindigkeit(h0)\n",
    "print(f\"Die Geschwindigkeit bei vollen Füllstand beträgt unten: {U0:.2f} m/s\")"
   ]
  },
  {
   "cell_type": "markdown",
   "metadata": {},
   "source": [
    "Tipp: Um die Kreiszahl $\\pi$ unter Python verwenden zu können, muss man sie entweder selbst definieren oder z.B. aus dem [NumPy-Modul](https://numpy.org/) importieren. Für ein Beispiel den folgenden Code-Abschnitt öffnen."
   ]
  },
  {
   "cell_type": "code",
   "execution_count": 84,
   "metadata": {},
   "outputs": [
    {
     "name": "stdout",
     "output_type": "stream",
     "text": [
      "Radius: 1.78 km\n",
      "215000000\n"
     ]
    }
   ],
   "source": [
    "from numpy import pi\n",
    "\n",
    "# Berechne den \"Radius\" der Seeoberfläche\n",
    "r0 = (A0/pi)**0.5\n",
    "print(f'Radius: {r0/1000:.2f} km')"
   ]
  },
  {
   "cell_type": "markdown",
   "metadata": {},
   "source": [
    "**3) Schreiben Sie eine Funktion, die die Tiefe des \"Kegel\"-Sees allgemein abhängig von der enthaltenen Wassermenge bestimmt.**"
   ]
  },
  {
   "cell_type": "code",
   "execution_count": 88,
   "metadata": {},
   "outputs": [
    {
     "name": "stdout",
     "output_type": "stream",
     "text": [
      "Die Tiefe beträgt: 64.50 m\n",
      "[64.49999999999999, 61.94095649266515, 59.2094761173876, 56.270321267189374, 53.07473598679355, 49.55195729617794, 45.592402932321875, 41.009757320393895, 35.43671011748743, 27.915220690293722, 11.608225817996598]\n"
     ]
    }
   ],
   "source": [
    "def tiefe(V):\n",
    "    h=(3/pi*h0**2/(r0**2)*V)**(1/3) \n",
    "    return h\n",
    "\n",
    "h=tiefe(215*10**6)\n",
    "print(f'Die Tiefe beträgt: {h:.2f} m')"
   ]
  },
  {
   "cell_type": "markdown",
   "metadata": {},
   "source": [
    "**4) Schreiben Sie eine Funktion, die ausgehend von einem Startvolumen $V_0$ und einer gegebenen Zeitschrittweite $\\Delta t$ den diskreten Zeitverlauf der Wassertiefe $h(t)$ bis zur Leerung des Sees zurückgibt. Beachten Sie, dass sich auch der Volumenstrom zeitlich ändert.** *(Hinweis: Die Änderung des Volumens lässt sich annähernd über $V_{n+1}=V_n-\\dot{V_n} \\cdot \\Delta t$ beschreiben.)*"
   ]
  },
  {
   "cell_type": "code",
   "execution_count": 91,
   "metadata": {},
   "outputs": [],
   "source": [
    "def abfluss(V0, dt, Fall):  # Fall =='Kegel' oder 'Zylinder'\n",
    "    V=V0   # Startvolumen in m^3\n",
    "    A_Auslass=2  # Auslassfläche in m^2\n",
    "    i=0\n",
    "    t_list=[]\n",
    "    h_list=[]\n",
    "    \n",
    "    while V>=0 :\n",
    "        if Fall=='Kegel':\n",
    "            h=tiefe(V) # Akutelle Tiefe in m für den Kegel\n",
    "        elif Fall=='Zylinder':   \n",
    "            h=tiefeZylinder(V) # Akutelle Tiefe in m für den Zylinder\n",
    "            \n",
    "        U=Ausflussgeschwindigkeit(h) #Aktuelle Ausflussgeschwindigkeit in m/s\n",
    "        V_Strom=U*A_Auslass # Aktueller Volumenstrom in m^3/s\n",
    "        V=V-V_Strom*dt #Volumenschritt nach expliziter Zeititereation\n",
    "        \n",
    "        t_list=t_list+[i*dt]\n",
    "        h_list=h_list+[h]\n",
    "        i+=1\n",
    "    return t_list, h_list "
   ]
  },
  {
   "cell_type": "markdown",
   "metadata": {},
   "source": [
    "**5) Wie lange dauert es, bis der Stausee komplett abgelassen wurde? Plotten Sie den Zeitverlauf der Wassertiefe bis zur Leerung für zwei Zeitschrittweiten:**\n",
    "  * $\\Delta t_1$ = 1 Minute\n",
    "  * $\\Delta t_2$ = 4 Tage\n",
    "\n",
    "**Diskutieren Sie Auffälligkeiten.**"
   ]
  },
  {
   "cell_type": "code",
   "execution_count": 92,
   "metadata": {},
   "outputs": [
    {
     "data": {
      "image/png": "[encoded data removed]",
      "text/plain": [
       "<Figure size 432x288 with 1 Axes>"
      ]
     },
     "metadata": {
      "needs_background": "light"
     },
     "output_type": "display_data"
    }
   ],
   "source": [
    "%matplotlib inline\n",
    "from matplotlib.pyplot import plot, show\n",
    "\n",
    "#t=1*60        # 1 Minute in Sekunden\n",
    "dt=1*60*60*24*4        # 4 Tage in Sekunden\n",
    "\n",
    "[t_list, h_list]=abfluss(V0,dt,'Kegel')\n",
    "\n",
    "plot(t_list, h_list)\n",
    "show()"
   ]
  },
  {
   "cell_type": "markdown",
   "metadata": {},
   "source": [
    "**6) Wiederholen Sie Aufgabenteil 5) unter der Annahme, dass der See bei gleichem Volumen und gleicher Oberfläche annähernd durch einen *Zylinder* beschrieben wird. Vermeiden Sie soweit wie möglich redundanten Code.**"
   ]
  },
  {
   "cell_type": "code",
   "execution_count": 93,
   "metadata": {},
   "outputs": [
    {
     "data": {
      "image/png": "[encoded data removed]",
      "text/plain": [
       "<Figure size 432x288 with 1 Axes>"
      ]
     },
     "metadata": {
      "needs_background": "light"
     },
     "output_type": "display_data"
    }
   ],
   "source": [
    "def tiefeZylinder(V):\n",
    "    h=V/(r0**2*pi) \n",
    "    return h\n",
    "\n",
    "%matplotlib inline\n",
    "from matplotlib.pyplot import plot, show\n",
    "\n",
    "#dt=1*60        # 1 Minute in Sekunden\n",
    "dt=1*60*60*24*4        # 4 Tage in Sekunden\n",
    "\n",
    "[t_list, h_list]=abfluss(V0,dt,'Zylinder')\n",
    "\n",
    "plot(t_list, h_list)\n",
    "show()"
   ]
  }
 ],
 "metadata": {
  "kernelspec": {
   "display_name": "Python 3",
   "language": "python",
   "name": "python3"
  },
  "language_info": {
   "codemirror_mode": {
    "name": "ipython",
    "version": 3
   },
   "file_extension": ".py",
   "mimetype": "text/x-python",
   "name": "python",
   "nbconvert_exporter": "python",
   "pygments_lexer": "ipython3",
   "version": "3.7.4"
  }
 },
 "nbformat": 4,
 "nbformat_minor": 4
}
