{
 "cells": [
  {
   "cell_type": "markdown",
   "metadata": {},
   "source": [
    "# **Python für Ingenieure**\n",
    "<!-- Lizensiert unter (CC BY 2.0) Gert Herold, 2020 -->\n",
    "## 1.2. Sequentielle Datentypen\n",
    "\n",
    "Häufig ist es sinnvoll, mehrere Elemente in einer Variable zu speichern. So ist z. B. eine *string*-Variable eine Sequenz von Einzelzeichen, die hintereinander abgespeichert werden.\n",
    "Auf einzelne Elemente einer Sequenz kann über eine Adressierung ein eckigen Klammern (`[ ]`) zugegriffen werden:"
   ]
  },
  {
   "cell_type": "code",
   "execution_count": 1,
   "metadata": {},
   "outputs": [
    {
     "name": "stdout",
     "output_type": "stream",
     "text": [
      "Anzahl der Elemente: 20 \n",
      "Ein Element der Sequenz: H\n"
     ]
    }
   ],
   "source": [
    "x = 'Der Himmel ist blau.'\n",
    "print('Anzahl der Elemente:', len(x), '\\nEin Element der Sequenz:', x[4])"
   ]
  },
  {
   "cell_type": "markdown",
   "metadata": {},
   "source": [
    "**Achtung:** Die Indizierung in Python ist generell *nullbasiert*, d.h. der Zugriff auf das erste Element einer Sequenz erfolgt über den Index 0:"
   ]
  },
  {
   "cell_type": "code",
   "execution_count": 2,
   "metadata": {},
   "outputs": [
    {
     "data": {
      "text/plain": [
       "'D'"
      ]
     },
     "execution_count": 2,
     "metadata": {},
     "output_type": "execute_result"
    }
   ],
   "source": [
    "x[0]"
   ]
  },
  {
   "cell_type": "markdown",
   "metadata": {},
   "source": [
    "Der Index des letzten Elements ist dementsprechend:"
   ]
  },
  {
   "cell_type": "code",
   "execution_count": 4,
   "metadata": {},
   "outputs": [
    {
     "data": {
      "text/plain": [
       "'.'"
      ]
     },
     "execution_count": 4,
     "metadata": {},
     "output_type": "execute_result"
    }
   ],
   "source": [
    "x[len(x)-1]"
   ]
  },
  {
   "cell_type": "markdown",
   "metadata": {},
   "source": [
    "Eine Besonderheit in Python ist, dass die Indizierung der Elemente nicht nur ausgehend vom Anfang einer Sequenz, sondern auch von deren Ende geschehen kann:"
   ]
  },
  {
   "cell_type": "code",
   "execution_count": 5,
   "metadata": {},
   "outputs": [
    {
     "data": {
      "text/plain": [
       "'.'"
      ]
     },
     "execution_count": 5,
     "metadata": {},
     "output_type": "execute_result"
    }
   ],
   "source": [
    "x[-1]"
   ]
  },
  {
   "cell_type": "markdown",
   "metadata": {},
   "source": [
    "Für einen Zugriff auf mehrere aufeinanderfolgende Elemente werden Anfangs- und End-Index mit einem Doppelpunkt getrennt.\n",
    "\n",
    "**Achtung:** Der zweite Index adressiert das Element, das gerade *nicht* mehr enthalten sein soll. "
   ]
  },
  {
   "cell_type": "code",
   "execution_count": 21,
   "metadata": {},
   "outputs": [
    {
     "data": {
      "text/plain": [
       "[0, 7, 14, 21, 28, 35, 42, 49, 56, 63, 70, 77, 84, 91, 98]"
      ]
     },
     "execution_count": 21,
     "metadata": {},
     "output_type": "execute_result"
    }
   ],
   "source": [
    "u = [1, 2, 3, [4, 5]]\n",
    "y[0:100:7]"
   ]
  },
  {
   "cell_type": "markdown",
   "metadata": {},
   "source": [
    "### 1.2.1. Listen\n",
    "\n",
    "Um Variablen beliebigen Typs als Sequenz zusammenzufassen, kann der Datentyp `list` verwendet werden."
   ]
  },
  {
   "cell_type": "code",
   "execution_count": 22,
   "metadata": {},
   "outputs": [
    {
     "name": "stdout",
     "output_type": "stream",
     "text": [
      "<class 'list'>\n"
     ]
    },
    {
     "data": {
      "text/plain": [
       "[1, 3, 5, 2, 4, 1, 3, 2]"
      ]
     },
     "execution_count": 22,
     "metadata": {},
     "output_type": "execute_result"
    }
   ],
   "source": [
    "a = [1,3,5,2,4,1,3,2]\n",
    "print(type(a))\n",
    "a"
   ]
  },
  {
   "cell_type": "markdown",
   "metadata": {},
   "source": [
    "Die Definition einer Liste erfolgt über eckige Klammern (`[ ]`), die die durch Kommas abgetrennten Elemente umfasst.\n",
    "\n",
    "Sofern es die Elemente der Liste erlauben, können auch einfache Listenoperationen, wie das Auffinden des Maximums oder die Berechnung der Gesamtsumme durchgeführt werden:"
   ]
  },
  {
   "cell_type": "code",
   "execution_count": 23,
   "metadata": {},
   "outputs": [
    {
     "name": "stdout",
     "output_type": "stream",
     "text": [
      "Summe: 21\n",
      "Maximum: 5\n"
     ]
    }
   ],
   "source": [
    "print('Summe:',sum(a))\n",
    "print('Maximum:',max(a))"
   ]
  },
  {
   "cell_type": "markdown",
   "metadata": {},
   "source": [
    "Prinzipiell können die Elemente einer Liste auch unterschiedlichen Typs sein:"
   ]
  },
  {
   "cell_type": "code",
   "execution_count": 24,
   "metadata": {},
   "outputs": [
    {
     "data": {
      "text/plain": [
       "[3, (1.41+2j), [1, 3, 5, 2, 4, 1, 3, 2], 'Der Himmel ist blau.', 'Aha!']"
      ]
     },
     "execution_count": 24,
     "metadata": {},
     "output_type": "execute_result"
    }
   ],
   "source": [
    "b = [3, 1.41+2j, a, x, 'Aha!']\n",
    "b"
   ]
  },
  {
   "cell_type": "markdown",
   "metadata": {},
   "source": [
    "Um einer Liste ein oder mehrere Elemente hinzuzufügen, kann folgende Syntax verwendet werden:"
   ]
  },
  {
   "cell_type": "code",
   "execution_count": 25,
   "metadata": {},
   "outputs": [
    {
     "data": {
      "text/plain": [
       "[3, (1.41+2j), [1, 3, 5, 2, 4, 1, 3, 2], 'Der Himmel ist blau.', 'Aha!', 15]"
      ]
     },
     "execution_count": 25,
     "metadata": {},
     "output_type": "execute_result"
    }
   ],
   "source": [
    "c = b + [15]\n",
    "c"
   ]
  },
  {
   "cell_type": "markdown",
   "metadata": {},
   "source": [
    "Beschreibungen zu weiteren Möglichkeiten der Listenbearbeitung finden sich unter anderem in der \n",
    "[Online-Python-Dokumentation](https://docs.python.org/3/tutorial/datastructures.html#more-on-lists).\n",
    "Beispielhaft seien noch genannt:"
   ]
  },
  {
   "cell_type": "code",
   "execution_count": 26,
   "metadata": {},
   "outputs": [
    {
     "data": {
      "text/plain": [
       "[3,\n",
       " 'abc',\n",
       " (1.41+2j),\n",
       " [1, 3, 5, 2, 4, 1, 3, 2],\n",
       " 'Der Himmel ist blau.',\n",
       " 'Aha!',\n",
       " 28.3,\n",
       " -1,\n",
       " -2,\n",
       " -3]"
      ]
     },
     "execution_count": 26,
     "metadata": {},
     "output_type": "execute_result"
    }
   ],
   "source": [
    "c.remove(15) # Element aus einer Liste entfernen; wenn mehrfach vorhanden, wird das erste entfernt\n",
    "c.append(28.3) # Element an Liste anhängen\n",
    "c.insert(1,'abc') # Element an bestimmte Position in Liste einfügen\n",
    "c.extend([-1,-2,-3]) # Liste um mehrere Elemente erweitern\n",
    "c"
   ]
  },
  {
   "cell_type": "markdown",
   "metadata": {},
   "source": [
    "### 1.2.2. Dictionaries\n",
    "\n",
    "Eine Besonderheit der Programmiersprache Python ist der Datentyp *dictionary*. Im Gegensatz zu Listen, deren Werte (*values*) über Indizes abgerufen werden, nimmt hier ein Schlüssel (*key*) die Funktion der Indizes ein. \n",
    "Ähnlich einer Tabelle entsprechen die Elemente ein *Key-Value*-Paar.\n",
    "Sowohl die *Keys* als auch die *Values* können beliebigen Typs sein. Jedoch darf wegen der Eindeutigkeit der Zuordnung jeder *Key* nur einmal in einem Dictionary vorkommen.\n",
    "Die Syntax zu Erstellung eines Dictionarys lautet:\n",
    "```python\n",
    "variablenname = {key1 : value1, key2 : value2, ...}\n",
    "```\n",
    "\n",
    "**Beispiel**: Die Telefonnummern der Mitarbeiter eines Fachgebiets seien gegeben:\n",
    "\n",
    "| Name        | Telefon |\n",
    "|-------------|---------|\n",
    "| Herold      | 24862   |\n",
    "| Schneehagen | 23419   |\n",
    "| Stampka     | 22991   |\n",
    "| Kujawski    | 25212   |\n",
    "| Masovic     | 22761   |\n",
    "| Jekosch     | 25211   |\n",
    "| Paskiewicz  | 29403   |\n",
    "\n",
    "Die Definition eines entsprechenden Dictionarys unter Python sieht dann wie folgt aus:"
   ]
  },
  {
   "cell_type": "code",
   "execution_count": 31,
   "metadata": {},
   "outputs": [],
   "source": [
    "tel_nr = {'Herold'      : 24862 ,\n",
    "          'Schneehagen' : 23419 ,\n",
    "          'Stampka'     : 22991 ,\n",
    "          'Kujawski'    : 25212 ,\n",
    "          'Masovic'     : 22761 ,\n",
    "          'Jekosch'     : 25211 ,\n",
    "          'Paskiewicz'  : 29403}"
   ]
  },
  {
   "cell_type": "markdown",
   "metadata": {},
   "source": [
    "Und der Abruf einzelner Elemente so:"
   ]
  },
  {
   "cell_type": "code",
   "execution_count": 36,
   "metadata": {},
   "outputs": [
    {
     "ename": "SyntaxError",
     "evalue": "invalid syntax (<ipython-input-36-efdf8c1d5efe>, line 1)",
     "output_type": "error",
     "traceback": [
      "\u001b[1;36m  File \u001b[1;32m\"<ipython-input-36-efdf8c1d5efe>\"\u001b[1;36m, line \u001b[1;32m1\u001b[0m\n\u001b[1;33m    tel_nr[]\u001b[0m\n\u001b[1;37m           ^\u001b[0m\n\u001b[1;31mSyntaxError\u001b[0m\u001b[1;31m:\u001b[0m invalid syntax\n"
     ]
    }
   ],
   "source": [
    "tel_nr[]"
   ]
  },
  {
   "cell_type": "markdown",
   "metadata": {},
   "source": [
    "Wird auf einen Key zugegriffen, der noch nicht existiert, wird ein neues Element hinzugefügt:"
   ]
  },
  {
   "cell_type": "code",
   "execution_count": 37,
   "metadata": {},
   "outputs": [
    {
     "data": {
      "text/plain": [
       "{'Herold': 24862,\n",
       " 'Schneehagen': 23419,\n",
       " 'Stampka': 22991,\n",
       " 'Kujawski': 25212,\n",
       " 'Masovic': 22761,\n",
       " 'Jekosch': 25211,\n",
       " 'Paskiewicz': 29403,\n",
       " 'Tschakert': 22428}"
      ]
     },
     "execution_count": 37,
     "metadata": {},
     "output_type": "execute_result"
    }
   ],
   "source": [
    "tel_nr['Tschakert']=22428\n",
    "tel_nr"
   ]
  },
  {
   "cell_type": "markdown",
   "metadata": {},
   "source": [
    "Abruf aller enthaltenen Keys und Werte:"
   ]
  },
  {
   "cell_type": "code",
   "execution_count": 38,
   "metadata": {},
   "outputs": [
    {
     "name": "stdout",
     "output_type": "stream",
     "text": [
      "dict_keys(['Herold', 'Schneehagen', 'Stampka', 'Kujawski', 'Masovic', 'Jekosch', 'Paskiewicz', 'Tschakert'])\n",
      "dict_values([24862, 23419, 22991, 25212, 22761, 25211, 29403, 22428])\n"
     ]
    }
   ],
   "source": [
    "print(tel_nr.keys())\n",
    "print(tel_nr.values())"
   ]
  },
  {
   "cell_type": "markdown",
   "metadata": {},
   "source": [
    "### 1.2.3. *set* und *tuple*\n",
    "\n",
    "Auf die Datentypen *set* (Menge) und *tuple* (Tupel) soll hier nur kurz eingegangen werden.\n",
    "\n",
    "Ein Set ist die Python-Entsprechung des [mathematischen Mengen-Begriffs](https://de.wikipedia.org/wiki/Menge_(Mathematik)). Jedes Element kann hier nur einmal vorkommen und auf die Elemente unterliegen keiner vorgegebenen Ordnung."
   ]
  },
  {
   "cell_type": "code",
   "execution_count": 44,
   "metadata": {},
   "outputs": [
    {
     "name": "stdout",
     "output_type": "stream",
     "text": [
      "[1, 3, 9, 5, 2, 4, 1, 3, 2] <class 'list'>\n",
      "{1, 2, 3, 4, 5, 9} <class 'set'>\n"
     ]
    },
    {
     "data": {
      "text/plain": [
       "[1, 2, 3, 4, 5, 9]"
      ]
     },
     "execution_count": 44,
     "metadata": {},
     "output_type": "execute_result"
    }
   ],
   "source": [
    "a = [1,3,9,5,2,4,1,3,2]\n",
    "a_set  = set(a)\n",
    "a_list = list(a_set)\n",
    "print(a, type(a))\n",
    "print(a_set, type(a_set))\n",
    "3 in a_set # Ist 3 Element der Menge a_set?\n",
    "a_list"
   ]
  },
  {
   "cell_type": "markdown",
   "metadata": {},
   "source": [
    "Ein Tupel ist eine Liste, die nicht verändert werden kann. Dies ist z.B. dann sinnvoll, wenn bestimmte Variablen in fester Reihenfolge zusammengefasst werden sollen."
   ]
  },
  {
   "cell_type": "code",
   "execution_count": 42,
   "metadata": {},
   "outputs": [
    {
     "name": "stdout",
     "output_type": "stream",
     "text": [
      "(3, 4, 5) <class 'tuple'>\n"
     ]
    },
    {
     "data": {
      "text/plain": [
       "True"
      ]
     },
     "execution_count": 42,
     "metadata": {},
     "output_type": "execute_result"
    }
   ],
   "source": [
    "dreieck = 3,4,5 # definiere ein Dreieck über drei Seitenlängen\n",
    "print(dreieck, type(dreieck))\n",
    "a,b,c = dreieck\n",
    "rechtwinklig = (a*a+b*b == c*c) # Handelt es sich um ein rechtwinkliges Dreieck mit Hypothenuse c und Katheden a und b?\n",
    "rechtwinklig "
   ]
  },
  {
   "cell_type": "markdown",
   "metadata": {},
   "source": [
    "## Übung\n",
    "**1) Interpretieren Sie das Ergebnis der folgenden Indizierungen. Was sind die dahinterliegenden Syntaxregeln?**"
   ]
  },
  {
   "cell_type": "code",
   "execution_count": 45,
   "metadata": {},
   "outputs": [
    {
     "name": "stdout",
     "output_type": "stream",
     "text": [
      "Der Himmel ist blau.\n",
      "er Himmel ist blau\n",
      "Himmel ist blau.\n"
     ]
    }
   ],
   "source": [
    "x = 'Der Himmel ist blau.'\n",
    "print(x[0:len(x)])\n",
    "print(x[1:-1])\n",
    "print(x[4:])"
   ]
  },
  {
   "cell_type": "code",
   "execution_count": 46,
   "metadata": {},
   "outputs": [
    {
     "name": "stdout",
     "output_type": "stream",
     "text": [
      "er Himmel ist blau\n",
      "DrHme\n",
      "D mlsbu\n"
     ]
    }
   ],
   "source": [
    "print(x[1:-1:1])\n",
    "print(x[0:10:2])\n",
    "print(x[0:20:3])"
   ]
  },
  {
   "cell_type": "code",
   "execution_count": 47,
   "metadata": {},
   "outputs": [
    {
     "name": "stdout",
     "output_type": "stream",
     "text": [
      "DrHme s lu\n",
      "e imlitba.\n",
      "Der Himmel ist blau.\n"
     ]
    }
   ],
   "source": [
    "print(x[::2])\n",
    "print(x[1::2])\n",
    "print(x[:])"
   ]
  },
  {
   "cell_type": "code",
   "execution_count": 48,
   "metadata": {},
   "outputs": [
    {
     "name": "stdout",
     "output_type": "stream",
     "text": [
      ".ualb tsi lemmiH reD\n",
      ".abtilmi e\n",
      "Der Himmel ist bla\n"
     ]
    }
   ],
   "source": [
    "print(x[::-1])\n",
    "print(x[::-2])\n",
    "print(x[:-2])"
   ]
  },
  {
   "cell_type": "markdown",
   "metadata": {},
   "source": [
    "**2) Geben Sie die Zeichenkette \"`blau ist Der Himmel.`\" mithilfe von Indizierungen der Variablen `x` aus. Versuchen Sie, den Befehl so kurz wie möglich zu halten.**"
   ]
  },
  {
   "cell_type": "code",
   "execution_count": 49,
   "metadata": {},
   "outputs": [
    {
     "name": "stdout",
     "output_type": "stream",
     "text": [
      "\n"
     ]
    },
    {
     "data": {
      "text/plain": [
       "20"
      ]
     },
     "execution_count": 49,
     "metadata": {},
     "output_type": "execute_result"
    }
   ],
   "source": [
    "print(15:)\n",
    "len(x)\n"
   ]
  }
 ],
 "metadata": {
  "kernelspec": {
   "display_name": "Python 3",
   "language": "python",
   "name": "python3"
  },
  "language_info": {
   "codemirror_mode": {
    "name": "ipython",
    "version": 3
   },
   "file_extension": ".py",
   "mimetype": "text/x-python",
   "name": "python",
   "nbconvert_exporter": "python",
   "pygments_lexer": "ipython3",
   "version": "3.7.6"
  }
 },
 "nbformat": 4,
 "nbformat_minor": 4
}
