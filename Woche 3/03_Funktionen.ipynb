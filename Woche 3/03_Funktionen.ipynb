{
 "cells": [
  {
   "cell_type": "markdown",
   "metadata": {},
   "source": [
    "# **Python für Ingenieure**\n",
    "<!-- Lizensiert unter (CC BY 2.0) Gert Herold, 2020 -->\n",
    "# 3. Funktionen\n",
    "\n",
    "An verschiedenen Programmstellen benötigte Algorithmen werden für das für effizientes Abrufen in Funktionen gespeichert. Die Syntax einer Funktionsdefinition sieht so aus:\n",
    "\n",
    "```python\n",
    "def funktionsname(parameterliste):\n",
    "    anweisung1\n",
    "    anweisung2\n",
    "    ...\n",
    "    return ergebnis\n",
    "```\n",
    "\n",
    "Bereits kennengelernt haben wir z.B. die *print*-Funktion, die als Parameter eine Variable (etwa einen String) übergeben bekommt und diese dann ausgibt, sowie die *sum*-Funktion, die die Summe der Werte einer übergebenen Liste zurückgibt.\n",
    "<!-- Übung p-q-Formel als Funktion-->"
   ]
  },
  {
   "cell_type": "code",
   "execution_count": null,
   "metadata": {},
   "outputs": [],
   "source": [
    "# Beispiel: eine Funktion, die arithmetischen und geometrischen Mittelwert zweier Zahlen berechnet\n",
    "def mw(a,b):\n",
    "    am = (a+b)/2\n",
    "    gm = (a*b)**0.5\n",
    "    return am, gm\n",
    "\n",
    "print(mw(1,2))\n",
    "print(mw(11,125))"
   ]
  },
  {
   "cell_type": "markdown",
   "metadata": {},
   "source": [
    "Eine Funktion muss nicht zwingend eine Parameterliste haben oder einen Wert zurückgeben. Bei einem Aufruf müssen dennoch die (leeren) Klammern gesetzt werden."
   ]
  },
  {
   "cell_type": "code",
   "execution_count": null,
   "metadata": {},
   "outputs": [],
   "source": [
    "def schreib():\n",
    "    print('Was denn?')\n",
    "\n",
    "schreib()"
   ]
  },
  {
   "cell_type": "markdown",
   "metadata": {},
   "source": [
    "Der Standard-Rückgabewert ist dann `None`:"
   ]
  },
  {
   "cell_type": "code",
   "execution_count": null,
   "metadata": {},
   "outputs": [],
   "source": [
    "print(schreib())"
   ]
  },
  {
   "cell_type": "markdown",
   "metadata": {},
   "source": [
    "## 3.1. Parameterliste\n",
    "\n",
    "Es können beliebig viele Parameter abgefragt werden. Beim Aufruf einer Funktion wird implizit erwartet, dass die Reihenfolge der Parameter der Definition entspricht:"
   ]
  },
  {
   "cell_type": "code",
   "execution_count": null,
   "metadata": {},
   "outputs": [],
   "source": [
    "def potenziere(basis, exponent, faktor):\n",
    "    return faktor*basis**exponent\n",
    "\n",
    "potenziere(2,3,1)"
   ]
  },
  {
   "cell_type": "markdown",
   "metadata": {},
   "source": [
    "Alternativ kann beim Aufruf der Name der Parameter mit angegeben werden. Dann muss die Reihenfolge nicht eingehalten werden:"
   ]
  },
  {
   "cell_type": "code",
   "execution_count": null,
   "metadata": {},
   "outputs": [],
   "source": [
    "potenziere(faktor=1, basis=2, exponent=3)"
   ]
  },
  {
   "cell_type": "markdown",
   "metadata": {},
   "source": [
    "Für den Fall, dass beim Aufruf bestimmte Parameter nur *optional* gesetzt werden sollen, können Standardwerte definiert werden:"
   ]
  },
  {
   "cell_type": "code",
   "execution_count": null,
   "metadata": {},
   "outputs": [],
   "source": [
    "def potenziere(basis, exponent=2, faktor=1):\n",
    "    return faktor*basis**exponent\n",
    "\n",
    "print(potenziere(2,3,5))\n",
    "print(potenziere(2,3))\n",
    "print(potenziere(2))"
   ]
  },
  {
   "cell_type": "markdown",
   "metadata": {},
   "source": [
    "## 3.2. Globale und lokale Variablen\n",
    "\n",
    "Sollen an eine Funktion übergebene Variablen darin verändert werden, so muss es sich dabei um Variablen handeln, deren Inhalt ohne Neuzuweisung veränderbar ist (wie z.B. Listen)."
   ]
  },
  {
   "cell_type": "code",
   "execution_count": null,
   "metadata": {},
   "outputs": [],
   "source": [
    "def addier_was_drauf(x,y):\n",
    "    x = x+10\n",
    "    y[0] = y[0]+10\n",
    "    print('  In Funktion:',x,y)\n",
    "\n",
    "a = 1\n",
    "b = [2]\n",
    "print(' Vor Funktion:',a,b)\n",
    "addier_was_drauf(a,b)\n",
    "print('Nach Funktion:',a,b)"
   ]
  },
  {
   "cell_type": "markdown",
   "metadata": {},
   "source": [
    "Variablen in einer Funktion sind immer *lokal*, d.h. außerhalb dieser nicht bekannt. \n",
    "Man spricht auch vom *lokalen Namensraum* (engl. *local namespace*).\n",
    "Umgekehrt sind Variablen, die vor der Funktionsdeklaration schon existieren, innerhalb der Funktion abrufbar.\n",
    "Für ihre Veränderung gelten aber dieselben Regeln wie für Variablen, die über die Parameterliste übergeben werden."
   ]
  },
  {
   "cell_type": "code",
   "execution_count": null,
   "metadata": {},
   "outputs": [],
   "source": [
    "a = 1\n",
    "b = [2]\n",
    "\n",
    "def machwas():\n",
    "    b = a+10\n",
    "    print('  In Funktion 1:',a,b)\n",
    "\n",
    "machwas()\n",
    "print('Nach Funktion 1:',a,b)\n",
    "\n",
    "def machwasandres():\n",
    "    b[0] = b[0]+10\n",
    "    a = 1234\n",
    "    print('  In Funktion 2:',a,b)\n",
    "\n",
    "machwasandres()\n",
    "print('Nach Funktion 2:',a,b)"
   ]
  },
  {
   "cell_type": "markdown",
   "metadata": {},
   "source": [
    "Allerdings gibt es die Möglichkeit, explizit anzugeben, dass man eine Variable auch innerhalb einer Funktion als *global* behandeln möchte:"
   ]
  },
  {
   "cell_type": "code",
   "execution_count": null,
   "metadata": {},
   "outputs": [],
   "source": [
    "a = 1\n",
    "b = [2]\n",
    "\n",
    "def machwasandres():\n",
    "    global a\n",
    "    b[0] = b[0]+10\n",
    "    a = 1234\n",
    "    print('  In Funktion 2:',a,b)\n",
    "\n",
    "machwasandres()\n",
    "print('Nach Funktion 2:',a,b)"
   ]
  },
  {
   "cell_type": "markdown",
   "metadata": {},
   "source": [
    "## Übung\n",
    "\n",
    "**1) Schreiben Sie eine Funktion, die die Fakultät einer ihr übergebenen Zahl berechnet und zurückgibt.**"
   ]
  },
  {
   "cell_type": "code",
   "execution_count": null,
   "metadata": {},
   "outputs": [],
   "source": [
    "# Hier eigenen Code schreiben ...\n",
    "      "
   ]
  },
  {
   "cell_type": "markdown",
   "metadata": {},
   "source": [
    "**2) Schreiben Sie eine Funktion, die ...**\n",
    " * ... das Produkt zweier Zahlen zurückgibt, wenn sie zwei Parameter übergeben bekommt.\n",
    " * ... das Quadrat einer Zahl zurückgibt, wenn sie nur einen Parameter übergeben bekommt."
   ]
  },
  {
   "cell_type": "code",
   "execution_count": null,
   "metadata": {},
   "outputs": [],
   "source": [
    "# Hier eigenen Code schreiben ...\n"
   ]
  },
  {
   "cell_type": "markdown",
   "metadata": {},
   "source": [
    "**3) Schreiben Sie eine Funktion, die für einen ihr übergebenen Text eine Statistik ausgibt. Diese soll enthalten:**\n",
    "  * Anzahl der Zeichen\n",
    "  * Anzahl der [Wörter](https://docs.python.org/3/library/stdtypes.html#str.split)\n",
    "  * Anzahl der Vokale"
   ]
  },
  {
   "cell_type": "code",
   "execution_count": null,
   "metadata": {},
   "outputs": [],
   "source": [
    "# Hier eigenen Code schreiben ...\n"
   ]
  }
 ],
 "metadata": {
  "kernelspec": {
   "display_name": "Python 3",
   "language": "python",
   "name": "python3"
  },
  "language_info": {
   "codemirror_mode": {
    "name": "ipython",
    "version": 3
   },
   "file_extension": ".py",
   "mimetype": "text/x-python",
   "name": "python",
   "nbconvert_exporter": "python",
   "pygments_lexer": "ipython3",
   "version": "3.7.4"
  }
 },
 "nbformat": 4,
 "nbformat_minor": 4
}
