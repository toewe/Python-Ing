{
 "cells": [
  {
   "cell_type": "markdown",
   "metadata": {},
   "source": [
    "# **Python für Ingenieure**\n",
    "## Extra Übungen 01 - Fingerübungen zu Kapitel 1\n",
    "Dies sind freiwillige Zusatzübungen.\n",
    "<br>"
   ]
  },
  {
   "cell_type": "markdown",
   "metadata": {},
   "source": [
    "**1) Wandeln Sie den folgenden Block in einen Markdownblock um und schreiben Sie ein Wort fett und eines kursiv:**"
   ]
  },
  {
   "cell_type": "markdown",
   "metadata": {},
   "source": []
  },
  {
   "cell_type": "markdown",
   "metadata": {},
   "source": [
    "Dieses Wort ist **fett** und dieses *kursiv*. Man kann auch ***beides*** verwenden."
   ]
  },
  {
   "cell_type": "markdown",
   "metadata": {},
   "source": [
    "**2) Berechnen Sie Oberfläche und Volumen eines Würfels mit der Seitenlänge 3 Meter:**"
   ]
  },
  {
   "cell_type": "code",
   "execution_count": 4,
   "metadata": {},
   "outputs": [
    {
     "name": "stdout",
     "output_type": "stream",
     "text": [
      "54\n",
      "27\n"
     ]
    }
   ],
   "source": [
    "a = 3\n",
    "Surface = (3**2)*6\n",
    "Volume = 3*3*3\n",
    "print(Surface)\n",
    "print(Volume)"
   ]
  },
  {
   "cell_type": "markdown",
   "metadata": {},
   "source": [
    "**3) Auf einer Autobahn soll alle 50 Meter ein Leitpfosten platziert werden. Berechnen Sie, wieviele Leitpfosten Sie für einen 1340 Meter langen Autobahnabschnitt benötigen:**"
   ]
  },
  {
   "cell_type": "code",
   "execution_count": 7,
   "metadata": {},
   "outputs": [
    {
     "name": "stdout",
     "output_type": "stream",
     "text": [
      "26\n"
     ]
    }
   ],
   "source": [
    "length = 1340\n",
    "distance = 50\n",
    "num_pfosten = length//distance\n",
    "print(num_pfosten)"
   ]
  },
  {
   "cell_type": "markdown",
   "metadata": {},
   "source": [
    "**4) Berechnen Sie, wie viele Karten übrig bleiben, wenn Sie 52 Karten gleichmäßig auf sieben Spieler verteilen:**"
   ]
  },
  {
   "cell_type": "code",
   "execution_count": 9,
   "metadata": {},
   "outputs": [
    {
     "name": "stdout",
     "output_type": "stream",
     "text": [
      "3\n"
     ]
    }
   ],
   "source": [
    "num_cards = 52\n",
    "num_players = 7\n",
    "leftover_cards = num_cards%num_players\n",
    "print(leftover_cards)"
   ]
  },
  {
   "cell_type": "markdown",
   "metadata": {},
   "source": [
    "**5) Schreiben Sie einen kurzen Programmabschnitt, der den kürzeren von zwei Namen um soviele Leerzeichen ergänzt, dass beide Strings die gleiche Länge haben.**\n",
    "<br> Vermeiden Sie es, die Länge der Namen selbst auszuzählen.\n",
    "\n",
    "Beispiel:\n",
    "```python\n",
    "name1 = \"AlanTuring\"\n",
    "name2 = \"MargaretHamilton\"\n",
    "```\n",
    "Gewünschtes Ergebnis:\n",
    "```python\n",
    "name1 = \"AlanTuring      \"\n",
    "name2 = \"MargaretHamilton\"\n",
    "```"
   ]
  },
  {
   "cell_type": "code",
   "execution_count": 13,
   "metadata": {},
   "outputs": [
    {
     "name": "stdout",
     "output_type": "stream",
     "text": [
      "AlanTuring      !\n",
      "MargaretHamilton!\n"
     ]
    }
   ],
   "source": [
    "name1 = \"AlanTuring\"\n",
    "name2 = \"MargaretHamilton\"\n",
    "if len(name1)>len(name2):\n",
    "    name2 = name2 + \" \"*(len(name1)-len(name2))\n",
    "else:\n",
    "    name1 = name1 + \" \"*(len(name2)-len(name1))\n",
    "print(name1+\"!\")\n",
    "print(name2+\"!\")"
   ]
  },
  {
   "cell_type": "markdown",
   "metadata": {},
   "source": [
    "**6) Fügen Sie dieser Liste Ihre Lieblingszahl hinzu:**\n"
   ]
  },
  {
   "cell_type": "code",
   "execution_count": 31,
   "metadata": {},
   "outputs": [
    {
     "data": {
      "text/plain": [
       "[1, 2, 3, 4, 128]"
      ]
     },
     "execution_count": 31,
     "metadata": {},
     "output_type": "execute_result"
    }
   ],
   "source": [
    "a = [1,2,3,4]\n",
    "a.append(128)\n",
    "a"
   ]
  },
  {
   "cell_type": "markdown",
   "metadata": {},
   "source": [
    "**7) Entfernen Sie Ihre Lieblingszahl wieder aus der Liste:**\n"
   ]
  },
  {
   "cell_type": "code",
   "execution_count": 32,
   "metadata": {},
   "outputs": [
    {
     "data": {
      "text/plain": [
       "[1, 2, 3, 4]"
      ]
     },
     "execution_count": 32,
     "metadata": {},
     "output_type": "execute_result"
    }
   ],
   "source": [
    "if 128 in a:\n",
    "    a.remove(128)\n",
    "a"
   ]
  },
  {
   "cell_type": "markdown",
   "metadata": {},
   "source": [
    "**8) Entfernen Sie alle Duplikate aus folgender Liste:** <br>\n",
    "Entfernen Sie die Duplikate möglichst nicht einzeln. <br>\n",
    "<br>\n",
    "Gewünschtes Ergebnis:\n",
    "```python\n",
    "b = [1,2,3,4,5]\n",
    "```"
   ]
  },
  {
   "cell_type": "code",
   "execution_count": 21,
   "metadata": {},
   "outputs": [
    {
     "data": {
      "text/plain": [
       "[1, 2, 3, 4, 5]"
      ]
     },
     "execution_count": 21,
     "metadata": {},
     "output_type": "execute_result"
    }
   ],
   "source": [
    "b = [1,1,1,1,1,1,1,1,2,2,2,2,1,3,2,3,4,4,4,4,4,5,2,5,3,5,5]\n",
    "b = list(set(b))\n",
    "b"
   ]
  },
  {
   "cell_type": "markdown",
   "metadata": {},
   "source": [
    "**9) Ermitteln Sie, was die Maximale und was die durchschnittliche Punktzahl ist! <br>\n",
    "Ermitteln Sie, ob Lisa mehr Punkte erzielt hat als Peter** *(Ausgabe als Boolean)* **:**"
   ]
  },
  {
   "cell_type": "code",
   "execution_count": 40,
   "metadata": {},
   "outputs": [
    {
     "name": "stdout",
     "output_type": "stream",
     "text": [
      "15\n",
      "11.0\n",
      "False\n"
     ]
    }
   ],
   "source": [
    "punkte = {'Peter'      : 10 ,\n",
    "          'Melanie'    : 15 ,\n",
    "          'Stefan'     : 7 ,\n",
    "          'Uwe'        : 14 ,\n",
    "          'Karla'      : 10 ,\n",
    "          'Heinz'      : 12 ,\n",
    "          'Lisa'       : 9}\n",
    "max_points = max(punkte.values())\n",
    "mean_points = sum(punkte.values())/len(punkte)\n",
    "Lisa_more_than_Peter = True if punkte['Lisa'] > punkte['Peter'] else False\n",
    "\n",
    "print(max_points)\n",
    "print(mean_points)\n",
    "print(Lisa_more_than_Peter)\n",
    "    "
   ]
  }
 ],
 "metadata": {
  "kernelspec": {
   "display_name": "Python 3",
   "language": "python",
   "name": "python3"
  },
  "language_info": {
   "codemirror_mode": {
    "name": "ipython",
    "version": 3
   },
   "file_extension": ".py",
   "mimetype": "text/x-python",
   "name": "python",
   "nbconvert_exporter": "python",
   "pygments_lexer": "ipython3",
   "version": "3.7.6"
  }
 },
 "nbformat": 4,
 "nbformat_minor": 4
}
