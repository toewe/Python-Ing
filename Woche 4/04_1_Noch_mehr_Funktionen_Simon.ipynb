{
 "cells": [
  {
   "cell_type": "markdown",
   "metadata": {},
   "source": [
    "# **Python für Ingenieure**\n",
    "<!-- Lizensiert unter (CC BY 2.0) Gert Herold, 2020 -->\n",
    "# 4. Noch mehr Funktionen \n",
    "\n",
    "## 4.1. *map, lambda, filter*\n",
    "\n",
    "Nehmen wir als Ausgangspunkt eine Liste"
   ]
  },
  {
   "cell_type": "code",
   "execution_count": 3,
   "metadata": {},
   "outputs": [],
   "source": [
    "a = [1,12,7,33,14,5,-3,6]"
   ]
  },
  {
   "cell_type": "markdown",
   "metadata": {},
   "source": [
    "**Beispiel 1:** Wir wollen alle Elemente dieser Liste quadrieren. Hierfür können wir eine Funktion schreiben und mittels einer Schleife diese auf alle Elemente der Liste anwenden und in einer neuen Liste speichern:"
   ]
  },
  {
   "cell_type": "code",
   "execution_count": 4,
   "metadata": {},
   "outputs": [
    {
     "data": {
      "text/plain": [
       "[1, 144, 49, 1089, 196, 25, 9, 36]"
      ]
     },
     "execution_count": 4,
     "metadata": {},
     "output_type": "execute_result"
    }
   ],
   "source": [
    "def quadriere(x):\n",
    "    return x*x\n",
    "\n",
    "a2 = []\n",
    "for i in a:\n",
    "    a2 += [quadriere(i)]\n",
    "a2"
   ]
  },
  {
   "cell_type": "markdown",
   "metadata": {},
   "source": [
    "Syntaktisch geht das auch etwas kürzer. Mit `map()` lässt sich eine Funktion auf eine Sequenz (z.B. eine Liste) anwenden:"
   ]
  },
  {
   "cell_type": "code",
   "execution_count": 7,
   "metadata": {},
   "outputs": [
    {
     "data": {
      "text/plain": [
       "[1, 144, 49, 1089, 196, 25, 9, 36]"
      ]
     },
     "execution_count": 7,
     "metadata": {},
     "output_type": "execute_result"
    }
   ],
   "source": [
    "list(map(quadriere,a)) # list() wandelt das Ergebnis in eine Liste um"
   ]
  },
  {
   "cell_type": "markdown",
   "metadata": {},
   "source": [
    "Mit `lambda` lassen sich \"anonyme\" Funktionen erstellen:"
   ]
  },
  {
   "cell_type": "code",
   "execution_count": null,
   "metadata": {},
   "outputs": [],
   "source": [
    "f = lambda x: x*x\n",
    "f(2)"
   ]
  },
  {
   "cell_type": "markdown",
   "metadata": {},
   "source": [
    "Damit lässt sich  die Aufgabe sogar ohne Funktionsdeklaration lösen:"
   ]
  },
  {
   "cell_type": "code",
   "execution_count": null,
   "metadata": {},
   "outputs": [],
   "source": [
    "list(map(lambda x: x*x,a))"
   ]
  },
  {
   "cell_type": "markdown",
   "metadata": {},
   "source": [
    "**Beispiel 2:** Wir wollen aus der Liste alle geraden Zahlen heraussuchen und als Liste speichern.\n",
    "Mit den bislang bekannten Tools geht das z.B. so:"
   ]
  },
  {
   "cell_type": "code",
   "execution_count": null,
   "metadata": {},
   "outputs": [],
   "source": [
    "a2 = []\n",
    "for i in a:\n",
    "    if i%2 ==0:\n",
    "        a2 += [i]\n",
    "a2"
   ]
  },
  {
   "cell_type": "markdown",
   "metadata": {},
   "source": [
    "Mit `filter` lassen sich aus einer Sequenz die Elemente herausfiltern, für die der Rückgabewert einer darauf angewendeten Funktion *True* ist:"
   ]
  },
  {
   "cell_type": "code",
   "execution_count": null,
   "metadata": {},
   "outputs": [],
   "source": [
    "# Suche aus Liste gerade Zahlen heraus:\n",
    "list(filter(lambda x: x%2==0,a))"
   ]
  },
  {
   "cell_type": "markdown",
   "metadata": {},
   "source": [
    "## 4.2. *List Comprehensions*\n",
    "\n",
    "Ein eleganter Weg, unter Python Listen nach einer gewünschten Vorschrift zu füllen, ist die Verwendung von *List Comprehensions* (dt.: Listen-Abstraktion).\n",
    "In den meisten Fällen können Aufgaben, die mit `map()`, `lambda` und `filter()` gelöst werden, auch über *List Comprehensions* erledigt werden.\n",
    "\n",
    "**Beispiel 1 mit L.C.:**"
   ]
  },
  {
   "cell_type": "code",
   "execution_count": null,
   "metadata": {},
   "outputs": [],
   "source": [
    "[i*i for i in a]"
   ]
  },
  {
   "cell_type": "markdown",
   "metadata": {},
   "source": [
    "**Beispiel 2 mit L.C.:**"
   ]
  },
  {
   "cell_type": "code",
   "execution_count": null,
   "metadata": {},
   "outputs": [],
   "source": [
    "[i for i in a if i%2==0]"
   ]
  },
  {
   "cell_type": "markdown",
   "metadata": {},
   "source": [
    "Hilfreich im Umgang mit Listen sind häufig auch die Funktionen `any()` und `all()`. \n",
    "Sie werden verwendet um zu überprüfen, ob mindestens eines bzw. alle Elemente einer Sequenz den Wert *True* enthalten."
   ]
  },
  {
   "cell_type": "code",
   "execution_count": 10,
   "metadata": {},
   "outputs": [
    {
     "data": {
      "text/plain": [
       "True"
      ]
     },
     "execution_count": 10,
     "metadata": {},
     "output_type": "execute_result"
    }
   ],
   "source": [
    "any([True, True, False, True])"
   ]
  },
  {
   "cell_type": "markdown",
   "metadata": {},
   "source": [
    "Im folgenden Beispiel wird überprüft, ob ...\n",
    "  * ... alle Elemente in der Liste `a` größer als 10 sind\n",
    "  * ... ein oder mehrere Elemente größer als 10 sind"
   ]
  },
  {
   "cell_type": "code",
   "execution_count": null,
   "metadata": {},
   "outputs": [],
   "source": [
    "if all([i>10 for i in a]): \n",
    "    print('Alle')\n",
    "else:\n",
    "    print('Nicht alle')\n",
    "\n",
    "if any([i>10 for i in a]): \n",
    "    print('Mindestens eines')\n",
    "else:\n",
    "    print('Gar keines')"
   ]
  },
  {
   "cell_type": "markdown",
   "metadata": {},
   "source": [
    "## Übung\n",
    "\n",
    "**1) Schreiben Sie einen (möglichst kurzen) Einzeiler, der eine Liste mit Zeichenketten wie \"Das Quadrat von 2 ist 4.\" für die Zahlen von 1 bis 20 erzeugt.**"
   ]
  },
  {
   "cell_type": "code",
   "execution_count": 12,
   "metadata": {},
   "outputs": [
    {
     "data": {
      "text/plain": [
       "['Das Quadrat von 1 ist 1',\n",
       " 'Das Quadrat von 2 ist 4',\n",
       " 'Das Quadrat von 3 ist 9',\n",
       " 'Das Quadrat von 4 ist 16',\n",
       " 'Das Quadrat von 5 ist 25',\n",
       " 'Das Quadrat von 6 ist 36',\n",
       " 'Das Quadrat von 7 ist 49',\n",
       " 'Das Quadrat von 8 ist 64',\n",
       " 'Das Quadrat von 9 ist 81',\n",
       " 'Das Quadrat von 10 ist 100',\n",
       " 'Das Quadrat von 11 ist 121',\n",
       " 'Das Quadrat von 12 ist 144',\n",
       " 'Das Quadrat von 13 ist 169',\n",
       " 'Das Quadrat von 14 ist 196',\n",
       " 'Das Quadrat von 15 ist 225',\n",
       " 'Das Quadrat von 16 ist 256',\n",
       " 'Das Quadrat von 17 ist 289',\n",
       " 'Das Quadrat von 18 ist 324',\n",
       " 'Das Quadrat von 19 ist 361',\n",
       " 'Das Quadrat von 20 ist 400']"
      ]
     },
     "execution_count": 12,
     "metadata": {},
     "output_type": "execute_result"
    }
   ],
   "source": [
    "[\"Das Quadrat von {} ist {}\".format(i,i*i) for i in range(1,21)]"
   ]
  },
  {
   "cell_type": "markdown",
   "metadata": {},
   "source": [
    "**2) Interpretieren Sie den folgenden Code-Abschnitt. Was bedeutet das Ergebnis und wie wird es erreicht?**"
   ]
  },
  {
   "cell_type": "code",
   "execution_count": 23,
   "metadata": {},
   "outputs": [
    {
     "data": {
      "text/plain": [
       "[2, 3, 5, 7, 11, 13, 17, 19]"
      ]
     },
     "execution_count": 23,
     "metadata": {},
     "output_type": "execute_result"
    }
   ],
   "source": [
    "max_zahl=19\n",
    "[zahl for zahl in range(2,max_zahl+1) if all([zahl % divisor != 0 for divisor in range(2,zahl)])]"
   ]
  },
  {
   "cell_type": "markdown",
   "metadata": {},
   "source": [
    "Die letzte Code Zelle findet alle Primzahlen von 2 bis zu der Zahl *max_zahl*. Hierfür werden zwei list comprehensions verwendet. Die erste iteriert über die range von zwei bis inklusive *max_zahl* und fügt die jeweiligen Eintrag hinzu, wenn der Eintrag eine Primzahl ist. Um zu überprüfen, ob der jeweilige Eintrag eine Primzahl ist, wird über jede Zahl von 2 bis zu dem Eintrag iteriert und mittels dem Modulo Operator gecheckt, ob der Eintrag durch die Zahl teilbar ist. Wenn der Eintrag durch keine Zahl teilbar ist und die list comprehension ausschließlich True Einträge ergeben hat, wird auch die all() Funktion True für die übergordnete list comprehension zurückgeben."
   ]
  },
  {
   "cell_type": "markdown",
   "metadata": {},
   "source": [
    "**3) Schreiben Sie einen kurzen Programmabschnitt, der aus einem Text alle Wörter heraussucht, die ein \"a\" enthalten.**"
   ]
  },
  {
   "cell_type": "code",
   "execution_count": 29,
   "metadata": {},
   "outputs": [
    {
     "data": {
      "text/plain": [
       "['Buchstaben', 'enthalten.']"
      ]
     },
     "execution_count": 29,
     "metadata": {},
     "output_type": "execute_result"
    }
   ],
   "source": [
    "text = \"Dies ist ein Testtext mit wenigen Wörtern die den gesuchten Buchstaben enthalten.\"\n",
    "[word for word in text.split() if \"a\" in word]"
   ]
  }
 ],
 "metadata": {
  "kernelspec": {
   "display_name": "Python 3",
   "language": "python",
   "name": "python3"
  },
  "language_info": {
   "codemirror_mode": {
    "name": "ipython",
    "version": 3
   },
   "file_extension": ".py",
   "mimetype": "text/x-python",
   "name": "python",
   "nbconvert_exporter": "python",
   "pygments_lexer": "ipython3",
   "version": "3.7.6"
  }
 },
 "nbformat": 4,
 "nbformat_minor": 4
}
