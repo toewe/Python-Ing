{
 "cells": [
  {
   "cell_type": "markdown",
   "metadata": {},
   "source": [
    "# **Python für Ingenieure**\n",
    "## Extra Übungen 01 - Fingerübungen zu Kapitel 1\n",
    "Dies sind freiwillige Zusatzübungen.\n",
    "<br>"
   ]
  },
  {
   "cell_type": "markdown",
   "metadata": {},
   "source": [
    "**1) Wandeln Sie den folgenden Block in einen Markdownblock um und schreiben Sie ein Wort fett und eines kursiv:**"
   ]
  },
  {
   "cell_type": "raw",
   "metadata": {},
   "source": []
  },
  {
   "cell_type": "code",
   "execution_count": null,
   "metadata": {},
   "outputs": [],
   "source": [
    "# Hier eigenen Text schreiben ..."
   ]
  },
  {
   "cell_type": "markdown",
   "metadata": {},
   "source": [
    "**2) Berechnen Sie Oberfläche und Volumen eines Würfels mit der Seitenlänge 3 Meter:**"
   ]
  },
  {
   "cell_type": "code",
   "execution_count": null,
   "metadata": {},
   "outputs": [],
   "source": [
    "# Hier eigenen Code schreiben ..."
   ]
  },
  {
   "cell_type": "markdown",
   "metadata": {},
   "source": [
    "**3) Auf einer Autobahn soll alle 50 Meter ein Leitpfosten platziert werden. Berechnen Sie, wieviele Leitpfosten Sie für einen 1340 Meter langen Autobahnabschnitt benötigen:**"
   ]
  },
  {
   "cell_type": "code",
   "execution_count": null,
   "metadata": {},
   "outputs": [],
   "source": [
    "# Hier eigenen Code schreiben ..."
   ]
  },
  {
   "cell_type": "markdown",
   "metadata": {},
   "source": [
    "**4) Berechnen Sie, wie viele Karten übrig bleiben, wenn Sie 52 Karten gleichmäßig auf sieben Spieler verteilen:**"
   ]
  },
  {
   "cell_type": "code",
   "execution_count": null,
   "metadata": {},
   "outputs": [],
   "source": [
    "# Hier eigenen Code schreiben ..."
   ]
  },
  {
   "cell_type": "markdown",
   "metadata": {},
   "source": [
    "**5) Schreiben Sie einen kurzen Programmabschnitt, der den kürzeren von zwei Namen um soviele Leerzeichen ergänzt, dass beide Strings die gleiche Länge haben.**\n",
    "<br> Vermeiden Sie es, die Länge der Namen selbst auszuzählen.\n",
    "\n",
    "Beispiel:\n",
    "```python\n",
    "name1 = \"AlanTuring\"\n",
    "name2 = \"MargaretHamilton\"\n",
    "```\n",
    "Gewünschtes Ergebnis:\n",
    "```python\n",
    "name1 = \"AlanTuring      \"\n",
    "name2 = \"MargaretHamilton\"\n",
    "```"
   ]
  },
  {
   "cell_type": "code",
   "execution_count": null,
   "metadata": {},
   "outputs": [],
   "source": [
    "# Hier eigenen Code schreiben ..."
   ]
  },
  {
   "cell_type": "markdown",
   "metadata": {},
   "source": [
    "**6) Fügen Sie dieser Liste Ihre Lieblingszahl hinzu:**\n"
   ]
  },
  {
   "cell_type": "code",
   "execution_count": null,
   "metadata": {},
   "outputs": [],
   "source": [
    "a = [1,2,3,4]\n",
    "# Hier eigenen Code schreiben ..."
   ]
  },
  {
   "cell_type": "markdown",
   "metadata": {},
   "source": [
    "**7) Entfernen Sie Ihre Lieblingszahl wieder aus der Liste:**\n"
   ]
  },
  {
   "cell_type": "code",
   "execution_count": null,
   "metadata": {},
   "outputs": [],
   "source": [
    "# Hier eigenen Code schreiben ..."
   ]
  },
  {
   "cell_type": "markdown",
   "metadata": {},
   "source": [
    "**8) Entfernen Sie alle Duplikate aus folgender Liste:** <br>\n",
    "Entfernen Sie die Duplikate möglichst nicht einzeln. <br>\n",
    "<br>\n",
    "Gewünschtes Ergebnis:\n",
    "```python\n",
    "b = [1,2,3,4,5]\n",
    "```"
   ]
  },
  {
   "cell_type": "code",
   "execution_count": null,
   "metadata": {},
   "outputs": [],
   "source": [
    "b = [1,1,1,1,1,1,1,1,2,2,2,2,1,3,2,3,4,4,4,4,4,5,2,5,3,5,5]\n",
    "# Hier eigenen Code schreiben ..."
   ]
  },
  {
   "cell_type": "markdown",
   "metadata": {},
   "source": [
    "**9) Ermitteln Sie, was die Maximale und was die durchschnittliche Punktzahl ist! <br>\n",
    "Ermitteln Sie, ob Lisa mehr Punkte erzielt hat als Peter** *(Ausgabe als Boolean)* **:**"
   ]
  },
  {
   "cell_type": "code",
   "execution_count": null,
   "metadata": {},
   "outputs": [],
   "source": [
    "punkte = {'Peter'      : 10 ,\n",
    "          'Melanie'    : 15 ,\n",
    "          'Stefan'     : 7 ,\n",
    "          'Uwe'        : 14 ,\n",
    "          'Karla'      : 10 ,\n",
    "          'Heinz'      : 12 ,\n",
    "          'Lisa'       : 9}\n",
    "# Hier eigenen Code schreiben ..."
   ]
  }
 ],
 "metadata": {
  "kernelspec": {
   "display_name": "Python 3",
   "language": "python",
   "name": "python3"
  },
  "language_info": {
   "codemirror_mode": {
    "name": "ipython",
    "version": 3
   },
   "file_extension": ".py",
   "mimetype": "text/x-python",
   "name": "python",
   "nbconvert_exporter": "python",
   "pygments_lexer": "ipython3",
   "version": "3.7.6"
  }
 },
 "nbformat": 4,
 "nbformat_minor": 4
}
