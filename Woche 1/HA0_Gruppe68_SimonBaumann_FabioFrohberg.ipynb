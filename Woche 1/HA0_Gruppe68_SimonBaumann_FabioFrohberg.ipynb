{
 "cells": [
  {
   "cell_type": "markdown",
   "metadata": {},
   "source": [
    "# Hausaufgabe 0\n",
    "## Vorstellung der Gruppe\n",
    "<!-- Lizensiert unter (CC BY 2.0) Gert Herold, 2020 -->\n",
    "\n",
    "Diese Hausaufgabe dient dem Kennenlernen der Gruppenmitglieder und der Programmierumgebung.\n",
    "Bis auf diese werden alle weiteren Hausaufgaben interaktiv abgenommen, das heißt in Online-Rücksprache.\n",
    "Die Abgabe *aller* Hausaufgaben geschieht in Form einer \\*.ipynb-Datei (wie dieser hier) über das ISIS-Portal.\n",
    "\n",
    "***\n",
    "Abgabefrist dieser HA ist **Donnerstag, der 30.4.2020**.\n",
    "\n",
    "***\n",
    "\n",
    "\n",
    "\n",
    "**1) Ergänzen Sie die Tabelle in der folgenden Markdown-Zelle mit Ihren Daten.**"
   ]
  },
  {
   "cell_type": "markdown",
   "metadata": {},
   "source": [
    "**Gruppe: 68**\n",
    "\n",
    "| Name      | Matrikelnr. | TUB E-Mail| Studiengang |\n",
    "|-----------|-------------|-|-|\n",
    "| Simon Baumann  | 357653  | simon.baumann@campus.tu-berlin.de| Elektrotechnik (MSc) |\n",
    "| Fabio Frohberg  | 383070  | fabio.frohberg@campus.tu-berlin.de| Physikalische Ingenieurswissenschaften (BSc) |"
   ]
  },
  {
   "cell_type": "markdown",
   "metadata": {},
   "source": [
    "**2) Unter der Annahme, dass sich pro Semester durchschnittlich 2048 Studenten an der TU Berlin immatrikulieren, die eine neue (fortlaufende) Matrikelnummer zugewiesen bekommen: Wieviel Zeit ist ungefähr zwischen der Einschreibung der beiden Teilnehmer Ihrer Gruppe vergangen?**\n",
    "Gehen Sie davon aus, dass sich die Einschreibungen gleichmäßig über ein Semester verteilen und nutzen Sie die folgende Zelle für die Berechnung."
   ]
  },
  {
   "cell_type": "code",
   "execution_count": 1,
   "metadata": {},
   "outputs": [
    {
     "name": "stdout",
     "output_type": "stream",
     "text": [
      "Es sind ungefähr 12 Semester vergangen.\n"
     ]
    }
   ],
   "source": [
    "mat1 = 357653\n",
    "mat2 = 383070\n",
    "newPerSem = 2048\n",
    "\n",
    "sem = abs(mat2 - mat1)//newPerSem\n",
    "print('Es sind ungefähr {} Semester vergangen.'.format(sem))"
   ]
  },
  {
   "cell_type": "markdown",
   "metadata": {},
   "source": [
    "**3) Schreiben Sie einen kurzen Programmabschnitt, der eine Zeichenkette erzeugt, die so lang ist wie die Namen der Gruppenmitglieder (ohne Leerzeichen), aber als Zeichen anstelle der beiden Namen die Ziffern der Gruppennummer enthält.** Vermeiden Sie es, die Länge der Namen selbst auszuzählen oder die Ziffern der Gruppenzahl wiederholt einzutippen.\n",
    "\n",
    "Beispiel für eine Gruppe \"91\":\n",
    "```python\n",
    "name1 = \"AlanTuring\"\n",
    "name2 = \"MargaretHamilton\"\n",
    "```\n",
    "Gewünschtes Ergebnis:`'99999999991111111111111111'`\n"
   ]
  },
  {
   "cell_type": "code",
   "execution_count": 3,
   "metadata": {},
   "outputs": [
    {
     "name": "stdout",
     "output_type": "stream",
     "text": [
      "6666666666668888888888888\n",
      "6666666666668888888888888\n"
     ]
    }
   ],
   "source": [
    "# verbose\n",
    "name1 = \"SimonBaumann\" \n",
    "name2 = \"FabioFrohberg\"\n",
    "digit1 = \"6\"\n",
    "digit2 = \"8\"\n",
    "\n",
    "part1 = digit1*len(name1)\n",
    "part2 = digit2*len(name2)\n",
    "\n",
    "print(part1 + part2)\n",
    "\n",
    "# one  line\n",
    "print(\"6\" * len(\"SimonBaumann\") + \"8\" * len(\"FabioFrohberg\"))"
   ]
  }
 ],
 "metadata": {
  "kernelspec": {
   "display_name": "Python 3",
   "language": "python",
   "name": "python3"
  },
  "language_info": {
   "codemirror_mode": {
    "name": "ipython",
    "version": 3
   },
   "file_extension": ".py",
   "mimetype": "text/x-python",
   "name": "python",
   "nbconvert_exporter": "python",
   "pygments_lexer": "ipython3",
   "version": "3.7.6"
  }
 },
 "nbformat": 4,
 "nbformat_minor": 4
}
