{
 "cells": [
  {
   "cell_type": "markdown",
   "metadata": {},
   "source": [
    "## Auswertung der Umfrage KW 19"
   ]
  },
  {
   "cell_type": "code",
   "execution_count": null,
   "metadata": {},
   "outputs": [],
   "source": [
    "from pylab import *\n",
    "import pandas as pd\n",
    "\n",
    "csv_daten = pd.read_csv(\"AnonymesFeedbackKW19.csv\")\n",
    "#csv_daten\n",
    "\n",
    "csv_full = [a+str(b)+c for a,b,c in zip(csv_daten['Die vermittelten Inhalte verstehe ich meistens ...'],\n",
    "                                   csv_daten['Welcher Aussage stimmen Sie zu?'],\n",
    "                                   csv_daten['Wie verbringen Sie zurzeit ein verlängertes Wochenende?'])]\n",
    "len(csv_full)"
   ]
  },
  {
   "cell_type": "code",
   "execution_count": null,
   "metadata": {},
   "outputs": [],
   "source": [
    "answers = ['... sofort!',\n",
    "'... wenn ich die Übungsaufgaben löse.',\n",
    "'... beim wiederholten Anschauen und/oder der intensiven Auseinandersetzung mit den Übungsaufgaben.',\n",
    "'... nachdem ich viel extern recherchiert habe.',\n",
    "'... fast oder gar nicht. Ich brauche noch mehr Hilfe.',\n",
    "'Ich hätte gern noch mehr zusätzliche \"Fingerübungs\"-Aufgaben zu den Inhalten.',\n",
    "'Ich würde zusätzliche \"Fingerübungs\"-Aufgaben wahrscheinlich nicht machen.',\n",
    "'Meine HA-Gruppe ist eine der besten, die ich je hatte!',\n",
    "'Die Hausaufgaben 0 und 1 waren recht einfach.',\n",
    "'Mir ist (zumindest ab dieser Aussage) bewusst, dass ich für die kommenden HAs mehr Zeit einplanen sollte.',\n",
    "'Wenn die Maske nicht richtig sitzt, beschlägt meine Brille, und das nervt.',\n",
    "'Seit Corona sind Wochentage und -enden für mich ein abstraktes Konzept.',\n",
    "'Raus ins Grüne; See- oder Waldbaden oder so.',\n",
    "'Arbeiten / Lernen / Wohnung renovieren.',\n",
    "'Ich bin dann mal im Internet (Serien-Marathon, Kultur-Streaming, Games).',\n",
    "'Da kommt ihr nie drauf.']"
   ]
  }
 ],
 "metadata": {
  "kernelspec": {
   "display_name": "Python 3",
   "language": "python",
   "name": "python3"
  },
  "language_info": {
   "codemirror_mode": {
    "name": "ipython",
    "version": 3
   },
   "file_extension": ".py",
   "mimetype": "text/x-python",
   "name": "python",
   "nbconvert_exporter": "python",
   "pygments_lexer": "ipython3",
   "version": "3.7.4"
  }
 },
 "nbformat": 4,
 "nbformat_minor": 4
}
