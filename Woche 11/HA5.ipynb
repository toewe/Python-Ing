{
 "cells": [
  {
   "cell_type": "markdown",
   "metadata": {},
   "source": [
    "# Hausaufgabe 5\n",
    "## Schallerzeugung durch einen umströmten Zylinder (Teil 2)\n",
    "<!-- Lizensiert unter (CC BY 2.0) Gert Herold, 2020 -->\n",
    "\n",
    "Bei der Umströmung eines zylindrischen Körpers bilden sich hinter diesem häufig Wirbelstraßen aus.\n",
    "Je nach Medium, Strömungsgeschwindigkeit und Durchmesser des Zylinders können die gegenläufigen Wirbel wahrnehmbare Töne verursachen.\n",
    "\n",
    "Zusätzlich zu dem in Hausaufgabe 4 ausgewerteten Messungen wurde die Schallabstrahlung von 9 Zylindern unterschiedlichen Durchmessers bei 13 verschiedenen Strömungsgeschwindigkeiten gemessen und der jeweilige Hiebton bestimmt.\n",
    "Die Ergebnisse sind in tabellarischer Form in der Datei `vf.csv` eingetragen."
   ]
  },
  {
   "cell_type": "markdown",
   "metadata": {},
   "source": [
    "**1) Laden Sie die detektierten Hiebtöne aus der Datei `vf.csv` und visualisieren Sie die Daten.**\n",
    "  * Stellen Sie in Abb. 1 den Verlauf der Frequenzen über der Strömungsgeschwindigkeit für jeden Durchmesser dar. Zeichnen Sie in dieselbe Abbildungen die gefundenen Hiebtöne aus der letzten HA ein.\n",
    "  * Stellen Sie in Abb. 2 den Verlauf der Frequenzen über dem Zylinderdurchmesser für jede Strömungsgeschwindigkeit dar.  \n",
    "  * Stellen Sie in Abb. 3 die Abhängigkeit der Frequenz von sowohl der Strömungsgeschwindigkeit als auch des Zylinderdurchmessers dar (z.B. über einen Konturplot)\n",
    "  * Fügen Sie jeweils eine aussagekräftige Legende bzw. Farbskala hinzu und achten Sie auf korrekte Achsenbeschriftungen.\n",
    "  * *Zusatzaufgabe: Lesen Sie neben den Frequenzen auch die Durchmesser-Werte automatisiert ein, anstelle sie per Hand einzugeben.*"
   ]
  },
  {
   "cell_type": "code",
   "execution_count": null,
   "metadata": {},
   "outputs": [],
   "source": [
    "# Hier eigenen Code schreiben ...\n"
   ]
  },
  {
   "cell_type": "markdown",
   "metadata": {},
   "source": [
    "Die Frequenz des Hiebtons hängt mindestens von den zwei Größen Durchmesser und Geschwindigkeit ab:\n",
    "$$\n",
    "f = f(d,v)\n",
    "$$\n",
    "Die Abhängigkeit von $v$ (Abb. 1) wurde in HA 4 mittels der Regressionsgerade gefunden. \n",
    "Die Abhängigkeit von $d$ (Abb. 2) könnte nach demselben Schema geschehen, allerdings trifft die Annahme einer direkt linearen Abhängigkeit offensichtlich nicht zu.\n",
    "Außerdem wäre es wünschenswert, beide Parameter einer einzigen Berechnungsformel übergeben zu können."
   ]
  },
  {
   "cell_type": "markdown",
   "metadata": {},
   "source": [
    "Im einfachsten Fall mit nur linearen Abhängigkeiten könnten wir schreiben:\n",
    "$$\n",
    "f(d,v) = \\beta_0 + \\beta_1\\,d + \\beta_2\\,v + \\epsilon\n",
    "$$\n",
    "Die Koeffizienten $\\beta_n$ erfüllen denselben Zweck wie $a$ und $b$ aus HA 4. \n",
    "$\\epsilon$ ist eine Störgröße, die als zufällig angenommen wird und die den Fehler beschreibt, den das Modell z.B. durch unbeobachtbare Abhängigkeiten macht.\n",
    "Die Lösung eines Problems mithilfe einer solchen Formulierung geschieht über die [multiple lineare Regression](https://de.wikipedia.org/wiki/Multiple_lineare_Regression).\n",
    "\n",
    "Nichtlineare Abhängigkeiten können mit diesem Schema auch untersucht werden, sofern eine Annahme zur Art der Nichtlinearität getroffen wird, z.B.:\n",
    "$$\n",
    "f(d,v) = \\beta_1\\,d + \\beta_2\\,v + \\beta_3\\,d^2 + \\ldots + \\beta_4\\,\\frac{d}{v} + \\beta_5\\,\\frac{v}{d} + \\ldots + \\beta_6\\,\\sin(v^\\sqrt{d}) + \\ldots +  \\epsilon\n",
    "$$\n",
    "Das Modell kann dabei beliebig komplex werden.\n",
    "Allgemein können wir auch schreiben:\n",
    "$$\n",
    "f = \\pmb{x} \\cdot \\pmb{\\beta} + \\epsilon~,\n",
    "$$\n",
    "wobei der Vektor $\\pmb{x}$ die charakteristischen Größen wie $d$, $v$ oder daraus abgeleitete Terme enthält (im maschinellen Lernen wird hier auch von *Features* gesprochen) und $\\pmb{\\beta}$ die zunächst noch unbekannten Koeffizienten.\n",
    "\n",
    "Natürlich sollen unsere Messdaten (gekennzeichnet mit Tilde $\\tilde{}$) durch das Modell beschreibbar sein, sodass gilt:\n",
    "$$\n",
    "\\tilde{f}_i = \\pmb{x}_i \\cdot \\pmb{\\beta} + \\epsilon_i\n",
    "$$\n",
    "bzw. wenn wir die Vektoren $\\pmb{x}_i$ als Zeilen in eine Matrix $\\pmb{X}$ schreiben:\n",
    "$$\n",
    "\\pmb{\\tilde{f}}  = \\pmb{X} \\cdot \\pmb{\\beta} + \\pmb{\\epsilon}~.\n",
    "$$\n",
    "In die Form dieser Gleichung wollen wir nun unsere Größen bringen.\n",
    "\n",
    "**2) Erstellen Sie aus den Strömungsgeschwindigkeiten und Zylinderdurchmessern eine Modellmatrix $\\pmb{X}$ und aus den zugehörigen Frequenzen den Messvektor $\\pmb{\\tilde{f}}$.**\n",
    "  * Für die Generierung von $\\pmb{X}$ muss bereits ein Modell angenommen werden. Verwenden Sie zunächst $\\tilde{f}_i = \\beta_0\\cdot 1 + \\beta_1\\cdot d_i + \\beta_2\\cdot v_i + \\epsilon_i$. Das Modell soll jedoch später leicht ausgetauscht werden können.\n",
    "  * Geben Sie die Dimensionen der beiden erstellten Größen aus.\n",
    "  * Plotten Sie zur Überprüfung die Spalten der Matrix $\\pmb{X}$ über $\\pmb{\\tilde{f}}$.\n",
    " \n",
    "*Hinweis: Der unbekannte Fehler $\\epsilon_i$ ist immer implizit enthalten und muss hier nicht über eine eigene Variable \"mitmodelliert\" werden.*"
   ]
  },
  {
   "cell_type": "code",
   "execution_count": null,
   "metadata": {},
   "outputs": [],
   "source": [
    "# Hier eigenen Code schreiben ...\n"
   ]
  },
  {
   "cell_type": "markdown",
   "metadata": {},
   "source": [
    "Angenommen, es existiert ein Modell für $f(d,v)$ mit bekannten Koeffizienten $\\beta_i$, so kann dessen Güte anhand der Abweichungen von mit dem Modell berechneten zu den gemessenen Daten bewertet werden.\n",
    "Diese Abweichungen werden häufig mithilfe der Summe der Fehlerquadrate (normiert mit der Anzahl der Messpunkte $N$) quantifiziert:\n",
    "$$\n",
    "\\frac{1}{N}\\sum_{i=1}^{N}(f(d_i,v_i) - \\tilde{f}_i)^2 = \\frac{1}{N}\\| \\pmb{f} - \\pmb{\\tilde{f}} \\|_2^2\n",
    "$$\n",
    "Dieses Fehlermaß gilt es zu minimieren, um ein Modell möglichst genau an die Messdaten anzunähern.\n",
    "Es wird daher auch als Kosten- oder Verlustfunktion bezeichnet.\n",
    "\n",
    "**3) Schreiben Sie eine Funktion *loss()*, die die normierte Summe der Fehlerquadrate berechnet.** \n",
    "  * Die Funktion soll als Parameter übergeben bekommen:\n",
    "    * einen Koeffizienten-Vektor `beta`\n",
    "    * eine Modell-Matrix `X`\n",
    "    * einen Messwerte-Vektor `f_tilde`\n",
    "  * Rückgabewert soll der berechnete Fehler sein.\n",
    "  * Testen Sie die Funktion mit dem Beispielmodell und `beta = array([1., 1., 1.])`\n",
    "\n",
    "<!--\n",
    "[Multiple lineare Regression](https://de.wikipedia.org/wiki/Multiple_lineare_Regression)\n",
    "-->"
   ]
  },
  {
   "cell_type": "code",
   "execution_count": null,
   "metadata": {},
   "outputs": [],
   "source": [
    "def loss(beta, X, f_tilde):\n",
    "    # Hier eigenen Code schreiben ...\n"
   ]
  },
  {
   "cell_type": "markdown",
   "metadata": {},
   "source": [
    "Mithilfe eines geeigneten Algorithmus' soll nun der Koeffizientensatz $\\pmb{\\beta}$ gefunden werden, der obige Kostenfunktion minimiert.\n",
    "Praktischerweise sind im Modul [*scipy.optimize*](https://docs.scipy.org/doc/scipy/reference/optimize.html) bereits zahlreiche Minimierungsalgorithmen implementiert, die auf das Problem angewendet werden können.\n",
    "\n",
    "Für den Fall der Mehrfachregression bietet sich die im Modul enthaltene Funktion [*minimize()*](https://docs.scipy.org/doc/scipy/reference/generated/scipy.optimize.minimize.html) an.\n",
    "Wichtig sind hier vor allem die ersten drei Parameter, die ihr übergeben werden können:\n",
    "  * `fun` : die Funktion, deren Ergebnis minimal werden soll (zu übergeben als Objekt _ohne_ Klammern)\n",
    "  * `x0` : Startwerte für die zu ermittelnden Koeffizienten (als Array zu übergeben)\n",
    "  * `args`: weitere Argumente, die die Funktion beim Aufruf erwartet (je nach Parameterliste, als Tupel übergeben)\n",
    "\n",
    "Voraussetzung ist, dass die Argumente der Parameterliste der zu minimierenden Funktion in der Reihenfolge `(x, *args)` erwartet werden, also zunächst die  Koeffizienten, dann weitere Parameter. \n",
    "Dies sollte mit der Funktion *loss()* gegeben sein.\n",
    "\n",
    "Die *minimize()*-Funktion gibt ein [OptimizeResult-Objekt](https://docs.scipy.org/doc/scipy/reference/generated/scipy.optimize.OptimizeResult.html) zurück.\n",
    "Rufen wir die Funktion mit\n",
    "```python\n",
    "result = minimize(...)\n",
    "```\n",
    "auf, können z.B. folgende Eigenschaften abgerufen werden:\n",
    "  * `result.x` : die gefundenen Koeffizienten\n",
    "  * `result.success` : Boolean, der angibt, ob ein Minimum gefunden wurde\n",
    "  * `result.nit` : Anzahl der vom Algorithmus durchgeführten Iterationen\n",
    "\n",
    "\n",
    "**4) Finden Sie ein möglichst simples Modell, dass die Daten möglichst gut beschreibt.**\n",
    "  * Kopieren Sie benötigten Quellcode aus Aufgabe 2) in die nächste Zelle, um das Modell schnell ändern zu können. Aufgabe 2) soll unverändert bleiben.\n",
    "  * Minimieren Sie die Kostenfunktion. Wählen Sie als Startwert für jeden der Koeffizienten 1.\n",
    "  * Suchen Sie Koeffizienten mindestens für folgende Modelle:\n",
    "    *  $f(d,v) = \\beta_0 + \\beta_1\\,d + \\beta_2\\,v + \\epsilon$ \n",
    "    *  $f(d,v) = \\beta_0 + \\beta_1\\,d + \\beta_2\\,v + \\beta_3\\,\\frac{1}{d^2} + \\beta_4\\,\\frac{1}{v^2} + \\epsilon$ \n",
    "    *  $f(d,v) = \\beta_1\\,\\frac{v}{d}  + \\beta_2\\,\\frac{v^3}{d^3} + \\beta_3\\,\\frac{v^5}{d^5}  + \\epsilon$\n",
    "  * Geben Sie die Anzahl der Iterationen, den berechneten Koeffizientensatz und für diesen den Wert der Kostenfunktion aus. Geben Sie außerdem an, ob der Algorithmus das Minimum eindeutig gefunden hat.\n",
    "  * Falls die Minimierung nicht erfolgreich/eindeutig war, versuchen Sie, das Modell zu ändern. Möglicherweise führt auch eine Vereinfachung zum Erfolg.\n",
    "  * Plotten Sie jeweils das gemessene $\\pmb{\\tilde{f}}$ und das sich aus dem Modell ergebende $\\pmb{f}$ in dasselbe Diagramm, um die Abweichung einschätzen zu können."
   ]
  },
  {
   "cell_type": "code",
   "execution_count": null,
   "metadata": {},
   "outputs": [],
   "source": [
    "# Hierhin den relevanten Code aus Aufgabe 2) kopieren ...\n"
   ]
  },
  {
   "cell_type": "code",
   "execution_count": null,
   "metadata": {},
   "outputs": [],
   "source": [
    "from scipy.optimize import minimize\n",
    "# Hier eigenen Code schreiben ...\n"
   ]
  },
  {
   "cell_type": "markdown",
   "metadata": {},
   "source": [
    "**5) Wenden Sie die das Modell an.**\n",
    "  * Wie hoch ist die Hiebton-Frequenz bei einem Zylinderdurchmesser von 10 mm und einer Strömungsgeschwindigkeit von 20 m/s?\n",
    "  * Wie groß ist der Durchmesser eines Zylinders, der bei 42 m/s Windgeschwindigkeit mit 1000 Hz pfeift?\n",
    "  * Wie groß ist die Strömungsgeschwindigkeit, wenn ein Zylinder mit 30 mm Durchmesser einen Ton bei 300 Hz verursacht?"
   ]
  },
  {
   "cell_type": "code",
   "execution_count": null,
   "metadata": {},
   "outputs": [],
   "source": [
    "# Hier eigenen Code schreiben ...\n"
   ]
  }
 ],
 "metadata": {
  "kernelspec": {
   "display_name": "Python 3",
   "language": "python",
   "name": "python3"
  },
  "language_info": {
   "codemirror_mode": {
    "name": "ipython",
    "version": 3
   },
   "file_extension": ".py",
   "mimetype": "text/x-python",
   "name": "python",
   "nbconvert_exporter": "python",
   "pygments_lexer": "ipython3",
   "version": "3.7.6"
  }
 },
 "nbformat": 4,
 "nbformat_minor": 4
}
