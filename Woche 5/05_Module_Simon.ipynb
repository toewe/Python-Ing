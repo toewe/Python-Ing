{
 "cells": [
  {
   "cell_type": "markdown",
   "metadata": {},
   "source": [
    "# **Python für Ingenieure**\n",
    "<!-- Lizensiert unter (CC BY 2.0) Gert Herold, 2020 -->\n",
    "# 5. Module\n",
    "\n",
    "Module sind Dateien, in denen unter anderem Funktionen und Variablen definiert werden, um sie später zur einfachen Verwendung zur Verfügung zu stellen.\n",
    "Eine Liste der in der aktuellen Python-Umgebung installierten Module lässt sich abbrufen:"
   ]
  },
  {
   "cell_type": "code",
   "execution_count": null,
   "metadata": {},
   "outputs": [],
   "source": [
    "help(\"modules\")"
   ]
  },
  {
   "cell_type": "markdown",
   "metadata": {},
   "source": [
    "## 5.1. Import von Modulen\n",
    "\n",
    "Um die Funktionalitäten eines Moduls zu verwenden, muss dieses importiert werden:"
   ]
  },
  {
   "cell_type": "code",
   "execution_count": null,
   "metadata": {},
   "outputs": [],
   "source": [
    "import wort\n",
    "wort.hallo"
   ]
  },
  {
   "cell_type": "code",
   "execution_count": null,
   "metadata": {},
   "outputs": [],
   "source": [
    "import wort as wt\n",
    "wt.hallo"
   ]
  },
  {
   "cell_type": "code",
   "execution_count": null,
   "metadata": {},
   "outputs": [],
   "source": [
    "from wort import hallo\n",
    "hallo"
   ]
  },
  {
   "cell_type": "code",
   "execution_count": null,
   "metadata": {},
   "outputs": [],
   "source": [
    "from wort import hallo as moin\n",
    "moin"
   ]
  },
  {
   "cell_type": "code",
   "execution_count": null,
   "metadata": {},
   "outputs": [],
   "source": [
    "from wort import *\n",
    "lorem"
   ]
  },
  {
   "cell_type": "code",
   "execution_count": null,
   "metadata": {},
   "outputs": [],
   "source": [
    "anzahl_vokale(lorem)"
   ]
  },
  {
   "cell_type": "markdown",
   "metadata": {},
   "source": [
    "## 5.2. Standardmodule\n",
    "\n",
    "Bei jeder Python-Installation werden einige Module standardmäßig mitgeliefert. \n",
    "Eine ausführliche Beschreibung der Module und ihrer Funktionalitäten findet sich unter https://docs.python.org/3/library/.\n",
    "Einige Beispiele im Folgenden:"
   ]
  },
  {
   "cell_type": "markdown",
   "metadata": {},
   "source": [
    "### 5.2.1 [`os`](https://docs.python.org/3/library/os.html)\n",
    "Arbeiten im Dateisystem"
   ]
  },
  {
   "cell_type": "code",
   "execution_count": null,
   "metadata": {},
   "outputs": [],
   "source": [
    "import os"
   ]
  },
  {
   "cell_type": "code",
   "execution_count": null,
   "metadata": {},
   "outputs": [],
   "source": [
    "os.getcwd()"
   ]
  },
  {
   "cell_type": "code",
   "execution_count": null,
   "metadata": {},
   "outputs": [],
   "source": [
    "os.listdir()"
   ]
  },
  {
   "cell_type": "markdown",
   "metadata": {},
   "source": [
    "Verzeichnisse erstellen, umbennen und entfernen:"
   ]
  },
  {
   "cell_type": "code",
   "execution_count": null,
   "metadata": {},
   "outputs": [],
   "source": [
    "os.mkdir('Ein_neuer_Ordner')"
   ]
  },
  {
   "cell_type": "code",
   "execution_count": null,
   "metadata": {},
   "outputs": [],
   "source": [
    "os.rename('Ein_neuer_Ordner', 'ABCDEFG')"
   ]
  },
  {
   "cell_type": "code",
   "execution_count": null,
   "metadata": {},
   "outputs": [],
   "source": [
    "os.rmdir('ABCDEFG')"
   ]
  },
  {
   "cell_type": "markdown",
   "metadata": {},
   "source": [
    "Datei erstellen und entfernen (für das Erstellen/Überschreiben von Dateien ist kein Modulimport notwendig);"
   ]
  },
  {
   "cell_type": "code",
   "execution_count": null,
   "metadata": {},
   "outputs": [],
   "source": [
    "datei = open('12345.abc', 'w')\n",
    "datei.write('Ein bisschen Text.\\n')\n",
    "datei.write(os.listdir()[0])\n",
    "datei.close()"
   ]
  },
  {
   "cell_type": "code",
   "execution_count": null,
   "metadata": {},
   "outputs": [],
   "source": [
    "os.remove('12345.abc')"
   ]
  },
  {
   "cell_type": "markdown",
   "metadata": {},
   "source": [
    "### 5.2.2 [`glob`](https://docs.python.org/3/library/glob.html)\n",
    "\n",
    "Dateilisten filtern."
   ]
  },
  {
   "cell_type": "code",
   "execution_count": null,
   "metadata": {},
   "outputs": [],
   "source": [
    "import glob\n",
    "glob.glob(\"*.py\")"
   ]
  },
  {
   "cell_type": "markdown",
   "metadata": {},
   "source": [
    "### 5.2.3 [`math`](https://docs.python.org/3/library/math.html)\n",
    "\n",
    "Mathematische Funktionen und Konstanten"
   ]
  },
  {
   "cell_type": "code",
   "execution_count": null,
   "metadata": {},
   "outputs": [],
   "source": [
    "from math import pi,sin,sqrt\n",
    "\n",
    "sin(pi/4), sqrt(9)"
   ]
  },
  {
   "cell_type": "markdown",
   "metadata": {},
   "source": [
    "### 5.2.4 [`random`](https://docs.python.org/3/library/random.html)\n",
    "\n",
    "Zufallszahlen und mehr."
   ]
  },
  {
   "cell_type": "code",
   "execution_count": null,
   "metadata": {},
   "outputs": [],
   "source": [
    "import random"
   ]
  },
  {
   "cell_type": "markdown",
   "metadata": {},
   "source": [
    "Gleichverteilte Zufallszahl zwischen 0 und 1:"
   ]
  },
  {
   "cell_type": "code",
   "execution_count": null,
   "metadata": {},
   "outputs": [],
   "source": [
    "#random.seed(1)\n",
    "random.random()"
   ]
  },
  {
   "cell_type": "markdown",
   "metadata": {},
   "source": [
    "Liste zufällig umsortieren:"
   ]
  },
  {
   "cell_type": "code",
   "execution_count": null,
   "metadata": {},
   "outputs": [],
   "source": [
    "a = [1,2,3,4,5,6,7,8]\n",
    "random.shuffle(a)\n",
    "a"
   ]
  },
  {
   "cell_type": "markdown",
   "metadata": {},
   "source": [
    "Zufällige Ganzzahl zwischen 5 und (inkl.) 20:"
   ]
  },
  {
   "cell_type": "code",
   "execution_count": null,
   "metadata": {},
   "outputs": [],
   "source": [
    "random.randint(5,20)"
   ]
  },
  {
   "cell_type": "markdown",
   "metadata": {},
   "source": [
    "## Übung\n",
    "\n",
    "**1) In beiden Modulen (wort, math) wird eine Variable `pi` definiert. Beide sollen im Programm verwendet werden. Testen Sie, welche Auswirkungen ein Austausch der ersten beiden Zeilen für die Ausgabe hat. Wie kann das Programm für eine sinnvolle Ausgabe abgeändert werden?**"
   ]
  },
  {
   "cell_type": "code",
   "execution_count": 5,
   "metadata": {},
   "outputs": [
    {
     "name": "stdout",
     "output_type": "stream",
     "text": [
      "Der 16. Buchstabe des griechischen Alphabets: Pi.\n",
      "Der Umfang eines Kreises mit einem Durchmesser von 3: Pi.Pi.Pi.\n"
     ]
    }
   ],
   "source": [
    "from math import *\n",
    "from wort import *\n",
    "\n",
    "print(\"Der 16. Buchstabe des griechischen Alphabets:\", pi)\n",
    "\n",
    "durchmesser = 3\n",
    "umfang = pi*durchmesser\n",
    "print(\"Der Umfang eines Kreises mit einem Durchmesser von %d:\" % durchmesser, umfang)"
   ]
  },
  {
   "cell_type": "markdown",
   "metadata": {},
   "source": [
    "**2) Schreiben Sie eine Funktion, die eine Liste mit *n* gleichverteilten Zufallszahlen zurückgibt. Der Parameter *n* soll der Funktion übergeben werden.**"
   ]
  },
  {
   "cell_type": "code",
   "execution_count": 8,
   "metadata": {},
   "outputs": [
    {
     "name": "stdout",
     "output_type": "stream",
     "text": [
      "[0.6565305722817973, 0.6140291068389868, 0.20742771623010547]\n"
     ]
    }
   ],
   "source": [
    "import random\n",
    "\n",
    "def rnd_list(n):\n",
    "    return [random.random() for num in range(n)]\n",
    "\n",
    "print(rnd_list(3))"
   ]
  },
  {
   "cell_type": "markdown",
   "metadata": {},
   "source": [
    "**3) Schreiben Sie einen Programmabschnitt, der ...**\n",
    "  * ... die Datei oder das Verzeichnis mit dem längsten Namen im aktuellen Verzeichnis findet und diesen ausgibt. \n",
    "  * ... den Namen mit der höchsten Anzahl an Konsonanten ausgibt."
   ]
  },
  {
   "cell_type": "code",
   "execution_count": 14,
   "metadata": {},
   "outputs": [
    {
     "name": "stdout",
     "output_type": "stream",
     "text": [
      "05_Module_Simon.ipynb\n",
      ".ipynb_checkpoints\n"
     ]
    }
   ],
   "source": [
    "import os\n",
    "import wort as wt\n",
    "\n",
    "longest = \"\"\n",
    "consonants = \"\"\n",
    "for entry in os.listdir():\n",
    "        if wt.anzahl_zeichen(entry) > len(longest):\n",
    "            longest = entry\n",
    "        if wt.anzahl_konsonanten(entry) > wt.anzahl_konsonanten(consonants):\n",
    "            consonants = entry\n",
    "\n",
    "print(longest)\n",
    "print(consonants)"
   ]
  }
 ],
 "metadata": {
  "kernelspec": {
   "display_name": "Python 3",
   "language": "python",
   "name": "python3"
  },
  "language_info": {
   "codemirror_mode": {
    "name": "ipython",
    "version": 3
   },
   "file_extension": ".py",
   "mimetype": "text/x-python",
   "name": "python",
   "nbconvert_exporter": "python",
   "pygments_lexer": "ipython3",
   "version": "3.7.6"
  }
 },
 "nbformat": 4,
 "nbformat_minor": 4
}
