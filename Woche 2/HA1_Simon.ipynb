{
 "cells": [
  {
   "cell_type": "markdown",
   "metadata": {},
   "source": [
    "# Hausaufgabe 1\n",
    "## Lärmbelastung am Heimarbeitsplatz\n",
    "<!-- Lizensiert unter (CC BY 2.0) Gert Herold, 2020 -->\n",
    "\n",
    "Nach Beschwerden zahlreicher im Homeoffice arbeitender Menschen über die durch eine Dauerbaustelle auftretende Lärmbelastung wurde über mehrere Monate an Werktagen der Mittelungspegel $L_\\text{A,eq}$ an einem repräsentativen Immissionsort bestimmt."
   ]
  },
  {
   "cell_type": "code",
   "execution_count": null,
   "metadata": {},
   "outputs": [],
   "source": [
    "# Werte in dB\n",
    "LAeq = {'Januar': [69.1217, 57.9412, 58.3591, 55.6352, 65.327, 49.4923, 69.7241, 57.194, 62.5952, 59.7531, 68.3105, \n",
    "                   50.6993, 59.3879, 59.0797, 66.6688, 55.5005, 60.1379, 56.6107, 61.2111, 63.9141, 55.4969, 66.7236], \n",
    "        'Februar': [65.508, 63.5125, 65.5043, 57.5814, 60.3855, 56.3212, 59.6606, 63.6518, 57.5417, 59.0162, 57.5641, \n",
    "                    56.774, 57.6438, 60.9367, 55.4134, 62.1721, 69.299, 64.7102, 60.0408, 56.5619], \n",
    "        'März': [57.2642, 69.4623, 61.254, 57.815, 61.9546, 71.5013, 61.6008, 64.086, 62.5009, 59.2388, 55.2874, \n",
    "                 59.2533, 59.9555, 63.9331, 65.1949, 65.6555, 62.4279, 65.4257, 57.228, 67.2643, 63.5646, 59.5095], \n",
    "        'April': [63.4426, 60.6221, 66.6581, 68.5991, 71.9279, 54.0175, 53.7794, 58.4777, 61.8002, 65.3808, \n",
    "                  62.5782, 50.889, 59.469, 65.1399, 62.1505, 64.8101, 59.8884, 59.9962, 61.9328, 63.0503], \n",
    "        'Mai': [61.9915, 61.595, 57.6467, 62.8878, 61.6091, 66.6474, 66.9946, 61.9258, 59.1236, 57.8063, 63.1175, \n",
    "                61.3867, 59.2807, 61.218, 57.9, 64.4902, 58.7644, 67.1225], \n",
    "        'Juni': [63.0175, 63.9679, 55.5254, 61.8469, 64.7028, 56.2315, 59.6689, 61.1631, 54.1344, 62.5758, 65.2308, \n",
    "                 56.7024, 62.7527, 54.4386, 60.8065, 52.9211, 66.6071, 63.0445, 60.8769, 57.1242, 67.3688]}"
   ]
  },
  {
   "cell_type": "markdown",
   "metadata": {},
   "source": [
    "**1. Geben Sie für jeden Monat den jeweils höchsten Pegel mit einer Nachkommastelle als Fließtext an.**\n",
    " \n",
    "Beispiel:\n",
    "\n",
    "    Im August wurde ein maximaler Mittelungspegel von 71.2 dB gemessen.\n",
    "    \n",
    "*(Für einen Hinweis zur Textformatierung unter Python den ausgeblendeten Abschnitt öffnen)*"
   ]
  },
  {
   "cell_type": "code",
   "execution_count": 1,
   "metadata": {},
   "outputs": [
    {
     "name": "stdout",
     "output_type": "stream",
     "text": [
      "0001: Eine Minute hat 60 Sekunden. Das sind   0.0167 Stunden. Eine Sekunde entspricht demnach 0.000278 Stunden.\n",
      "0002: Eine Minute hat 60 Sekunden. Das sind   0.0167 Stunden. Eine Sekunde entspricht demnach 0.000278 Stunden.\n",
      "0003: Eine Minute hat 60 Sekunden. Das sind   0.0167 Stunden. Eine Sekunde entspricht demnach 0.000278 Stunden.\n"
     ]
    }
   ],
   "source": [
    "# Hinweis: Zeichketten in Python mit formatierenden Platzhaltern -- verschiedene Wege zum gleichen Ziel\n",
    "s = 'Sekunde'\n",
    "m = 'Minute'\n",
    "h = 'Stunde'\n",
    "s_per_m = 60\n",
    "h_per_m = 1/60\n",
    "\n",
    "print('%04d: Eine %s hat %d %sn. Das sind %8.4f %sn. Eine %s entspricht demnach %.6f %sn.' % (1, m, s_per_m, s, h_per_m, h, s, h_per_m/s_per_m, h))\n",
    "print('{:04d}: Eine {} hat {} {}n. Das sind {:8.4f} {}n. Eine {} entspricht demnach {:.6f} {}n.'.format(2, m, s_per_m, s, h_per_m, h, s, h_per_m/s_per_m, h))\n",
    "print(f'{3:04d}: Eine {m} hat {s_per_m} {s}n. Das sind {h_per_m:8.4f} {h}n. Eine {s} entspricht demnach {h_per_m/s_per_m:.6f} {h}n.')"
   ]
  },
  {
   "cell_type": "code",
   "execution_count": null,
   "metadata": {},
   "outputs": [],
   "source": [
    "# Hier eigenen Code schreiben ...\n"
   ]
  },
  {
   "cell_type": "markdown",
   "metadata": {},
   "source": [
    "**2. Berechnen Sie für jeden Monat die Anzahl der Tage, an denen der [zulässige Richtwert](http://www.verwaltungsvorschriften-im-internet.de/bsvwvbund_26081998_IG19980826.htm) für urbane Gebiete von 63 dB überschritten wurde und berechnen Sie deren prozentualen Anteil an der Gesamtzahl der Werktage im jeweiligen Monat.**\n",
    "\n",
    "Beispiel:\n",
    "\n",
    "    Juli    :  6 Tage (26.1 %)\n",
    "    August  :  9 Tage (42.9 %)\n",
    "    \n",
    "<!-- Werktage Juli:23, August: 21 -->"
   ]
  },
  {
   "cell_type": "code",
   "execution_count": null,
   "metadata": {},
   "outputs": [],
   "source": [
    "# Hier eigenen Code schreiben ...\n"
   ]
  },
  {
   "cell_type": "markdown",
   "metadata": {},
   "source": [
    "**3. Durch intensive Maßnahemn zur Lärmminderung und -vermeidung könnte der Pegel um durchschnittlich 6 dB gesenkt werden. Schätzen Sie basierend auf den gegebenen Werten ab, wie viele (Werk-)Tage im Jahr es noch immer zu Richtwertüberschreitungen kommen würde. Wie sieht es bei 7 dB durchschnittlicher Pegelverringerung aus?**"
   ]
  },
  {
   "cell_type": "code",
   "execution_count": null,
   "metadata": {},
   "outputs": [],
   "source": [
    "# Hier eigenen Code schreiben ...\n"
   ]
  }
 ],
 "metadata": {
  "kernelspec": {
   "display_name": "Python 3",
   "language": "python",
   "name": "python3"
  },
  "language_info": {
   "codemirror_mode": {
    "name": "ipython",
    "version": 3
   },
   "file_extension": ".py",
   "mimetype": "text/x-python",
   "name": "python",
   "nbconvert_exporter": "python",
   "pygments_lexer": "ipython3",
   "version": "3.7.6"
  }
 },
 "nbformat": 4,
 "nbformat_minor": 4
}
