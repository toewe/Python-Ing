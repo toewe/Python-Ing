{
 "cells": [
  {
   "cell_type": "markdown",
   "metadata": {},
   "source": [
    "# **Python für Ingenieure**\n",
    "<!-- Lizensiert unter (CC BY 2.0) Gert Herold, 2020 -->\n",
    "# 4. Noch mehr Funktionen \n",
    "\n",
    "## 4.1. *map, lambda, filter*\n",
    "\n",
    "Nehmen wir als Ausgangspunkt eine Liste"
   ]
  },
  {
   "cell_type": "code",
   "execution_count": null,
   "metadata": {},
   "outputs": [],
   "source": [
    "a = [1,12,7,33,14,5,-3,6]"
   ]
  },
  {
   "cell_type": "markdown",
   "metadata": {},
   "source": [
    "**Beispiel 1:** Wir wollen alle Elemente dieser Liste quadrieren. Hierfür können wir eine Funktion schreiben und mittels einer Schleife diese auf alle Elemente der Liste anwenden und in einer neuen Liste speichern:"
   ]
  },
  {
   "cell_type": "code",
   "execution_count": null,
   "metadata": {},
   "outputs": [],
   "source": [
    "def quadriere(x):\n",
    "    return x*x\n",
    "\n",
    "a2 = []\n",
    "for i in a:\n",
    "    a2 += [quadriere(i)]\n",
    "a2"
   ]
  },
  {
   "cell_type": "markdown",
   "metadata": {},
   "source": [
    "Syntaktisch geht das auch etwas kürzer. Mit `map()` lässt sich eine Funktion auf eine Sequenz (z.B. eine Liste) anwenden:"
   ]
  },
  {
   "cell_type": "code",
   "execution_count": null,
   "metadata": {},
   "outputs": [],
   "source": [
    "list(map(quadriere,a)) # list() wandelt das Ergebnis in eine Liste um"
   ]
  },
  {
   "cell_type": "markdown",
   "metadata": {},
   "source": [
    "Mit `lambda` lassen sich \"anonyme\" Funktionen erstellen:"
   ]
  },
  {
   "cell_type": "code",
   "execution_count": null,
   "metadata": {},
   "outputs": [],
   "source": [
    "f = lambda x: x*x\n",
    "f(2)"
   ]
  },
  {
   "cell_type": "markdown",
   "metadata": {},
   "source": [
    "Damit lässt sich  die Aufgabe sogar ohne Funktionsdeklaration lösen:"
   ]
  },
  {
   "cell_type": "code",
   "execution_count": null,
   "metadata": {},
   "outputs": [],
   "source": [
    "list(map(lambda x: x*x,a))"
   ]
  },
  {
   "cell_type": "markdown",
   "metadata": {},
   "source": [
    "**Beispiel 2:** Wir wollen aus der Liste alle geraden Zahlen heraussuchen und als Liste speichern.\n",
    "Mit den bislang bekannten Tools geht das z.B. so:"
   ]
  },
  {
   "cell_type": "code",
   "execution_count": null,
   "metadata": {},
   "outputs": [],
   "source": [
    "a2 = []\n",
    "for i in a:\n",
    "    if i%2 ==0:\n",
    "        a2 += [i]\n",
    "a2"
   ]
  },
  {
   "cell_type": "markdown",
   "metadata": {},
   "source": [
    "Mit `filter` lassen sich aus einer Sequenz die Elemente herausfiltern, für die der Rückgabewert einer darauf angewendeten Funktion *True* ist:"
   ]
  },
  {
   "cell_type": "code",
   "execution_count": null,
   "metadata": {},
   "outputs": [],
   "source": [
    "# Suche aus Liste gerade Zahlen heraus:\n",
    "list(filter(lambda x: x%2==0,a))"
   ]
  },
  {
   "cell_type": "markdown",
   "metadata": {},
   "source": [
    "## 4.2. *List Comprehensions*\n",
    "\n",
    "Ein eleganter Weg, unter Python Listen nach einer gewünschten Vorschrift zu füllen, ist die Verwendung von *List Comprehensions* (dt.: Listen-Abstraktion).\n",
    "In den meisten Fällen können Aufgaben, die mit `map()`, `lambda` und `filter()` gelöst werden, auch über *List Comprehensions* erledigt werden.\n",
    "\n",
    "**Beispiel 1 mit L.C.:**"
   ]
  },
  {
   "cell_type": "code",
   "execution_count": null,
   "metadata": {},
   "outputs": [],
   "source": [
    "[i*i for i in a]"
   ]
  },
  {
   "cell_type": "markdown",
   "metadata": {},
   "source": [
    "**Beispiel 2 mit L.C.:**"
   ]
  },
  {
   "cell_type": "code",
   "execution_count": null,
   "metadata": {},
   "outputs": [],
   "source": [
    "[i for i in a if i%2==0]"
   ]
  },
  {
   "cell_type": "markdown",
   "metadata": {},
   "source": [
    "Hilfreich im Umgang mit Listen sind häufig auch die Funktionen `any()` und `all()`. \n",
    "Sie werden verwendet um zu überprüfen, ob mindestens eines bzw. alle Elemente einer Sequenz den Wert *True* enthalten."
   ]
  },
  {
   "cell_type": "code",
   "execution_count": null,
   "metadata": {},
   "outputs": [],
   "source": [
    "any([True, True, False, True])"
   ]
  },
  {
   "cell_type": "markdown",
   "metadata": {},
   "source": [
    "Im folgenden Beispiel wird überprüft, ob ...\n",
    "  * ... alle Elemente in der Liste `a` größer als 10 sind\n",
    "  * ... ein oder mehrere Elemente größer als 10 sind"
   ]
  },
  {
   "cell_type": "code",
   "execution_count": null,
   "metadata": {},
   "outputs": [],
   "source": [
    "if all([i>10 for i in a]): \n",
    "    print('Alle')\n",
    "else:\n",
    "    print('Nicht alle')\n",
    "\n",
    "if any([i>10 for i in a]): \n",
    "    print('Mindestens eines')\n",
    "else:\n",
    "    print('Gar keines')"
   ]
  },
  {
   "cell_type": "markdown",
   "metadata": {},
   "source": [
    "## Übung\n",
    "\n",
    "**1) Schreiben Sie einen (möglichst kurzen) Einzeiler, der eine Liste mit Zeichenketten wie \"Das Quadrat von 2 ist 4.\" für die Zahlen von 1 bis 20 erzeugt.**"
   ]
  },
  {
   "cell_type": "code",
   "execution_count": null,
   "metadata": {},
   "outputs": [],
   "source": [
    "# Hier eigenen Code schreiben ...\n"
   ]
  },
  {
   "cell_type": "markdown",
   "metadata": {},
   "source": [
    "**2) Interpretieren Sie den folgenden Code-Abschnitt. Was bedeutet das Ergebnis und wie wird es erreicht?**"
   ]
  },
  {
   "cell_type": "code",
   "execution_count": null,
   "metadata": {},
   "outputs": [],
   "source": [
    "max_zahl=19\n",
    "[zahl for zahl in range(2,max_zahl+1) if all([zahl % divisor != 0 for divisor in range(2,zahl)])]"
   ]
  },
  {
   "cell_type": "markdown",
   "metadata": {},
   "source": [
    "**3) Schreiben Sie einen kurzen Programmabschnitt, der aus einem Text alle Wörter heraussucht, die ein \"a\" enthalten.**"
   ]
  },
  {
   "cell_type": "code",
   "execution_count": null,
   "metadata": {},
   "outputs": [],
   "source": [
    "# Hier eigenen Code schreiben ...\n"
   ]
  }
 ],
 "metadata": {
  "kernelspec": {
   "display_name": "Python 3",
   "language": "python",
   "name": "python3"
  },
  "language_info": {
   "codemirror_mode": {
    "name": "ipython",
    "version": 3
   },
   "file_extension": ".py",
   "mimetype": "text/x-python",
   "name": "python",
   "nbconvert_exporter": "python",
   "pygments_lexer": "ipython3",
   "version": "3.7.4"
  }
 },
 "nbformat": 4,
 "nbformat_minor": 4
}
