{
 "cells": [
  {
   "cell_type": "markdown",
   "metadata": {},
   "source": [
    "## Übung\n",
    "\n",
    "**1) Berechnen Sie die Summe aller ungeraden ganzen Zahlen zwischen 75 und 1001 ...**\n",
    "  * ... mithilfe einer for-Schleife.\n",
    "  * ... mithilfe einer while-Schleife.\n",
    "  * ... ohne Schleife."
   ]
  },
  {
   "cell_type": "code",
   "execution_count": 1,
   "metadata": {},
   "outputs": [
    {
     "name": "stdout",
     "output_type": "stream",
     "text": [
      "249632\n",
      "249632\n",
      "249632\n"
     ]
    }
   ],
   "source": [
    "# Hier eigenen Code schreiben ...\n",
    "s = 0\n",
    "for i in range(75,1002,2):\n",
    "    s+=i\n",
    "print(s)\n",
    "\n",
    "s = 0\n",
    "i = 75\n",
    "while i <= 1001:\n",
    "    s += i\n",
    "    i += 2\n",
    "print(s)\n",
    "\n",
    "print(sum(range(75,1002,2)))    "
   ]
  },
  {
   "cell_type": "markdown",
   "metadata": {},
   "source": [
    "**2) Nähern Sie die Kreiszahl $\\pi$ iterativ an. Hierfür können Sie z.B. das [Wallissche Produkt](https://de.wikipedia.org/wiki/Wallissches_Produkt) verwenden.**\n",
    "\n",
    "$$\n",
    "\\pi= 2\\,\\prod_{i=1}^\\infty\\left(1+\\frac{1}{4i^2-1}\\right)\n",
    "$$"
   ]
  },
  {
   "cell_type": "code",
   "execution_count": 2,
   "metadata": {},
   "outputs": [
    {
     "data": {
      "text/plain": [
       "3.141584799578707"
      ]
     },
     "execution_count": 2,
     "metadata": {},
     "output_type": "execute_result"
    }
   ],
   "source": [
    "# Hier eigenen Code schreiben ...\n",
    "pi = 2\n",
    "for i in range(1,100000):\n",
    "    pi *= (1 + 1/(4*i*i-1))\n",
    "pi"
   ]
  },
  {
   "cell_type": "markdown",
   "metadata": {},
   "source": [
    "**3) Schreiben Sie einen kurzen Programmabschnitt, der vom Nutzer eingegebene Zahlwörter in Integer-Zahlen von 1 bis 4 umwandelt. Verwenden Sie hierfür ...**\n",
    "  * ...eine *if/elif/else*-Struktur\n",
    "  * ...nur ein *Dictionary*"
   ]
  },
  {
   "cell_type": "code",
   "execution_count": 6,
   "metadata": {},
   "outputs": [
    {
     "name": "stdin",
     "output_type": "stream",
     "text": [
      "Geben Sie ein Zahlwort zwischen \"eins\" und \"vier\" ein: drei\n"
     ]
    },
    {
     "name": "stdout",
     "output_type": "stream",
     "text": [
      "3\n",
      "3\n"
     ]
    }
   ],
   "source": [
    "# Die input-Funktion fragt Nutzereingaben ab:\n",
    "zahlwort = input('Geben Sie ein Zahlwort zwischen \"eins\" und \"vier\" ein:')\n",
    "\n",
    "if zahlwort == 'eins':\n",
    "    d = 1\n",
    "elif zahlwort == 'zwei':\n",
    "    d = 2\n",
    "elif zahlwort == 'drei':\n",
    "    d = 3\n",
    "elif zahlwort == 'vier':\n",
    "    d = 4\n",
    "else:\n",
    "    d = None\n",
    "print(d)\n",
    "    \n",
    "d = {'eins':1,\n",
    "     'zwei':2,\n",
    "     'drei':3,\n",
    "     'vier':4}\n",
    "\n",
    "print(d[zahlwort])"
   ]
  }
 ],
 "metadata": {
  "kernelspec": {
   "display_name": "Python 3",
   "language": "python",
   "name": "python3"
  },
  "language_info": {
   "codemirror_mode": {
    "name": "ipython",
    "version": 3
   },
   "file_extension": ".py",
   "mimetype": "text/x-python",
   "name": "python",
   "nbconvert_exporter": "python",
   "pygments_lexer": "ipython3",
   "version": "3.7.4"
  }
 },
 "nbformat": 4,
 "nbformat_minor": 4
}
