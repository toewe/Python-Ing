{
 "cells": [
  {
   "cell_type": "markdown",
   "metadata": {},
   "source": [
    "# Hausaufgabe 3\n",
    "## Particle Image Velocimetry\n",
    "<!-- Lizensiert unter (CC BY 2.0) Gert Herold, 2020 -->\n",
    "\n",
    "Zur Charakterisierung der Bewegung in einem Strömungsfeldes findet häufig das optische Messverfahren [Particle Image Velocimetry (PIV)](https://de.wikipedia.org/wiki/Particle_Image_Velocimetry) Anwendung.\n",
    "Hierfür werden in das Fluid eingebrachte Partikel mit einem zur Ebene aufgeweiteten Laserstrahl beleuchtet und in kurzen Abständen nacheinander fotografiert.\n",
    "Aus der Ortsveränderung der Partikel und dem bekannten Abstand zwischen den Aufnahmen können die Geschwindigkeitsvektoren bestimmt werden.\n",
    "\n",
    "Es sollen Funktionen geschrieben werden, mit deren Hilfe sich Berechnung und Visualisierung eines Geschwindigkeits-Vektorfeldes basierend auf zwei aufgenommenen Bildern realisieren lassen.\n",
    "\n",
    "Zunächst werden einige Module importiert, die hilfreiche Funktionen zur Verfügung stellen:"
   ]
  },
  {
   "cell_type": "code",
   "execution_count": 2,
   "metadata": {},
   "outputs": [],
   "source": [
    "%matplotlib widget\n",
    "import matplotlib.pyplot as plt\n",
    "import numpy as np\n",
    "from scipy import signal"
   ]
  },
  {
   "cell_type": "markdown",
   "metadata": {},
   "source": [
    "**1) Schreiben Sie eine Funktion *loaddata()* die zwei Arrays mit (Bildhöhe) $\\times$ (Bildbreite) Einträgen zurückgibt, die die Bildinformationen (Helligkeitswerte als Zahl) enthalten.**\n",
    "\n",
    "  * Als Parameter sollen hierfür zwei Dateipfade übergeben werden. Das Einlesen kann z.B. mittels [imread](https://matplotlib.org/3.1.1/api/_as_gen/matplotlib.pyplot.imread.html) geschehen.\n",
    "  * Eventuell im Bild enthaltene Farbinformationen sind hier nicht weiter von Interesse. Sind im Bild mehrere Farbkanäle pro Pixel enthalten (z.B. RGB), soll die Information auf einen Kanal reduziert werden.\n",
    "  * Es soll direkt überprüft werden, ob beide Bilder dieselben Abmaße haben. Andernfalls ist eine Fehlermeldung auszugeben: \n",
    "  ```python \n",
    "        raise ValueError('Dimensions of input images do not match!')\n",
    "  ```"
   ]
  },
  {
   "cell_type": "code",
   "execution_count": 3,
   "metadata": {},
   "outputs": [],
   "source": [
    "# Hier eigenen Code schreiben ...\n",
    "def loaddata(path1,path2):\n",
    "    im1 = plt.imread(path1)\n",
    "    im2 = plt.imread(path2)\n",
    "    if im1.shape != im2.shape:\n",
    "        raise ValueError('Dimensions of input images do not match!')\n",
    "    else:\n",
    "        if len(im1.shape) > 2:\n",
    "            if im1.shape[2] == 2:\n",
    "                im1 = np.mean(im1[:,:,:3],2)\n",
    "            else:\n",
    "                im1 = np.mean(im1[:,:,:4],2)\n",
    "        if len(im2.shape) > 2:\n",
    "            if im2.shape[2] == 2:\n",
    "                im2 = np.mean(im2[:,:,:3],2)\n",
    "            else:\n",
    "                im2 = np.mean(im2[:,:,:4],2)\n",
    "        return im1, im2"
   ]
  },
  {
   "cell_type": "markdown",
   "metadata": {},
   "source": [
    "**2) Testen Sie das Laden der Dateien. Die verwendeten Dateien finden Sie im separaten Archiv \"*img_HA3.zip*\".**\n",
    "\n",
    "  * **Geben Sie die Dimensionen der zurückgegebenen Arrays an, wenn Sie als Input die folgenden Dateipaare verwenden:**\n",
    "\n",
    "|Bild 1| Bild 2|\n",
    "|-|-|\n",
    "|[B005_1.tif](http://www.pivchallenge.org/pub/index.html#b)|[B005_2.tif](http://www.pivchallenge.org/pub/index.html#b)|\n",
    "|[B038a.bmp](http://www.pivchallenge.org/pub03/index.html#b)|[B038b.bmp](http://www.pivchallenge.org/pub03/index.html#b)|\n",
    "|[B_010.TIF](http://www.pivchallenge.org/pub05/index.html#b)|[B_014.TIF](http://www.pivchallenge.org/pub05/index.html#b)|\n",
    "|[A001_1.tif](http://www.pivchallenge.org/pub/index.html#a)|[A001_2.tif](http://www.pivchallenge.org/pub/index.html#a)|\n",
    "|[A045a.tif](http://www.pivchallenge.org/pub03/index.html#a)|[A045b.tif](http://www.pivchallenge.org/pub03/index.html#a)|\n",
    "\n",
    "  * **Überprüfen Sie das Verhalten Ihrer Funktion, wenn folgendes Dateipaar geladen wird:**\n",
    "  \n",
    "|Bild 1| Bild 2|\n",
    "|-|-|\n",
    "|[B038a.bmp](http://www.pivchallenge.org/pub03/index.html#b)|[A001_1.tif](http://www.pivchallenge.org/pub05/index.html#c)|\n",
    "\n",
    "Die Bilddateien sind Testfälle der \"PIV Challenge\"-Benchmark-Initiative (http://www.pivchallenge.org/). Die Quellen der jeweiligen Bilder sind in der Tabelle verlinkt."
   ]
  },
  {
   "cell_type": "code",
   "execution_count": 4,
   "metadata": {},
   "outputs": [
    {
     "name": "stdout",
     "output_type": "stream",
     "text": [
      "B005_1.tif B005_2.tif\n",
      "(512, 512) (512, 512)\n",
      "B038a.bmp B038b.bmp\n",
      "(512, 1536) (512, 1536)\n",
      "B_010.TIF B_010.TIF\n",
      "(688, 1440) (688, 1440)\n",
      "A001_1.tif A001_2.tif\n",
      "(1024, 1280) (1024, 1280)\n",
      "A045a.tif A045b.tif\n",
      "(1004, 992) (1004, 992)\n"
     ]
    },
    {
     "ename": "ValueError",
     "evalue": "Dimensions of input images do not match!",
     "output_type": "error",
     "traceback": [
      "\u001b[1;31m---------------------------------------------------------------------------\u001b[0m",
      "\u001b[1;31mValueError\u001b[0m                                Traceback (most recent call last)",
      "\u001b[1;32m<ipython-input-4-46552aafe7fe>\u001b[0m in \u001b[0;36m<module>\u001b[1;34m\u001b[0m\n\u001b[0;32m      3\u001b[0m \u001b[0mpath_list\u001b[0m \u001b[1;33m=\u001b[0m \u001b[1;33m[\u001b[0m\u001b[1;33m[\u001b[0m\u001b[1;34m'B005_1.tif'\u001b[0m\u001b[1;33m,\u001b[0m \u001b[1;34m'B005_2.tif'\u001b[0m\u001b[1;33m]\u001b[0m\u001b[1;33m,\u001b[0m \u001b[1;33m[\u001b[0m\u001b[1;34m'B038a.bmp'\u001b[0m\u001b[1;33m,\u001b[0m \u001b[1;34m'B038b.bmp'\u001b[0m\u001b[1;33m]\u001b[0m\u001b[1;33m,\u001b[0m \u001b[1;33m[\u001b[0m\u001b[1;34m'B_010.TIF'\u001b[0m\u001b[1;33m,\u001b[0m \u001b[1;34m'B_010.TIF'\u001b[0m\u001b[1;33m]\u001b[0m\u001b[1;33m,\u001b[0m \u001b[1;33m[\u001b[0m\u001b[1;34m'A001_1.tif'\u001b[0m\u001b[1;33m,\u001b[0m \u001b[1;34m'A001_2.tif'\u001b[0m\u001b[1;33m]\u001b[0m\u001b[1;33m,\u001b[0m \u001b[1;33m[\u001b[0m\u001b[1;34m'A045a.tif'\u001b[0m\u001b[1;33m,\u001b[0m \u001b[1;34m'A045b.tif'\u001b[0m\u001b[1;33m]\u001b[0m\u001b[1;33m,\u001b[0m\u001b[1;33m[\u001b[0m\u001b[1;34m'B038a.bmp'\u001b[0m\u001b[1;33m,\u001b[0m\u001b[1;34m'A001_1.tif'\u001b[0m\u001b[1;33m]\u001b[0m\u001b[1;33m]\u001b[0m\u001b[1;33m\u001b[0m\u001b[1;33m\u001b[0m\u001b[0m\n\u001b[0;32m      4\u001b[0m \u001b[1;32mfor\u001b[0m \u001b[0mpath\u001b[0m \u001b[1;32min\u001b[0m \u001b[0mpath_list\u001b[0m\u001b[1;33m:\u001b[0m\u001b[1;33m\u001b[0m\u001b[1;33m\u001b[0m\u001b[0m\n\u001b[1;32m----> 5\u001b[1;33m     \u001b[0mim1\u001b[0m\u001b[1;33m,\u001b[0m \u001b[0mim2\u001b[0m \u001b[1;33m=\u001b[0m \u001b[0mloaddata\u001b[0m\u001b[1;33m(\u001b[0m\u001b[0mprefix\u001b[0m \u001b[1;33m+\u001b[0m \u001b[0mpath\u001b[0m\u001b[1;33m[\u001b[0m\u001b[1;36m0\u001b[0m\u001b[1;33m]\u001b[0m\u001b[1;33m,\u001b[0m \u001b[0mprefix\u001b[0m \u001b[1;33m+\u001b[0m \u001b[0mpath\u001b[0m\u001b[1;33m[\u001b[0m\u001b[1;36m1\u001b[0m\u001b[1;33m]\u001b[0m\u001b[1;33m)\u001b[0m\u001b[1;33m\u001b[0m\u001b[1;33m\u001b[0m\u001b[0m\n\u001b[0m\u001b[0;32m      6\u001b[0m     \u001b[0mprint\u001b[0m\u001b[1;33m(\u001b[0m\u001b[0mpath\u001b[0m\u001b[1;33m[\u001b[0m\u001b[1;36m0\u001b[0m\u001b[1;33m]\u001b[0m\u001b[1;33m,\u001b[0m \u001b[0mpath\u001b[0m\u001b[1;33m[\u001b[0m\u001b[1;36m1\u001b[0m\u001b[1;33m]\u001b[0m\u001b[1;33m)\u001b[0m\u001b[1;33m\u001b[0m\u001b[1;33m\u001b[0m\u001b[0m\n\u001b[0;32m      7\u001b[0m     \u001b[0mprint\u001b[0m\u001b[1;33m(\u001b[0m\u001b[0mim1\u001b[0m\u001b[1;33m.\u001b[0m\u001b[0mshape\u001b[0m\u001b[1;33m,\u001b[0m \u001b[0mim2\u001b[0m\u001b[1;33m.\u001b[0m\u001b[0mshape\u001b[0m\u001b[1;33m)\u001b[0m\u001b[1;33m\u001b[0m\u001b[1;33m\u001b[0m\u001b[0m\n",
      "\u001b[1;32m<ipython-input-3-bfe7116b0b79>\u001b[0m in \u001b[0;36mloaddata\u001b[1;34m(path1, path2)\u001b[0m\n\u001b[0;32m      4\u001b[0m     \u001b[0mim2\u001b[0m \u001b[1;33m=\u001b[0m \u001b[0mplt\u001b[0m\u001b[1;33m.\u001b[0m\u001b[0mimread\u001b[0m\u001b[1;33m(\u001b[0m\u001b[0mpath2\u001b[0m\u001b[1;33m)\u001b[0m\u001b[1;33m\u001b[0m\u001b[1;33m\u001b[0m\u001b[0m\n\u001b[0;32m      5\u001b[0m     \u001b[1;32mif\u001b[0m \u001b[0mim1\u001b[0m\u001b[1;33m.\u001b[0m\u001b[0mshape\u001b[0m \u001b[1;33m!=\u001b[0m \u001b[0mim2\u001b[0m\u001b[1;33m.\u001b[0m\u001b[0mshape\u001b[0m\u001b[1;33m:\u001b[0m\u001b[1;33m\u001b[0m\u001b[1;33m\u001b[0m\u001b[0m\n\u001b[1;32m----> 6\u001b[1;33m         \u001b[1;32mraise\u001b[0m \u001b[0mValueError\u001b[0m\u001b[1;33m(\u001b[0m\u001b[1;34m'Dimensions of input images do not match!'\u001b[0m\u001b[1;33m)\u001b[0m\u001b[1;33m\u001b[0m\u001b[1;33m\u001b[0m\u001b[0m\n\u001b[0m\u001b[0;32m      7\u001b[0m     \u001b[1;32melse\u001b[0m\u001b[1;33m:\u001b[0m\u001b[1;33m\u001b[0m\u001b[1;33m\u001b[0m\u001b[0m\n\u001b[0;32m      8\u001b[0m         \u001b[1;32mif\u001b[0m \u001b[0mlen\u001b[0m\u001b[1;33m(\u001b[0m\u001b[0mim1\u001b[0m\u001b[1;33m.\u001b[0m\u001b[0mshape\u001b[0m\u001b[1;33m)\u001b[0m \u001b[1;33m>\u001b[0m \u001b[1;36m2\u001b[0m\u001b[1;33m:\u001b[0m\u001b[1;33m\u001b[0m\u001b[1;33m\u001b[0m\u001b[0m\n",
      "\u001b[1;31mValueError\u001b[0m: Dimensions of input images do not match!"
     ]
    }
   ],
   "source": [
    "#Hier eigenen Code schreiben ...\n",
    "prefix = 'img/'\n",
    "path_list = [['B005_1.tif', 'B005_2.tif'], ['B038a.bmp', 'B038b.bmp'], ['B_010.TIF', 'B_010.TIF'], ['A001_1.tif', 'A001_2.tif'], ['A045a.tif', 'A045b.tif'],['B038a.bmp','A001_1.tif']]\n",
    "for path in path_list:\n",
    "    im1, im2 = loaddata(prefix + path[0], prefix + path[1])\n",
    "    print(path[0], path[1])\n",
    "    print(im1.shape, im2.shape)"
   ]
  },
  {
   "cell_type": "markdown",
   "metadata": {},
   "source": [
    " * **Laden Sie die Daten aus dem Dateipaar (`B005_1.tif`, `B005_2.tif`) und visualisieren Sie den jeweiligen Array-Inhalt in zwei benachbarten Plots.**"
   ]
  },
  {
   "cell_type": "code",
   "execution_count": 5,
   "metadata": {},
   "outputs": [
    {
     "data": {
      "application/vnd.jupyter.widget-view+json": {
       "model_id": "1ee03b8052104a6b958aac2f39e68317",
       "version_major": 2,
       "version_minor": 0
      },
      "text/plain": [
       "Canvas(toolbar=Toolbar(toolitems=[('Home', 'Reset original view', 'home', 'home'), ('Back', 'Back to previous …"
      ]
     },
     "metadata": {},
     "output_type": "display_data"
    }
   ],
   "source": [
    "# Hier eigenen Code schreiben ...\n",
    "im1, im2 = loaddata(prefix + path_list[0][0], prefix + path_list[0][1])\n",
    "plt.subplot(1,2,1)\n",
    "plt.imshow(im1)\n",
    "plt.subplot(1,2,2)\n",
    "plt.imshow(im2)\n",
    "plt.show()"
   ]
  },
  {
   "cell_type": "markdown",
   "metadata": {},
   "source": [
    "**3) Schreiben Sie eine Funktion *piv()*, die zwei Dateipfade übergeben bekommt und basierend auf den Bilddaten ein Geschwindigkeitsvektorfeld berechnet.**\n",
    "\n",
    "  * **Zusätzlich zu den beiden Dateipfaden sollen optional mindestens folgende Parameter übergeben werden können:**\n",
    "    * *size_interr_window*: Seitenlänge (in Pixel) des quadratischen Ausschnitts, dessen Bewegung untersucht werden soll. Standardwert: $20$\n",
    "    * *size_search_window*: Seitenlänge (in Pixel) des quadratischen Ausschnitts, innerhalb dessen die höchste Korrelation gesucht werden soll. Der Wert muss sinnvollerweise mindestens so groß wie *size_interr_window* sein (andernfalls Fehlermeldung ausgeben). Standardwert: *None* (setzen auf *size_interr_window*, falls nicht angegeben)\n",
    "  * **Folgende Werte sollen zurückgegeben werden:**\n",
    "    * *X*, *Y*: jeweils 2D-Arrays, die das Pixel-Koordinatengitter zum Vektorfeld definieren.\n",
    "    * *U*, *V*: jeweils 2D-Arrays (Dimensionen entsprechen (*len(x), len(y)*), die die Geschwindigkeitskomponenten in x- und y-Richtung enthalten.\n",
    "\n",
    "Hinweise:\n",
    "\n",
    "  * Sinnvollerweise kann zum Laden der Dateien direkt obige Funktion *loaddata()* verwendet werden.\n",
    "  * Die Größe des zurückgegebenen Vektorfeldes bestimmt sich aus der Größe der Ausgangsbilder, der Größe der Interrogationsfenster sowie der Suchfenster.\n",
    "  * Ein mit Nullen gefülltes Array lässt sich z.B. mit NumPys [*zeros()*](https://docs.scipy.org/doc/numpy/reference/generated/numpy.zeros.html)-Funktion erzeugen.\n",
    "  * Die quadratischen *Interrogations*fenster grenzen immer direkt aneinander. Ein zu einem Interrogationsfenster gehörendes *Such*fenster hat den gleichen Mittelpunkt wie das Interrogationsfenster.\n",
    "  * Eine zweidimensionale Kreuzkorrelation lässt sich z.B. mit den Funktionen [*correlate2d()*](https://docs.scipy.org/doc/scipy/reference/generated/scipy.signal.correlate2d.html) oder [*fftconvolve()*](https://docs.scipy.org/doc/scipy/reference/generated/scipy.signal.fftconvolve.html) aus dem Paket *scipy.signal* berechnen.\n",
    "  * Für eine leichtere Fehlersuche ist es sinnvoll, mit Testausgaben (oder -plots) zu überprüfen, ob Zwischenschritte den Erwartungen entsprechen.\n",
    "  * Um aus einem Vektor mit x-Koordinaten und einem Vektor mit y-Koordinaten ein 2D-Gitter aufzuspannen (auf dem alle x- und y-Koordinaten kombiniert werden), kann die NumPy-Funktion [*meshgrid()*](https://docs.scipy.org/doc/numpy/reference/generated/numpy.meshgrid.html) verwendet werden.\n",
    "\n",
    "    "
   ]
  },
  {
   "cell_type": "code",
   "execution_count": 6,
   "metadata": {},
   "outputs": [
    {
     "data": {
      "application/vnd.jupyter.widget-view+json": {
       "model_id": "efdfcb4d943f4fa482e5de875f9b20ea",
       "version_major": 2,
       "version_minor": 0
      },
      "text/plain": [
       "Canvas(toolbar=Toolbar(toolitems=[('Home', 'Reset original view', 'home', 'home'), ('Back', 'Back to previous …"
      ]
     },
     "metadata": {},
     "output_type": "display_data"
    },
    {
     "data": {
      "text/plain": [
       "<matplotlib.colorbar.Colorbar at 0x1d76c6221c8>"
      ]
     },
     "execution_count": 6,
     "metadata": {},
     "output_type": "execute_result"
    }
   ],
   "source": [
    "%matplotlib widget\n",
    "im1=im1/256\n",
    "im2=im2/256\n",
    "cross = np.array([[0,0,1,0],\n",
    "                  [0,0,1,0],\n",
    "                  [1,1,1,1],\n",
    "                  [0,0,1,0]])\n",
    "test_im = np.zeros((20, 20))\n",
    "trans_x = 3\n",
    "trans_y = 3\n",
    "test_im[8+trans_x:12+trans_x, 8+trans_y:12+trans_y] = cross\n",
    "plt.imshow(im1[200:220, 200:220])\n",
    "\n",
    "x_start = 200\n",
    "x_range = 20\n",
    "y_start = 200\n",
    "y_range = 20\n",
    "\n",
    "corr = signal.correlate2d(im2, im1[x_start:x_start+x_range, y_start:y_start+y_range], mode='same')\n",
    "#plt.imshow(corr)\n",
    "a = np.asarray(corr==corr.max()).nonzero()\n",
    "#plt.imshow(corr[380:400, 380:400])\n",
    "plt.imshow(im2[a[0][0]-x_range//2:a[0][0]+x_range//2,a[1][0]-y_range//2:a[1][0]+y_range//2])\n",
    "plt.colorbar()"
   ]
  },
  {
   "cell_type": "code",
   "execution_count": 39,
   "metadata": {},
   "outputs": [
    {
     "name": "stdout",
     "output_type": "stream",
     "text": [
      "[[ -2.  -2.  -2.  -2.  -2.  -1.  -1.  -1.  -1.  -1.  -1.  -1.  -1.  -1.\n",
      "    0.  -1.  -1.   0.  -1.  -1.   0.   0.   0.   0.   0.   0.]\n",
      " [ -2.  -2.  -2.  -2.  -2.  -2.  -1.  -1.  -1.  -1.  -1.  -1.  -1.  -1.\n",
      "    0.   0.   0.   0.   0.   0.   0.   0.   0.   0.   0.   0.]\n",
      " [ -2.  -1.  -2.  -2.  -2.  -2.  -1.  -1.  -1.  -1.  -1.  -1.  -1.   0.\n",
      "    0.   0.   0.   0.   0.   0.   0.   0.   0.   0.   0.   0.]\n",
      " [ -2.  -2.  -2.  -2.  -2.  -2.  -2.  -1.  -1.  -1.  -1.  -1.   0.   0.\n",
      "    0.   0.   0.   0.   0.   0.   0.   0.   0.   0.   0.   0.]\n",
      " [ -2.  -2.  -2.  -2.  -2.  -2.  -2.  -2.  -1.  -1.  -1.  -1.   0.   0.\n",
      "    0.   0.   0.   0.   0.   0.   0.   0.   0.   0.   0.   0.]\n",
      " [ -2.  -2.  -2.  -2.  -2.  -2.  -2.  -2.  -1.  -1.  -1.   0.   0.   0.\n",
      "    0.   0.   0.   0.   0.   0.   0.   0.   0.   0.   0.   0.]\n",
      " [ -2.  -3.  -2.  -3.  -3.  -2.  -2.  -2.  -2.  -1.  -1.   0.   0.   0.\n",
      "    0.   0.   0.   0.   0.   0.   0.   0.   0.   0.   0.   0.]\n",
      " [ -2.  -3.  -3.  -3.  -3.  -3.  -3.  -3.  -2.  -1.  -1.   0.   0.   0.\n",
      "    1.   0.   0.   0.   0.   0.   0.   0.   0.   0.   0.   0.]\n",
      " [ -3.  -3.  -3.  -3.  -3.  -3.  -4.  -3.  -3.  -1.   0.   0.   1.   1.\n",
      "    1.   1.   1.   0.   0.   0.   0.   0.   0.   0.   0.   0.]\n",
      " [ -3.  -3.  -3.  -3.   2.  -4.  -4.  -5.  -4.  -2.   0.   2.   2.   2.\n",
      "    2.   1.   1.   1.   1.   0.   0.   0.   0.   0.   0.   0.]\n",
      " [ -3.  -3.  -3.  -4.  -4.  -4.  -5.  -6.  -7.  -5.   3.   4.   3.   2.\n",
      "    2.   1.   1.   1.   1.   1.   0.   0.   0.   0.   0.   0.]\n",
      " [ -2.  -3.  -3.  -4.  -4.  -4.  -6.   6. -10.  -1.   9.  -6.   5.   2.\n",
      "    2.   2.   1.   1.   1.   0.   0.   0.   0.   0.   0.   0.]\n",
      " [ -3.  -3.  -3.  -3.  -4.  -5.  -5.  -6.  -9.  -9.   0.   7.   4.   4.\n",
      "    2.   2.   1.   1.   1.   0.   0.   0.   0.   0.   0.   0.]\n",
      " [ -3.  -3.  -3.  -3.  -3.  -4.  -4.  -5.  -6.  -2.   2.   4.   4.   3.\n",
      "    2.   2.   1.   1.   1.   1.   0.   0.   0.   0.   0.   0.]\n",
      " [ -2.  -3.  -3.  -3.  -3.  -3.  -4.  -4.  -3.  -2.   0.  -6.   2.   2.\n",
      "    2.   1.   1.   1.   1.   1.   0.   0.   0.   0.   0.   0.]\n",
      " [ -2.  -2.  -3.  -3.  -3.  -3.  -3.  -3.  -2.  -2.  -1.   1.   2.   1.\n",
      "    1.   1.   1.   1.   1.   1.   0.   0.   0.   0.   0.   0.]\n",
      " [ -2.  -2.  -2.  -2.  -2.  -2.  -2.  -2.  -2.  -1.  -1.   0.   1.   1.\n",
      "    1.   1.   1.   1.   0.   0.   0.   0.   0.   0.   0.   0.]\n",
      " [ -2.  -2.  -2.  -2.  -2.  -2.  -2.  -2.  -2.  -1.  -1.   0.   0.   0.\n",
      "    1.   1.   1.   1.   0.   0.   0.   0.   0.   0.   0.   0.]\n",
      " [ -2.  -2.  -2.  -2.  -2.  -2.  -2.  -2.  -1.  -1.  -1.   0.   0.   0.\n",
      "    0.   0.   0.   0.   0.   0.   0.   0.   0.   0.   0.   0.]\n",
      " [ -2.  -2.  -2.  -2.  -2.  -2.  -2.  -2.  -1.  -1.  -1.  -1.  -1.   0.\n",
      "    0.   0.   0.   0.   0.   0.   0.   0.   0.   0.   0.   0.]\n",
      " [ -2.  -2.  -2.  -2.  -2.  -2.  -2.  -1.  -1.  -1.  -1.  -1.   0.   0.\n",
      "    0.   0.   0.   0.   0.   0.   0.   0.   0.   0.   0.   0.]\n",
      " [ -2.  -2.  -2.  -2.  -2.  -2.  -2.  -1.  -1.  -1.  -1.  -1.  -1.  -1.\n",
      "    0.   0.   0.   0.   0.   0.   0.   0.   0.   0.   0.   0.]\n",
      " [ -2.  -2.  -2.  -2.  -2.  -2.  -1.  -1.  -1.  -1.  -1.  -1.  -1.  -1.\n",
      "    0.   0.   0.   0.   0.   0.   0.   0.   0.   0.   0.   0.]\n",
      " [ -2.  -2.  -2.  -2.  -2.  -1.  -1.  -1.  -1.  -1.  -1.  -1.  -1.  -1.\n",
      "   -1.   0.  -1.  -1.  -1.   0.   0.   0.   0.   0.   0.   0.]\n",
      " [ -2.  -2.  -2.  -2.  -1.  -1.  -1.  -1.  -1.  -1.  -1.  -1.  -1.  -1.\n",
      "   -1.  -1.  -1.   0.   0.   0.  -1.   0.   0.   0.   0.   0.]\n",
      " [ -6.  -5.  -5.  -5.  -5.  -5.  -5.  -5.  -5.  -5.  -5.  -5.  -5.  -5.\n",
      "   -5.  -5.  -5.  -5.  -4.  -5.  -5.  -5.  -4.  -4.  -4.  -4.]]\n"
     ]
    }
   ],
   "source": [
    "# Hier eigenen Code \n",
    "def piv(path1, path2, size_interr_window=20, size_search_window=None):\n",
    "    im1, im2 = loaddata(path1, path2)\n",
    "    if size_search_window == None:\n",
    "        size_search_window = size_interr_window\n",
    "    elif size_search_window < size_interr_window:\n",
    "        raise ValueError(\"Search window must be equal or bigger than interrogation window.\") \n",
    "\n",
    "    size_interr_lower = size_interr_window//2\n",
    "    size_interr_upper = size_interr_lower if size_interr_window%2 == 0 else size_interr_lower+1 \n",
    "    size_search_lower = size_search_window//2\n",
    "    size_search_upper = size_search_lower if size_search_window%2 == 0 else size_search_lower+1 \n",
    "    \n",
    "    x_axis = np.arange(size_interr_window//2, im1.shape[0], size_interr_window)\n",
    "    y_axis = np.arange(size_interr_window//2, im1.shape[1], size_interr_window)\n",
    "    [x_grid, y_grid] = np.meshgrid(x_axis, y_axis)\n",
    "    U = np.zeros(x_grid.shape)\n",
    "    V = np.zeros(x_grid.shape)\n",
    "    for i, x in enumerate(x_axis):\n",
    "        for j, y in enumerate(y_axis):\n",
    "            corr = signal.correlate2d(im2[x - size_search_lower:x + size_search_upper,\n",
    "                                          y - size_search_lower:y + size_search_upper],\n",
    "                                      im1[x - size_interr_lower:x + size_interr_upper,\n",
    "                                          y - size_interr_lower:y + size_interr_upper],\n",
    "                                      mode='same')\n",
    "            max_x, max_y = np.asarray(corr==corr.max()).nonzero()\n",
    "            U[i][j] = max_x - size_search_lower\n",
    "            V[i][j] = max_y - size_search_lower\n",
    "    return x_grid, y_grid, U, V\n",
    "            \n",
    "X, Y, U, V = piv(prefix + path_list[0][0], prefix + path_list[0][1])\n",
    "print(U)"
   ]
  },
  {
   "cell_type": "code",
   "execution_count": 32,
   "metadata": {},
   "outputs": [
    {
     "data": {
      "text/plain": [
       "(array([0], dtype=int64), array([1], dtype=int64))"
      ]
     },
     "execution_count": 32,
     "metadata": {},
     "output_type": "execute_result"
    }
   ],
   "source": [
    "a = np.array([[1,5],[3,4]])\n",
    "b_x, b_y = np.asarray(a==a.max()).nonzero()\n",
    "b_x, b_y"
   ]
  },
  {
   "cell_type": "markdown",
   "metadata": {},
   "source": [
    "**4) Erstellen Sie mit Hilfe der *piv()*-Funktion für jeden Datensatz drei Darstellungen:**\n",
    "  1. Einen Plot mit [Vektorpfeilen](https://matplotlib.org/3.1.1/api/_as_gen/matplotlib.pyplot.quiver.html), der die Strömungsrichtungen der Partikel(-Gruppen) visualisiert. *Hinweis: Beachten Sie den optionalen Parameter \"angles\" für eine korrekte Darstellung.*\n",
    "  2. Eine [Stromlinienvisualisierung](https://matplotlib.org/3.1.1/api/_as_gen/matplotlib.pyplot.streamplot.html).\n",
    "  3. Einen [Konturplot](https://matplotlib.org/3.1.1/api/_as_gen/matplotlib.pyplot.contourf.html), der den Betrag der Geschwindigkeitsverteilung abbildet.\n",
    "\n",
    "**Variieren Sie die Parameter der *piv()*-Funktion sowie der jeweiligen Plot-Funktion, um eine möglichst aussagekräftige Abbildung zu erhalten. Hinterlegen Sie den Plots zur besseren Übersicht eines der jeweiligen Partikelbilder.**"
   ]
  },
  {
   "cell_type": "code",
   "execution_count": null,
   "metadata": {},
   "outputs": [],
   "source": [
    "# Hier eigenen Code schreiben und ggf. weitere Zellen hinzufügen ...\n"
   ]
  },
  {
   "cell_type": "markdown",
   "metadata": {},
   "source": [
    "**5) Zusatzaufgaben (freiwillig):**\n",
    "  * Fügen Sie einen optionalen Parameter \"overlap\" – und die entsprechende Implementierung – für überlappende Interrogationsfenster hinzu.\n",
    "  * Aktuell können nur Geschwindigkeits-Vektoren mit Pixelgenauigkeit gefunden werden. Überlegen Sie, ob bzw. wie genauere Werte berechnet werden könnten.\n",
    "  * Wie könnte das Ergebnis verbessert werden, die auftretenden Geschwindigkeiten stark variieren?"
   ]
  }
 ],
 "metadata": {
  "kernelspec": {
   "display_name": "Python 3",
   "language": "python",
   "name": "python3"
  },
  "language_info": {
   "codemirror_mode": {
    "name": "ipython",
    "version": 3
   },
   "file_extension": ".py",
   "mimetype": "text/x-python",
   "name": "python",
   "nbconvert_exporter": "python",
   "pygments_lexer": "ipython3",
   "version": "3.7.6"
  }
 },
 "nbformat": 4,
 "nbformat_minor": 4
}
