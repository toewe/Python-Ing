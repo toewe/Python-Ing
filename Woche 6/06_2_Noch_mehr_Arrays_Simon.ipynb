{
 "cells": [
  {
   "cell_type": "markdown",
   "metadata": {},
   "source": [
    "# **Python für Ingenieure**\n",
    "<!-- Lizensiert unter (CC BY 2.0) Gert Herold, 2020 -->\n",
    "\n",
    "## 6.2. Übungsaufgaben für Arrays\n",
    "\n",
    "Zunächst führen wir ein paar Imports von Funktionen durch, die wir im weiteren Verlauf gebrauchen können:"
   ]
  },
  {
   "cell_type": "code",
   "execution_count": null,
   "metadata": {},
   "outputs": [],
   "source": [
    "%matplotlib inline\n",
    "# ^ matplotlib inline: Jupyter Lab: Plots direkt im Notebook anzeigen\n",
    "\n",
    "from numpy import array, sin, cos, pi, dot, linspace, arange, newaxis, mean\n",
    "from numpy.random import randn\n",
    "from matplotlib.pyplot import figure, plot, axis, grid, imshow, show, legend"
   ]
  },
  {
   "cell_type": "markdown",
   "metadata": {},
   "source": [
    "### 6.2.1. Koordinatentransformation\n",
    "\n",
    "Die Koordinaten einer Vektorgrafik seien als 2D-Array gegeben (1. Zeile: x-Werte, 2. Zeile: y-Werte):"
   ]
  },
  {
   "cell_type": "code",
   "execution_count": null,
   "metadata": {},
   "outputs": [],
   "source": [
    "coords = array([[-0.8, -0.8,  0.8,  0.8, -0.8,  0.8, 0., -0.3, -0.3, -0.5, -0.5, -0.8,  0.8],\n",
    "                [-1. ,  1. ,  1. , -1. , -1. ,  1. , 2.,  1.6,  1.8,  1.8,  1.4,  1. , -1. ]])"
   ]
  },
  {
   "cell_type": "markdown",
   "metadata": {},
   "source": [
    " * **Plotten Sie zunächst die untransformierte die Grafik in eine Abbildung.**\n",
    " * **Spiegeln Sie die Grafik an der x-Achse, vergrößeren Sie die Längenabmaße um 50 % und verschieben Sie die Koordinaten um 3 nach rechts (positive x-Richtung).** \n",
    " * **Plotten Sie das Ergebnis in die gleiche Abbildung.**\n",
    "\n",
    "Hinweis: Einfache 2D-Plots lassen sich mithilfe der [*plot()*](https://matplotlib.org/3.1.1/api/_as_gen/matplotlib.pyplot.plot.html)-Funktion aus dem Modul [matplotlib](https://matplotlib.org/) realisieren: `plot(x_werte, y_werte)`."
   ]
  },
  {
   "cell_type": "code",
   "execution_count": null,
   "metadata": {},
   "outputs": [],
   "source": [
    "# Hier eigenen Code schreiben ...\n",
    "\n",
    "\n",
    "# Achsen gleich-skalieren und Abbildung ausgeben\n",
    "axis('equal')\n",
    "show()"
   ]
  },
  {
   "cell_type": "markdown",
   "metadata": {},
   "source": [
    "Im nächsten Schritt soll das Objekt rotiert werden. \n",
    "Die Rotation von Koordinaten in 2D lässt sich mithilfe folgender Matrix realisieren:\n",
    "$$\n",
    "R(\\alpha) = \\begin{pmatrix} \\cos\\alpha & -\\sin\\alpha \\\\ \\sin\\alpha & \\cos\\alpha\\end{pmatrix}\n",
    "$$\n",
    "Hiermit lässt sich Vektors $\\vec{x}$ um den Winkel $\\alpha$ rotieren:\n",
    "$$\n",
    "\\vec{x}_\\text{rot} = R(\\alpha) \\cdot \\vec{x}\n",
    "$$\n",
    "\n",
    "  * **Schreiben Sie eine Funktion, die ein Koordinatenarray und einen Winkel in Grad übergeben bekommt, und ein um den Winkel rotiertes Array zurückgibt.**\n",
    "  * **Plotten Sie die rotierte Grafik anschließend für Winkel zwischen 0° und 30° in 5°-Schritten in eine Abbildung.**\n",
    "  * **Fügen Sie eine Legende hinzu, aus der ersichtlich wird, welche Plotfarbe welchem Winkel entspricht.**\n",
    "\n",
    "Hinweise: \n",
    "  * Um mit NumPy eine Matrixmultiplikation $A\\cdot B$ zu realisieren, kann die *dot()*-Funktion verwendet werden: `dot(A, B)`. Ab Python 3.5 kann auch der *@*-Operator verwendet werden: `A @ B`.\n",
    "  * Beachten Sie, dass die NumPy-Funktionen [*sin()*](https://docs.scipy.org/doc/numpy/reference/generated/numpy.sin.html) und [*cos()*](https://docs.scipy.org/doc/numpy/reference/generated/numpy.cos.html) in rad rechnen.\n",
    "  * Legenden lassen sich in der Abbildung mithilfe der [*legend()*](https://matplotlib.org/3.1.1/api/_as_gen/matplotlib.pyplot.legend.html)-Funktion hinzufügen. Die Labels können entweder als Parameter an diese Funktion übergeben werden oder direkt in den Plots definiert werden: `plot(x_werte, y_werte, label = 'irgendein_string')`."
   ]
  },
  {
   "cell_type": "code",
   "execution_count": null,
   "metadata": {},
   "outputs": [],
   "source": [
    "# Hier eigenen Code schreiben ...\n",
    "\n",
    "\n",
    "# Achsen gleich-skalieren, Legende hinzufügen und Abbildung ausgeben\n",
    "axis('equal')\n",
    "legend()\n",
    "show()"
   ]
  },
  {
   "cell_type": "markdown",
   "metadata": {},
   "source": [
    "### 6.2.2. Das große Ein-mal-Eins\n",
    "\n",
    "**Berechnen Sie die Produkte aller ganzen Zahlen von 1 bis 20 und speichern Sie diese in einem 2D-Array:**\n",
    "\n",
    "|[]()|||||\n",
    "|-----|---|----|----|-----|\n",
    "| 1   | 2 | 3  | 4  | ... |\n",
    "| 2   | 4 | 6  | 8  | ... |\n",
    "| 3   | 6 | 9  | 12 | ... |\n",
    "| 4   | 8 | 12 | 16 | ... |\n",
    "| ... |...|... |... | ... |\n",
    "\n",
    "Hinweis: Die NumPy-Funktion [*arange()*](https://docs.scipy.org/doc/numpy/reference/generated/numpy.arange.html) arbeitet ähnlich wie *range*, gibt aber direkt ein Array zurück."
   ]
  },
  {
   "cell_type": "code",
   "execution_count": null,
   "metadata": {},
   "outputs": [],
   "source": [
    "# Hier eigenen Code schreiben ...\n",
    "\n"
   ]
  },
  {
   "cell_type": "markdown",
   "metadata": {},
   "source": [
    "**Invertieren Sie die Reihenfolge der Einträge der Hauptdiagonale der Matrix.**"
   ]
  },
  {
   "cell_type": "code",
   "execution_count": null,
   "metadata": {},
   "outputs": [],
   "source": [
    "# Hier eigenen Code schreiben ...\n",
    "\n"
   ]
  },
  {
   "cell_type": "markdown",
   "metadata": {},
   "source": [
    "**Visualisieren Sie das resultierende Array mit Matplotlibs [*imshow()*](https://matplotlib.org/3.1.1/api/_as_gen/matplotlib.pyplot.imshow.html).**"
   ]
  },
  {
   "cell_type": "code",
   "execution_count": null,
   "metadata": {},
   "outputs": [],
   "source": [
    "# Hier eigenen Code schreiben ...\n",
    "\n",
    "\n",
    "# Achsenbeschriftung deaktivieren und Abbildung ausgeben\n",
    "axis('off')\n",
    "show()"
   ]
  },
  {
   "cell_type": "markdown",
   "metadata": {},
   "source": [
    "### 6.2.3. Verrauschtes Signal\n",
    "\n",
    "**Schreiben Sie eine Funktion *signal()*, die eine verrauschte Sinus-Kurve berechnet. Folgendes Interface soll abgebildet werden:**\n",
    "  * **Parameter:**\n",
    "      * samples_per_period: Anzahl der tatsächlichen berechneten Funktionswerte je Periode, Standardwert: 100\n",
    "      * n_periods: Anzahl der Perioden, Standardwert: 1\n",
    "      * sigma: Standardabweichung des normalverteilten Rauschens, das dem Sinussignal überlagert wird, Standardwert: 0.0\n",
    "  * **Rückgabewerte: x, y**\n",
    "      * x: x-Werte\n",
    "      * y: Funktionswerte\n",
    "      \n",
    "Hinweise:\n",
    "  * Mit der Funktion [*linspace()*](https://docs.scipy.org/doc/numpy/reference/generated/numpy.linspace.html) lässt sich ein Array mit einer vorgebenen Anzahl an Stützstelle in einem Intervall erzeugen.\n",
    "  * Ein Array mit [normalverteilten](https://de.wikipedia.org/wiki/Normalverteilung) Zufallswerten lässt sich recht einfach mit der Funktion [*randn()*](https://docs.scipy.org/doc/numpy-1.15.1/reference/generated/numpy.random.randn.html) aus dem Modul [*numpy.random*](https://docs.scipy.org/doc/numpy-1.15.0/reference/routines.random.html) erzeugen. \n",
    "<!--reshape, sum-->"
   ]
  },
  {
   "cell_type": "code",
   "execution_count": null,
   "metadata": {},
   "outputs": [],
   "source": [
    "# Hier eigenen Code schreiben ...\n",
    "\n"
   ]
  },
  {
   "cell_type": "markdown",
   "metadata": {},
   "source": [
    "Testen Sie die fertige Funktion mit folgendem Befehl (das vorangestellte `*` \"entpackt\" das Tupel, das die Funktion *signal()* zurückgibt, sodass der Plotbefehl zwei Parameter erhält):"
   ]
  },
  {
   "cell_type": "code",
   "execution_count": null,
   "metadata": {},
   "outputs": [],
   "source": [
    "figure(1,(15,5))\n",
    "plot(*signal(n_periods=3,sigma=0.5))\n",
    "plot(*signal(), lw=3, c='k')\n",
    "plot(*signal(5), '--o')\n",
    "grid(True)\n",
    "show()"
   ]
  },
  {
   "cell_type": "markdown",
   "metadata": {},
   "source": [
    "**Erzeugen Sie ein verrauschtes Sinussignal (100 Werte pro Periode, $\\sigma=0.5$), das 100 Perioden enthält.**\n",
    "  * **Plotten Sie die ersten 100 Werte.**\n",
    "  * **Sortieren Sie das Array mit den Signalwerten so um, dass Sie ein 2D-Array erhalten, dessen eine Achse jeweils eine Periode enthält und auf dessen anderer Achse die Periodenwiederholungen enthalten sind (siehe auch [*ndarray.reshape()*](https://docs.scipy.org/doc/numpy/reference/generated/numpy.ndarray.reshape.html)).** \n",
    "  * **Bilden Sie den Mittelwert (z.B. über NumPys [*mean()*](https://docs.scipy.org/doc/numpy/reference/generated/numpy.mean.html)) über die Periodenwiederholungen und plotten Sie das Ergebnis in dasselbe Diagramm.**\n",
    "  * **Wiederholen Sie die Mittelwertbildung mit einem Array, das 10&#8239;000 Perioden enthält. Was ist zu beobachten?**"
   ]
  },
  {
   "cell_type": "code",
   "execution_count": null,
   "metadata": {},
   "outputs": [],
   "source": [
    "# Hier eigenen Code schreiben ...\n",
    "\n"
   ]
  }
 ],
 "metadata": {
  "kernelspec": {
   "display_name": "Python 3",
   "language": "python",
   "name": "python3"
  },
  "language_info": {
   "codemirror_mode": {
    "name": "ipython",
    "version": 3
   },
   "file_extension": ".py",
   "mimetype": "text/x-python",
   "name": "python",
   "nbconvert_exporter": "python",
   "pygments_lexer": "ipython3",
   "version": "3.7.4"
  }
 },
 "nbformat": 4,
 "nbformat_minor": 4
}
