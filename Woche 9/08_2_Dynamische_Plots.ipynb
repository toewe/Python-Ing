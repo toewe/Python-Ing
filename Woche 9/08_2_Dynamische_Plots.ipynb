{
 "cells": [
  {
   "cell_type": "markdown",
   "metadata": {},
   "source": [
    "# **Python für Ingenieure**\n",
    "<!-- Lizensiert unter (CC BY 2.0) Gert Herold, 2020 -->\n",
    "\n",
    "## 8.2. Dynamische und interaktive Plot-Beispiele\n",
    "\n",
    "Um einen Plot dynamisch anpassen zu können, muss das Paket *ipympl* in die Anaconda-Umgebung installiert werden, falls es noch nicht vorhanden ist:\n",
    "```shell\n",
    "    conda install ipympl\n",
    "```\n",
    "\n",
    "Für interaktive Plots wird das Modul [*ipywidgets*](https://ipywidgets.readthedocs.io/en/latest/) verwendet.\n",
    "\n",
    "Um ein in diesen Modulen enthaltenes Steuer- oder Plot-Element  (\"widget\", dt.: \"Dings\") in JupyterLab direkt verwenden zu können, muss noch eine entsprechende Erweiterung installiert werden. Dazu führt man in der Kommandozeile aus:\n",
    "```shell\n",
    "    jupyter labextension install @jupyter-widgets/jupyterlab-manager\n",
    "```\n",
    "\n",
    "Möglicherweise muss zuvor noch node.js installiert werden:\n",
    "```shell\n",
    "    conda install nodejs\n",
    "```\n",
    "\n",
    "\n",
    "\n",
    "\n"
   ]
  },
  {
   "cell_type": "markdown",
   "metadata": {},
   "source": [
    "### 8.2.1. Dynamische Plots\n",
    "\n",
    "Für dynamischen Plot Skript einleiten mit \n",
    "```python \n",
    "    %matplotlib widget\n",
    "```"
   ]
  },
  {
   "cell_type": "code",
   "execution_count": 1,
   "metadata": {},
   "outputs": [
    {
     "data": {
      "application/vnd.jupyter.widget-view+json": {
       "model_id": "7786e29ca0eb404e8aa7ebde2edceb33",
       "version_major": 2,
       "version_minor": 0
      },
      "text/plain": [
       "Canvas(toolbar=Toolbar(toolitems=[('Home', 'Reset original view', 'home', 'home'), ('Back', 'Back to previous …"
      ]
     },
     "metadata": {},
     "output_type": "display_data"
    }
   ],
   "source": [
    "%matplotlib widget\n",
    "import matplotlib.pyplot as plt\n",
    "import numpy as np\n",
    "\n",
    "x = [-0.1,0.2,0.7,2.5]\n",
    "y = [3,2,7,5]\n",
    "\n",
    "plt.plot(x, y)\n",
    "plt.show()"
   ]
  },
  {
   "cell_type": "markdown",
   "metadata": {},
   "source": [
    "### 8.2.2. Interaktive Steuerelemente und Plots"
   ]
  },
  {
   "cell_type": "code",
   "execution_count": 3,
   "metadata": {},
   "outputs": [
    {
     "data": {
      "application/vnd.jupyter.widget-view+json": {
       "model_id": "fae03a71f7724b62958bd218cbad6057",
       "version_major": 2,
       "version_minor": 0
      },
      "text/plain": [
       "interactive(children=(IntSlider(value=10, description='x', max=30, min=-10), Output()), _dom_classes=('widget-…"
      ]
     },
     "metadata": {},
     "output_type": "display_data"
    }
   ],
   "source": [
    "import ipywidgets as widgets\n",
    "\n",
    "def f(x):\n",
    "    return x**2\n",
    "\n",
    "widgets.interact(f, x=10);"
   ]
  },
  {
   "cell_type": "markdown",
   "metadata": {},
   "source": [
    "**Beispiel: Funktionsplot mit Parametern**"
   ]
  },
  {
   "cell_type": "code",
   "execution_count": 4,
   "metadata": {},
   "outputs": [
    {
     "data": {
      "application/vnd.jupyter.widget-view+json": {
       "model_id": "8dff5fd397bf473d8b2d501feb5aa38a",
       "version_major": 2,
       "version_minor": 0
      },
      "text/plain": [
       "interactive(children=(IntSlider(value=50, description='f', min=1), FloatSlider(value=0.55, description='tmax',…"
      ]
     },
     "metadata": {},
     "output_type": "display_data"
    }
   ],
   "source": [
    "%matplotlib inline\n",
    "import ipywidgets as widgets\n",
    "import matplotlib.pyplot as plt\n",
    "import numpy as np\n",
    "\n",
    "@widgets.interact\n",
    "def plot_signal(f=(1,100),tmax=(0.1,1,0.01), tone_amp = (0.0,2,0.1), noise_amp = (0.0,2,0.1)):\n",
    "    \n",
    "    plt.figure(2,(15,5))\n",
    "    t = np.linspace(0,tmax,1000)\n",
    "    p = np.sin(2*np.pi*f*t)*tone_amp\n",
    "    noise = np.random.randn(1000)*noise_amp\n",
    "    \n",
    "    #fs = 1/(t[1]-t[0])\n",
    "    #print(f'Abtastfrequenz: {fs:.2f} Hz')\n",
    "    \n",
    "    plt.plot(t,p+noise)\n",
    "    plt.grid(True)\n",
    "    plt.xlabel('$t$ / s')\n",
    "    plt.ylabel('$p$ / Pa')\n",
    "    plt.show()\n"
   ]
  },
  {
   "cell_type": "markdown",
   "metadata": {},
   "source": [
    "\"Flackern\" verhindern:"
   ]
  },
  {
   "cell_type": "code",
   "execution_count": 6,
   "metadata": {},
   "outputs": [
    {
     "data": {
      "application/vnd.jupyter.widget-view+json": {
       "model_id": "a31d2d0a125f4a1c89b69db8f57f2feb",
       "version_major": 2,
       "version_minor": 0
      },
      "text/plain": [
       "interactive(children=(IntSlider(value=50, description='f', min=1), FloatSlider(value=0.55, description='tmax',…"
      ]
     },
     "metadata": {},
     "output_type": "display_data"
    }
   ],
   "source": [
    "%matplotlib inline\n",
    "import ipywidgets as widgets\n",
    "import matplotlib.pyplot as plt\n",
    "import numpy as np\n",
    "\n",
    "def plot_signal(f, tmax, tone_amp, noise_amp):\n",
    "    \n",
    "    plt.figure(2,(15,5))\n",
    "    t = np.linspace(0,tmax,1000)\n",
    "    p = np.sin(2*np.pi*f*t)*tone_amp\n",
    "    noise = np.random.randn(1000)*noise_amp\n",
    "    \n",
    "    plt.plot(t,p+noise)\n",
    "    plt.grid(True)\n",
    "    plt.xlabel('$t$ / s')\n",
    "    plt.ylabel('$p$ / Pa')\n",
    "    plt.show()\n",
    "    \n",
    "grafik = widgets.interactive(plot_signal, f=(1,100),tmax=(0.1,1,0.01), tone_amp = (0.0,2,0.1), noise_amp = (0.0,2,0.1))\n",
    "ausgabefenster = grafik.children[-1]\n",
    "ausgabefenster.layout.height = '5in'\n",
    "grafik"
   ]
  },
  {
   "cell_type": "markdown",
   "metadata": {},
   "source": [
    "Aktuelle Parameter ausgeben / weiterverwenden:"
   ]
  },
  {
   "cell_type": "code",
   "execution_count": 7,
   "metadata": {},
   "outputs": [
    {
     "name": "stdout",
     "output_type": "stream",
     "text": [
      "f : 50\n",
      "tmax : 0.55\n",
      "tone_amp : 1.0\n",
      "noise_amp : 1.0\n"
     ]
    }
   ],
   "source": [
    "for param in grafik.children[0:-1]:\n",
    "    print(param.description,':',param.value)"
   ]
  },
  {
   "cell_type": "markdown",
   "metadata": {},
   "source": [
    "Dokumentation weiterer Widget-Einstellungen: https://ipywidgets.readthedocs.io/en/latest/examples/Using%20Interact.html"
   ]
  },
  {
   "cell_type": "code",
   "execution_count": 10,
   "metadata": {},
   "outputs": [
    {
     "data": {
      "application/vnd.jupyter.widget-view+json": {
       "model_id": "674399ac7b6b4d4facc2d2df4bc49d1b",
       "version_major": 2,
       "version_minor": 0
      },
      "text/plain": [
       "interactive(children=(Dropdown(description='dateiname', options=('../Woche 6/img\\\\A001_1.tif', '../Woche 6/img…"
      ]
     },
     "metadata": {},
     "output_type": "display_data"
    }
   ],
   "source": [
    "%matplotlib inline\n",
    "import ipywidgets as widgets\n",
    "import matplotlib.pyplot as plt\n",
    "from glob import glob\n",
    "\n",
    "\n",
    "impath = '../Woche 6/img/'\n",
    "flist = glob(impath+'*.*')\n",
    "\n",
    "@widgets.interact\n",
    "def zeig_bild(dateiname=flist):\n",
    "    im = plt.imread(dateiname)\n",
    "    plt.figure(3,(15,15))\n",
    "    plt.imshow(im)\n",
    "    plt.axis('off')\n",
    "    plt.show()\n"
   ]
  },
  {
   "cell_type": "code",
   "execution_count": null,
   "metadata": {},
   "outputs": [],
   "source": []
  }
 ],
 "metadata": {
  "kernelspec": {
   "display_name": "Python 3",
   "language": "python",
   "name": "python3"
  },
  "language_info": {
   "codemirror_mode": {
    "name": "ipython",
    "version": 3
   },
   "file_extension": ".py",
   "mimetype": "text/x-python",
   "name": "python",
   "nbconvert_exporter": "python",
   "pygments_lexer": "ipython3",
   "version": "3.7.6"
  }
 },
 "nbformat": 4,
 "nbformat_minor": 4
}
