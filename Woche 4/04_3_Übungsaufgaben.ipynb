{
 "cells": [
  {
   "cell_type": "markdown",
   "metadata": {},
   "source": [
    "# **Python für Ingenieure**\n",
    "<!-- Lizensiert unter (CC BY 2.0) Gert Herold, 2020 -->\n",
    "## 4.3. Übungsaufgaben"
   ]
  },
  {
   "cell_type": "markdown",
   "metadata": {},
   "source": [
    "**1) Berechnen Sie einen gewichteten Mittelwert der Zahlen im folgenden Dictionary. Werte, bei denen der Schlüssel mit einem \"!\" endet, sollen doppelt gewichtet werden. Vergleichen Sie mit dem ungewichteten Mittelwert.**"
   ]
  },
  {
   "cell_type": "code",
   "execution_count": null,
   "metadata": {},
   "outputs": [],
   "source": [
    "messwerte = {'2018-10-19 20:58:17' : 29.52,\n",
    "             '2018-10-19 23:31:09' : 41.72,\n",
    "             '2018-10-19 18:27:14' : 13.68,\n",
    "             '2018-10-20 00:23:12' : 27.39,\n",
    "             '2018-10-19 21:24:47!': 21.92,\n",
    "             '2018-10-20 01:37:01' : 34.70,\n",
    "             '2018-10-19 19:43:20!': 20.85,\n",
    "             '2018-10-19 20:31:55!': 29.27,\n",
    "             '2018-10-19 23:57:24' : 27.28,\n",
    "             '2018-10-19 19:17:05!': 47.96,\n",
    "             '2018-10-19 23:06:13' : 18.15,\n",
    "             '2018-10-19 18:01:29' : 30.15,\n",
    "             '2018-10-20 00:48:26!': 20.16,\n",
    "             '2018-10-19 22:39:59!': 25.25,\n",
    "             '2018-10-19 21:49:38' : 27.05,\n",
    "             '2018-10-19 20:07:21' : 39.39,\n",
    "             '2018-10-19 18:52:01' : 32.54,\n",
    "             '2018-10-19 17:37:20' : 20.06,\n",
    "             '2018-10-19 22:14:07!': 33.50,\n",
    "             '2018-10-20 01:13:07!': 41.34}\n",
    "\n",
    "\n",
    "# Hier eigenen Code schreiben ...\n"
   ]
  },
  {
   "cell_type": "markdown",
   "metadata": {},
   "source": [
    "**2) Geben Sie das obige Dictionary als zeitlich sortierte Tabelle *ohne* \"!\" aus.**\n",
    "\n",
    "```\n",
    " |  2018-10-19 17:37:20  |  20.06  |\n",
    " |  2018-10-19 18:01:29  |  30.15  |\n",
    " ...\n",
    "```"
   ]
  },
  {
   "cell_type": "code",
   "execution_count": null,
   "metadata": {},
   "outputs": [],
   "source": [
    "sorted?\n",
    "# Hier eigenen Code schreiben ...\n"
   ]
  },
  {
   "cell_type": "markdown",
   "metadata": {},
   "source": [
    "**3) Geben Sie die Messzeiten aus, zu denen die `n` geringsten Werte gemessen wurden.** \n",
    "\n",
    "Hinweis: Variablen lassen sich mit \n",
    "```python\n",
    "del mein_variablenname\n",
    "``` \n",
    "löschen."
   ]
  },
  {
   "cell_type": "code",
   "execution_count": null,
   "metadata": {},
   "outputs": [],
   "source": [
    "n = 3\n",
    "messkopie = messwerte.copy()\n",
    "# Hier eigenen Code schreiben ...\n"
   ]
  },
  {
   "cell_type": "markdown",
   "metadata": {},
   "source": [
    "**4) Wieviel [Zeit](https://docs.python.org/3/library/time.html) (in Minuten) vergeht jeweils zwischen zwei aufeinanderfolgenden Messungen?**"
   ]
  },
  {
   "cell_type": "code",
   "execution_count": null,
   "metadata": {},
   "outputs": [],
   "source": [
    "import time\n",
    "#time.strptime?\n",
    "silvester = time.strptime('31.12.2019, 23:59 Uhr','%d.%m.%Y, %H:%M Uhr')\n",
    "print(silvester)\n",
    "print('\\nZu Silvester vergangene Sekunden seit 1.1.1970:',time.mktime(silvester))\n",
    "# Hier eigenen Code schreiben ...\n"
   ]
  },
  {
   "cell_type": "markdown",
   "metadata": {},
   "source": [
    "**5) Schreiben Sie ein kurzes Programm, das den Nutzer nach einem Datum fragt und daraufhin eine Aussage über den Wochentag zurückgibt. Unterscheiden Sie, ob das Datum in der Zukunft oder Vergangenheit liegt.**\n",
    "\n",
    "Beispiele:\n",
    "```\n",
    " Der 03.10.1990 war ein Mittwoch.\n",
    " Der 01.05.2048 ist ein Freitag.\n",
    "```"
   ]
  },
  {
   "cell_type": "code",
   "execution_count": null,
   "metadata": {},
   "outputs": [],
   "source": [
    "import time\n",
    "print('Heute:',time.gmtime())\n",
    "wochentage = ['Montag', 'Dienstag', 'Mittwoch', 'Donnerstag', 'Freitag', 'Samstag', 'Sonntag']\n",
    "\n",
    "# Hier eigenen Code schreiben ...\n"
   ]
  }
 ],
 "metadata": {
  "kernelspec": {
   "display_name": "Python 3",
   "language": "python",
   "name": "python3"
  },
  "language_info": {
   "codemirror_mode": {
    "name": "ipython",
    "version": 3
   },
   "file_extension": ".py",
   "mimetype": "text/x-python",
   "name": "python",
   "nbconvert_exporter": "python",
   "pygments_lexer": "ipython3",
   "version": "3.7.4"
  }
 },
 "nbformat": 4,
 "nbformat_minor": 4
}
