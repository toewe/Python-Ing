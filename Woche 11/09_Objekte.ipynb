{
 "cells": [
  {
   "cell_type": "markdown",
   "metadata": {},
   "source": [
    "# **Python für Ingenieure**\n",
    "<!-- Lizensiert unter (CC BY 2.0) Gert Herold, 2020 -->\n",
    "# 9. Objekte und Klassen\n",
    "\n",
    "Variablen und Funktionen? In Python alles Objekte! \n",
    "\n",
    "Ein Objekt zeichnet sich aus durch:\n",
    "  * Eigenschaften (*Attribute*)\n",
    "  * spezifische Funktionalitäten (*Methoden*)\n",
    "  \n",
    "## 9.1. Aufruf von Objekteigenschaften\n",
    "\n",
    "Um Attribute oder Methoden eines Python-Objektes aufzurufen, wird diesem ein Punkt (`.`) angehängt:"
   ]
  },
  {
   "cell_type": "code",
   "execution_count": null,
   "metadata": {},
   "outputs": [],
   "source": [
    "from numpy import array\n",
    "\n",
    "a = array([[ 1,  7],\n",
    "           [ 3, -1]])\n",
    "\n",
    "print(a.__class__)\n",
    "print(a.shape)\n",
    "print(a.sum())\n",
    "print(a.dtype)"
   ]
  },
  {
   "cell_type": "markdown",
   "metadata": {},
   "source": [
    "Auch bekannte \"normale\" Variablentypen sind Klassen und alle Variablen sind Instanzen/Objekte mit Attributen und Methoden:"
   ]
  },
  {
   "cell_type": "code",
   "execution_count": null,
   "metadata": {},
   "outputs": [],
   "source": [
    "b = 2.3 + 1j\n",
    "\n",
    "print(b.__class__)\n",
    "print(b.real, b.imag)"
   ]
  },
  {
   "cell_type": "code",
   "execution_count": null,
   "metadata": {},
   "outputs": [],
   "source": [
    "c = 3.4\n",
    "\n",
    "print(c.__class__)\n",
    "print(c.is_integer())\n",
    "print(c.as_integer_ratio())"
   ]
  },
  {
   "cell_type": "code",
   "execution_count": null,
   "metadata": {},
   "outputs": [],
   "source": [
    "d=15\n",
    "print(d.__class__)\n",
    "d.__str__()"
   ]
  },
  {
   "cell_type": "markdown",
   "metadata": {},
   "source": [
    "Auch Funktionen sind letztendlich nur Objekte:"
   ]
  },
  {
   "cell_type": "code",
   "execution_count": null,
   "metadata": {},
   "outputs": [],
   "source": [
    "print(len(a))\n",
    "print(len.__class__)\n",
    "print(len.__name__)\n",
    "print(len.__module__)"
   ]
  },
  {
   "cell_type": "markdown",
   "metadata": {},
   "source": [
    "Führende Unterstriche (`_`) kennzeichnen im ALlgemeinen nicht-öffentliche Attribute und Funktionen, d.h. Objekt-Eigenschaften, die nicht dafür gedacht sind, dass von außen darauf zugegriffen wird.\n",
    "Insbesondere dürfen diese nicht überschrieben werden. Nähere Informationen zu Namenskonventionen finden sich [hier](https://pep8.org/#naming-conventions).\n",
    "Generell gibt es für das Schreiben in Python einige – z.T. nicht verpflichtende – \"Regeln des guten Stils\", die unter [pep8.org](https://pep8.org/) zusammengefasst sind."
   ]
  },
  {
   "cell_type": "markdown",
   "metadata": {},
   "source": [
    "## 9.2. Klassen definieren und instanzieren\n",
    "\n",
    "Definition einer benutzerspezifischen Variablen-Klasse:"
   ]
  },
  {
   "cell_type": "code",
   "execution_count": null,
   "metadata": {},
   "outputs": [],
   "source": [
    "class Ding:\n",
    "    farbe = 'blau'"
   ]
  },
  {
   "cell_type": "markdown",
   "metadata": {},
   "source": [
    "Die Instanzierung eines Objektes der Klasse `Ding` läuft wie eine einfache Variablendefinition. Achtung: Nicht vergessen, die Klammern `()`zu setzen, sonst weist die Klasse selbst der Variablen zu."
   ]
  },
  {
   "cell_type": "code",
   "execution_count": null,
   "metadata": {},
   "outputs": [],
   "source": [
    "d = Ding()\n",
    "d, type(d), d.farbe"
   ]
  },
  {
   "cell_type": "markdown",
   "metadata": {},
   "source": [
    "Wie bei allen anderen Variablen verbirgt sich hinter dem Variablennamen eine Adresse, die auf den Speicherplatz zeigt, wo das Objekt abgespeichert ist. Die Pointer-Adresse ist der `0x...`-Teil der Ausgabe  `<__main__.Ding at 0x...>`.\n",
    "\n",
    "Definition einer Beispiel-Klasse mit veränderbaren Eigenschaften sowie einigen klassenspezifischen Methoden:"
   ]
  },
  {
   "cell_type": "code",
   "execution_count": null,
   "metadata": {},
   "outputs": [],
   "source": [
    "class Zylinder:\n",
    "    \n",
    "    translate_class_name = 'cylinder'\n",
    "    \n",
    "    def __init__(self, grundflaeche, hoehe):\n",
    "        self.grundflaeche = grundflaeche\n",
    "        self.hoehe = hoehe\n",
    "    \n",
    "    def mach_hoeher(self, dh):\n",
    "        self.hoehe += dh\n",
    "    \n",
    "    def __getvol( self ):\n",
    "        return self.grundflaeche * self.hoehe\n",
    "    \n",
    "    volumen = property(__getvol)"
   ]
  },
  {
   "cell_type": "markdown",
   "metadata": {},
   "source": [
    "Die Funktion mit dem Namen `__init__` wird bei jeder Instanzierung eines Objektes ausgeführt.\n",
    "\n",
    "Instanzierung mehrerer Objekte mit unterschiedlichen Eigenschaften:"
   ]
  },
  {
   "cell_type": "code",
   "execution_count": null,
   "metadata": {},
   "outputs": [],
   "source": [
    "a = Zylinder(10,2)\n",
    "b = Zylinder(2.1,3.2)\n",
    "\n",
    "print(a.__class__.__name__, a.translate_class_name)\n",
    "\n",
    "a.volumen, b.volumen"
   ]
  },
  {
   "cell_type": "markdown",
   "metadata": {},
   "source": [
    "Änderungen der Eigenschaften eines Objektes:"
   ]
  },
  {
   "cell_type": "code",
   "execution_count": null,
   "metadata": {},
   "outputs": [],
   "source": [
    "a.grundflaeche = 2.3\n",
    "a.mach_hoeher(0.5)\n",
    "print('Vol:',a.volumen,', Gf:', a.grundflaeche,', Höhe:', a.hoehe)"
   ]
  },
  {
   "cell_type": "markdown",
   "metadata": {},
   "source": [
    "### Vererbung\n",
    "\n",
    "Wenn eine Klasse bereits Eigenschaften besitzt, die verwendet werden sollen, jedoch noch weitere hinzugefügt oder vorhandene abgeändert werden sollen, so kann einie weitere Klasse von dieser abgeleitet werden:"
   ]
  },
  {
   "cell_type": "code",
   "execution_count": null,
   "metadata": {},
   "outputs": [],
   "source": [
    "from math import pi\n",
    "\n",
    "class Kreiszylinder(Zylinder):\n",
    "    \n",
    "    translate_class_name = 'circular cylinder'\n",
    "    \n",
    "    def __getradius( self ):\n",
    "        return (self.grundflaeche/pi)**0.5\n",
    "    \n",
    "    def __setradius(self, r):\n",
    "        self.grundflaeche = pi * r*r\n",
    "    \n",
    "    radius = property(__getradius, __setradius)\n",
    "    \n",
    "    def tone(self, v):\n",
    "        return 0.1*v/self.radius"
   ]
  },
  {
   "cell_type": "markdown",
   "metadata": {},
   "source": [
    "Instanzierung der abgeleiteten Klasse sowie Aufruf von vererbten Methoden:"
   ]
  },
  {
   "cell_type": "code",
   "execution_count": null,
   "metadata": {},
   "outputs": [],
   "source": [
    "a = Kreiszylinder(3,4)\n",
    "print(a.__class__.__name__, a.translate_class_name)\n",
    "print('Vol:',a.volumen,', Gf:', a.grundflaeche,', Höhe:', a.hoehe,', Radius:', a.radius)\n",
    "a"
   ]
  },
  {
   "cell_type": "code",
   "execution_count": null,
   "metadata": {},
   "outputs": [],
   "source": [
    "a.radius=2\n",
    "print('Vol:',a.volumen,', Gf:', a.grundflaeche,', Höhe:', a.hoehe,', Radius:', a.radius)"
   ]
  },
  {
   "cell_type": "code",
   "execution_count": null,
   "metadata": {},
   "outputs": [],
   "source": [
    "x = Kreiszylinder(0,0)\n",
    "x.hoehe = 10\n",
    "x.radius = 0.002\n",
    "x.tone(40)"
   ]
  }
 ],
 "metadata": {
  "kernelspec": {
   "display_name": "Python 3",
   "language": "python",
   "name": "python3"
  },
  "language_info": {
   "codemirror_mode": {
    "name": "ipython",
    "version": 3
   },
   "file_extension": ".py",
   "mimetype": "text/x-python",
   "name": "python",
   "nbconvert_exporter": "python",
   "pygments_lexer": "ipython3",
   "version": "3.7.6"
  }
 },
 "nbformat": 4,
 "nbformat_minor": 4
}
