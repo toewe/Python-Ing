{
 "cells": [
  {
   "cell_type": "markdown",
   "metadata": {},
   "source": [
    "# Hausaufgabe 2\n",
    "## Ablassung eines Stausees\n",
    "<!-- Lizensiert unter (CC BY 2.0) Gert Herold, 2020 -->\n",
    "\n",
    "Wegen Reparaturarbeiten an der Staumauer einer Talsperre soll das Wasser abgelassen werden. Der See habe ein Fassungsvermögen von $215 \\cdot 10^6\\,\\text{m}^3$. Die Oberfläche des Stausees erstrecke sich über $10\\,\\text{km}^2$. Der Wasserauslass auf Grundhöhe habe einen Querschnitt von $2\\,\\text{m}^2$. Der Fluss selbst werde so umgeleitet, dass kein Wasser in den See nachfließen kann."
   ]
  },
  {
   "cell_type": "markdown",
   "metadata": {},
   "source": [
    "**1) Es werde angenommen, die Form des Sees lasse sich mit einem umgedrehten [Kegel](https://de.wikipedia.org/wiki/Kegel_(Geometrie)) annähern. Wie tief ist dann der See?** "
   ]
  },
  {
   "cell_type": "code",
   "execution_count": 2,
   "metadata": {},
   "outputs": [
    {
     "name": "stdout",
     "output_type": "stream",
     "text": [
      "z0: 64.5 m\n"
     ]
    }
   ],
   "source": [
    "# Volumen des Sees\n",
    "V0 = 215e6      # m^3\n",
    "# Öberfläche des Sees\n",
    "A0 = 10e6       # m^2\n",
    "\n",
    "# Tiefe des Sees nach den Formeln für einen geraden Kegel\n",
    "z0 = 3*V0/A0    # m\n",
    "\n",
    "# Querschnitt des Auslasses\n",
    "A_out = 2       # m^2\n",
    "\n",
    "# Ausgabe der Tiefe \n",
    "print('z0: {} m'.format(z0))"
   ]
  },
  {
   "cell_type": "markdown",
   "metadata": {},
   "source": [
    "Vereinfachend werde angenommen, dass die sich ausbildende Strömung sich mithilfe der [Bernoulli-Gleichung](https://de.wikipedia.org/wiki/Bernoulli-Gleichung) beschreiben lasse:\n",
    "\n",
    "$$\n",
    "\\frac{u^2}{2}+\\frac{p}{\\rho}+g \\, z = \\text{const}\n",
    "$$\n",
    "\n",
    "Dabei beschreibt $u$ die Strömungsgeschwindigkeit des Fluids an einer beliebigen betrachteten Stelle, $p$ den hydrodynamischen Druck, $\\rho$ die Dichte und $z$ die Höhe. $g=9{,}81\\frac{\\text{m}}{\\text{s}^2}$ ist die Erdbeschleunigung. Werden nur die Seeoberfläche und der Ausfluss betrachtet, so kann der Druck $p$ ebenfalls als konstant angenommen werden, da er dem Umgebungsdruck entspricht. Ebenso wird die Dichte als konstant angenommen, und die obige Gleichung vereinfacht sich zu \n",
    "\n",
    "$$\n",
    "\\frac{u^2}{2}+g \\, z = \\text{const}\n",
    "$$\n",
    "\n",
    "bzw. für oben und unten:\n",
    "\n",
    "$$\n",
    "\\frac{u_\\text{oben}^2}{2}+g \\, z_\\text{oben} = \\frac{u_\\text{unten}^2}{2}+g \\, z_\\text{unten}\n",
    "$$"
   ]
  },
  {
   "cell_type": "markdown",
   "metadata": {},
   "source": [
    "**2) Berechnen Sie die sich anfangs ausbildende Strömungsgeschwindigkeit am Ausfluss $u_\\text{unten,0}$ sowie den Volumenstrom $\\dot{V_0}$ unter der Annahme, dass die Bewegung der Seeoberfläche vernachlässigbar ist.**"
   ]
  },
  {
   "cell_type": "markdown",
   "metadata": {},
   "source": [
    "Da: $u_{oben}=0$ und $z_{unten}=0$ ergibt sich für die anfangliche Strömungsgeschwindigkeit:\n",
    "$$ u_{unten,0}=\\sqrt{2\\,g\\,z_{oben}}$$"
   ]
  },
  {
   "cell_type": "code",
   "execution_count": 3,
   "metadata": {},
   "outputs": [
    {
     "name": "stdout",
     "output_type": "stream",
     "text": [
      "Die Auslassgeschwindigkeit am Anfang des Ablasses ist 35.57 m/s\n",
      "Dies für mit einem Auslassquerschnitt von 2 m^2 zu einem Volumenstrom von 71.15 m^3/s\n"
     ]
    }
   ],
   "source": [
    "# Funktion zur Berechnung der Ausflussgeschwindigkeit in Abhängigkeit der Höhe\n",
    "def Ausflussgeschwindigkeit(h):\n",
    "    # Erdbeschleunigung\n",
    "    g=9.81                 # m/s^2\n",
    "    \n",
    "    # Ausflussgeschwindigkeit\n",
    "    U=(2*(g*h))**0.5       # m/s\n",
    "    \n",
    "    return U\n",
    "\n",
    "# Berechnung der Ausflussgeschwindigkeit über definierte Funktion\n",
    "U_unten_0 = Ausflussgeschwindigkeit(z0)\n",
    "# Berechnung der Volumenstrom\n",
    "V_dot_0 = U_unten_0 * A_out\n",
    "\n",
    "# Ausgabe der Ergebnisse\n",
    "print('Die Auslassgeschwindigkeit am Anfang des Ablasses ist {:.2f} m/s'.format(U_unten_0))\n",
    "print('Dies für mit einem Auslassquerschnitt von {} m^2 zu einem Volumenstrom von {:.2f} m^3/s'.format(A_out,V_dot_0))"
   ]
  },
  {
   "cell_type": "markdown",
   "metadata": {},
   "source": [
    "Tipp: Um die Kreiszahl $\\pi$ unter Python verwenden zu können, muss man sie entweder selbst definieren oder z.B. aus dem [NumPy-Modul](https://numpy.org/) importieren. Für ein Beispiel den folgenden Code-Abschnitt öffnen."
   ]
  },
  {
   "cell_type": "code",
   "execution_count": 4,
   "metadata": {},
   "outputs": [
    {
     "name": "stdout",
     "output_type": "stream",
     "text": [
      "Radius: 1.78 km\n"
     ]
    }
   ],
   "source": [
    "# Importiere pi aus numpy\n",
    "from numpy import pi\n",
    "\n",
    "# Berechne den \"Radius\" der Seeoberfläche\n",
    "r0 = (A0/pi)**0.5\n",
    "print(f'Radius: {r0/1000:.2f} km')"
   ]
  },
  {
   "cell_type": "markdown",
   "metadata": {},
   "source": [
    "**3) Schreiben Sie eine Funktion, die die Tiefe des \"Kegel\"-Sees allgemein abhängig von der enthaltenen Wassermenge bestimmt.**"
   ]
  },
  {
   "cell_type": "code",
   "execution_count": 5,
   "metadata": {},
   "outputs": [
    {
     "name": "stdout",
     "output_type": "stream",
     "text": [
      "Die Tiefe des kegelförmigen Sees mit einem Volumen von 2.15e+08 m^3 beträgt 64.50 m\n"
     ]
    }
   ],
   "source": [
    "def tiefe_kegel(V):\n",
    "    # Fall Unterscheidung um gegenenfalls komplexe Wurzeln zu verhindern\n",
    "    if V >= 0:\n",
    "        # Berechnung der Tiefe über den Anfangsradius r0 und die Anfangstiefe z0\n",
    "        return ((3 * V) / ((r0 / z0) ** 2 * pi)) ** (1/3)\n",
    "    else:\n",
    "        # Gleiche Berechnung, nur Minuszeichen vor die Wurzel gezogen\n",
    "        return -((3 * -V) / ((r0 / z0) ** 2 * pi)) ** (1/3)\n",
    "\n",
    "# Ausgabe für das Anfangsvolumen als Test \n",
    "print('Die Tiefe des kegelförmigen Sees mit einem Volumen von {:3.2e} m^3 beträgt {:.2f} m'.format(V0, tiefe_kegel(V0)))"
   ]
  },
  {
   "cell_type": "markdown",
   "metadata": {},
   "source": [
    "**4) Schreiben Sie eine Funktion, die ausgehend von einem Startvolumen $V_0$ und einer gegebenen Zeitschrittweite $\\Delta t$ den diskreten Zeitverlauf der Wassertiefe $h(t)$ bis zur Leerung des Sees zurückgibt. Beachten Sie, dass sich auch der Volumenstrom zeitlich ändert.** *(Hinweis: Die Änderung des Volumens lässt sich annähernd über $V_{n+1}=V_n-\\dot{V_n} \\cdot \\Delta t$ beschreiben.)*"
   ]
  },
  {
   "cell_type": "code",
   "execution_count": 6,
   "metadata": {},
   "outputs": [],
   "source": [
    "# Funktion zur Berechnung des Abflusses in Abhängigkeit\n",
    "# des Volumens,\n",
    "# des Zeitschrittes\n",
    "# und der spezifischen Abhängigkeit der Tiefe von der Form des Volumens als Funktion\n",
    "def abfluss(V0, dt, height_func):\n",
    "    # Startvolumen in Funktion definieren\n",
    "    V = V0\n",
    "    # Ausflussquerschnitt in Funktion definieren\n",
    "    A_Auslass = 2                                       # m^2\n",
    "    \n",
    "    # Deklarierung der Ausgabe Listen mit Initialwerten\n",
    "    t_list = [0]\n",
    "    h_list = [height_func(V0)]\n",
    "    \n",
    "    # Solang der See nicht leer ist, dass heißt die Tiefe ist größer als Null,\n",
    "    # nächsten Schritt berechnen. Aktuelle Tiefe ist der letzte Eintrag von h_list\n",
    "    while h_list[-1] >= 0:\n",
    "        # Berechnung der Ausflussgeschwindigkeit\n",
    "        U_unten = Ausflussgeschwindigkeit(h_list[-1])    # m/s\n",
    "        # Berechnung des Volumenstroms\n",
    "        V_dot = U_unten*A_Auslass                       # m^3/s\n",
    "        # Berechnung des neuen Volumens nach Zeitschritt dt \n",
    "        V = V - (V_dot * dt)\n",
    "        \n",
    "        # Neuen Werte an die Listen zur Ausgabe hängen.\n",
    "        # Tiefe mit Hilfe der spezifischen Funktion berechnunen\n",
    "        h_list.append(height_func(V))\n",
    "        # Nächster Zeitpunkt ist letzter Zeitpunkt plus dt\n",
    "        t_list.append(t_list[-1]+dt)\n",
    "    \n",
    "    return t_list, h_list\n",
    "\n",
    "# Berechnung des Ausflusses mit unterschiedlichen dt\n",
    "t_list_min, h_list_min = abfluss(V0, 60, tiefe_kegel)\n",
    "t_list_day, h_list_day = abfluss(V0, 60*60*24*4, tiefe_kegel)"
   ]
  },
  {
   "cell_type": "markdown",
   "metadata": {},
   "source": [
    "**5) Wie lange dauert es, bis der Stausee komplett abgelassen wurde? Plotten Sie den Zeitverlauf der Wassertiefe bis zur Leerung für zwei Zeitschrittweiten:**\n",
    "  * $\\Delta t_1$ = 1 Minute\n",
    "  * $\\Delta t_2$ = 4 Tage\n",
    "\n",
    "**Diskutieren Sie Auffälligkeiten.**"
   ]
  },
  {
   "cell_type": "code",
   "execution_count": 7,
   "metadata": {},
   "outputs": [
    {
     "data": {
      "application/vnd.jupyter.widget-view+json": {
       "model_id": "0cc87a5f1e664c03879fcb5bf4409d1d",
       "version_major": 2,
       "version_minor": 0
      },
      "text/plain": [
       "Canvas(toolbar=Toolbar(toolitems=[('Home', 'Reset original view', 'home', 'home'), ('Back', 'Back to previous …"
      ]
     },
     "metadata": {},
     "output_type": "display_data"
    },
    {
     "name": "stdout",
     "output_type": "stream",
     "text": [
      "Bei dt = 1 min ist der der See nach ca. 42 Tagen abgelassen.\n"
     ]
    }
   ],
   "source": [
    "%matplotlib widget\n",
    "from matplotlib.pyplot import plot, show, grid, legend, xlabel, ylabel, xticks, xlim, ylim\n",
    "# Plotbefehl: plot(x_werte_liste, y_werte_liste)\n",
    "# Hier eigenen Code schreiben ...\n",
    "\n",
    "# Plot der x-y Paare, mehrere Plots werden farblich unterschieden übereinander gezeichnet\n",
    "plot(t_list_min, h_list_min, label='$\\mathrm{d}t=60\\mathrm{s}$')\n",
    "plot(t_list_day, h_list_day, label='$\\mathrm{d}t=4\\mathrm{d}$')\n",
    "# Formatierung des Plots\n",
    "grid()\n",
    "legend()\n",
    "xlabel('$t$ in days')\n",
    "ylabel('$z$ in m')\n",
    "# Grenzen der x-Achse setzen\n",
    "xlim([0, max(t_list_min[-1], t_list_day[-1])])\n",
    "# Grenzen der y-Achse setzen, Null abschneiden, um Fehler durch grobe Zeitschritte auszublenden\n",
    "ylim([0, h_list_min[0]])\n",
    "# Beschriftung der x-Achse in Tage umrechnen\n",
    "xlocs, xlabels = xticks()\n",
    "xticks(xlocs, [round(xloc/(60*60*24),1) for xloc in xlocs])\n",
    "\n",
    "# Plot anzeigen\n",
    "show()\n",
    "\n",
    "print('Bei dt = 1 min ist der der See nach ca. {} Tagen abgelassen.'.format(round((t_list_min[-1]/(60*60*24)))))"
   ]
  },
  {
   "cell_type": "markdown",
   "metadata": {},
   "source": [
    "Antwort: Der See ist nach etwa 42 Tagen abgelassen. Im Plot ist sichtbar, dass ein größerer Zeitschritt zu einem gröberen Verlauf führt und der See etwas früher abgelassen wurde. In einem Bereich in dem sich die Steigung innerhalb eines Zeitschrittes stärker ändert (hier ca. Tag 30 bis Tag 42) ist der Fehler durch den größeren Zeitschritt größer."
   ]
  },
  {
   "cell_type": "markdown",
   "metadata": {},
   "source": [
    "**6) Wiederholen Sie Aufgabenteil 5) unter der Annahme, dass der See bei gleichem Volumen und gleicher Oberfläche annähernd durch einen *Zylinder* beschrieben wird. Vermeiden Sie soweit wie möglich redundanten Code.**"
   ]
  },
  {
   "cell_type": "code",
   "execution_count": 7,
   "metadata": {},
   "outputs": [
    {
     "data": {
      "image/png": "[encoded data removed]",
      "text/plain": [
       "<Figure size 432x288 with 1 Axes>"
      ]
     },
     "metadata": {
      "needs_background": "light"
     },
     "output_type": "display_data"
    }
   ],
   "source": [
    "# Definition der Funktion zu Berechnung \n",
    "# der Tiefe eines Zylinders mit gegebenem Radius\n",
    "# anhand des Volumens\n",
    "def tiefe_zylinder(V):\n",
    "    return (V/(r0**2*pi))\n",
    "\n",
    "# Erneurte Berechnung des Ausflusses für die Form eines Zylinders\n",
    "t_list_min, h_list_min = abfluss(V0, 60, tiefe_zylinder)\n",
    "t_list_day, h_list_day = abfluss(V0, 60*60*24*4, tiefe_zylinder)\n",
    "\n",
    "# Plot der x-y Paare, mehrere Plots werden farblich unterschieden übereinander gezeichnet\n",
    "plot(t_list_min, h_list_min, label='$\\mathrm{d}t=60\\mathrm{s}$')\n",
    "plot(t_list_day, h_list_day, label='$\\mathrm{d}t=4\\mathrm{d}$')\n",
    "# Formatierung des Plots\n",
    "grid()\n",
    "legend()\n",
    "xlabel('$t$ in days')\n",
    "ylabel('$z$ in m')\n",
    "# Grenzen der x-Achse setzen\n",
    "xlim([0, max(t_list_min[-1], t_list_day[-1])])\n",
    "# Grenzen der y-Achse setzen, Null abschneiden, um Fehler durch grobe Zeitschritte auszublenden\n",
    "ylim([0, h_list_min[0]])\n",
    "# Beschriftung der x-Achse in Tage umrechnen\n",
    "xlocs, xlabels = xticks()\n",
    "xticks(xlocs, xlocs//(60*60*24))\n",
    "\n",
    "show()"
   ]
  }
 ],
 "metadata": {
  "kernelspec": {
   "display_name": "Python 3",
   "language": "python",
   "name": "python3"
  },
  "language_info": {
   "codemirror_mode": {
    "name": "ipython",
    "version": 3
   },
   "file_extension": ".py",
   "mimetype": "text/x-python",
   "name": "python",
   "nbconvert_exporter": "python",
   "pygments_lexer": "ipython3",
   "version": "3.7.6"
  }
 },
 "nbformat": 4,
 "nbformat_minor": 4
}
