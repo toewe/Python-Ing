{
 "cells": [
  {
   "cell_type": "markdown",
   "metadata": {},
   "source": [
    "# Hausaufgabe 2\n",
    "## Ablassung eines Stausees\n",
    "<!-- Lizensiert unter (CC BY 2.0) Gert Herold, 2020 -->\n",
    "\n",
    "Wegen Reparaturarbeiten an der Staumauer einer Talsperre soll das Wasser abgelassen werden. Der See habe ein Fassungsvermögen von $215 \\cdot 10^6\\,\\text{m}^3$. Die Oberfläche des Stausees erstrecke sich über $10\\,\\text{km}^2$. Der Wasserauslass auf Grundhöhe habe einen Querschnitt von $2\\,\\text{m}^2$. Der Fluss selbst werde so umgeleitet, dass kein Wasser in den See nachfließen kann."
   ]
  },
  {
   "cell_type": "markdown",
   "metadata": {},
   "source": [
    "**1) Es werde angenommen, die Form des Sees lasse sich mit einem umgedrehten [Kegel](https://de.wikipedia.org/wiki/Kegel_(Geometrie)) annähern. Wie tief ist dann der See?** "
   ]
  },
  {
   "cell_type": "code",
   "execution_count": 16,
   "metadata": {},
   "outputs": [
    {
     "name": "stdout",
     "output_type": "stream",
     "text": [
      "z0: 64.5 m\n"
     ]
    }
   ],
   "source": [
    "V0 = 215e6      # m^3\n",
    "A0 = 10e6       # m^2\n",
    "\n",
    "z0 = 3*V0/A0    # m\n",
    "\n",
    "A_out = 2       # m^2\n",
    "\n",
    "print('z0: {} m'.format(z0))"
   ]
  },
  {
   "cell_type": "markdown",
   "metadata": {},
   "source": [
    "Vereinfachend werde angenommen, dass die sich ausbildende Strömung sich mithilfe der [Bernoulli-Gleichung](https://de.wikipedia.org/wiki/Bernoulli-Gleichung) beschreiben lasse:\n",
    "\n",
    "$$\n",
    "\\frac{u^2}{2}+\\frac{p}{\\rho}+g \\, z = \\text{const}\n",
    "$$\n",
    "\n",
    "Dabei beschreibt $u$ die Strömungsgeschwindigkeit des Fluids an einer beliebigen betrachteten Stelle, $p$ den hydrodynamischen Druck, $\\rho$ die Dichte und $z$ die Höhe. $g=9{,}81\\frac{\\text{m}}{\\text{s}^2}$ ist die Erdbeschleunigung. Werden nur die Seeoberfläche und der Ausfluss betrachtet, so kann der Druck $p$ ebenfalls als konstant angenommen werden, da er dem Umgebungsdruck entspricht. Ebenso wird die Dichte als konstant angenommen, und die obige Gleichung vereinfacht sich zu \n",
    "\n",
    "$$\n",
    "\\frac{u^2}{2}+g \\, z = \\text{const}\n",
    "$$\n",
    "\n",
    "bzw. für oben und unten:\n",
    "\n",
    "$$\n",
    "\\frac{u_\\text{oben}^2}{2}+g \\, z_\\text{oben} = \\frac{u_\\text{unten}^2}{2}+g \\, z_\\text{unten}\n",
    "$$"
   ]
  },
  {
   "cell_type": "markdown",
   "metadata": {},
   "source": [
    "**2) Berechnen Sie die sich anfangs ausbildende Strömungsgeschwindigkeit am Ausfluss $u_\\text{unten,0}$ sowie den Volumenstrom $\\dot{V_0}$ unter der Annahme, dass die Bewegung der Seeoberfläche vernachlässigbar ist.**"
   ]
  },
  {
   "cell_type": "code",
   "execution_count": 17,
   "metadata": {},
   "outputs": [],
   "source": [
    "g = 9.81                   # m/s^2\n",
    "u_unten_0 = (2*g*z0)**0.5  # m/s\n",
    "V_dot_0 = u_unten_0*A_out\n",
    "\n"
   ]
  },
  {
   "cell_type": "markdown",
   "metadata": {},
   "source": [
    "Tipp: Um die Kreiszahl $\\pi$ unter Python verwenden zu können, muss man sie entweder selbst definieren oder z.B. aus dem [NumPy-Modul](https://numpy.org/) importieren. Für ein Beispiel den folgenden Code-Abschnitt öffnen."
   ]
  },
  {
   "cell_type": "code",
   "execution_count": 18,
   "metadata": {},
   "outputs": [
    {
     "name": "stdout",
     "output_type": "stream",
     "text": [
      "Radius: 1.78 km\n",
      "Der halbe Öffnungswinkel ist 1.534659871187229018829611959518\n"
     ]
    }
   ],
   "source": [
    "# Importiere pi aus numpy\n",
    "from numpy import pi, arctan, tan\n",
    "\n",
    "# Berechne den \"Radius\" der Seeoberfläche\n",
    "r0 = (A0/pi)**0.5\n",
    "print(f'Radius: {r0/1000:.2f} km')\n",
    "\n",
    "alpha = arctan(r0/z0)\n",
    "print(f'Der halbe Öffnungswinkel ist {alpha:.30f}')"
   ]
  },
  {
   "cell_type": "markdown",
   "metadata": {},
   "source": [
    "**3) Schreiben Sie eine Funktion, die die Tiefe des \"Kegel\"-Sees allgemein abhängig von der enthaltenen Wassermenge bestimmt.**"
   ]
  },
  {
   "cell_type": "code",
   "execution_count": 19,
   "metadata": {},
   "outputs": [
    {
     "name": "stdout",
     "output_type": "stream",
     "text": [
      "64.49999999999999\n"
     ]
    }
   ],
   "source": [
    "def tiefe_kegel(V):\n",
    "    if V >= 0:\n",
    "        return ((3 * V) / ((r0 / z0) ** 2 * pi)) ** (1/3)\n",
    "    else:\n",
    "        return -((3 * -V) / ((r0 / z0) ** 2 * pi)) ** (1/3)\n",
    "\n",
    "print('{}'.format(tiefe_kegel(215e6)))\n",
    " "
   ]
  },
  {
   "cell_type": "markdown",
   "metadata": {},
   "source": [
    "**4) Schreiben Sie eine Funktion, die ausgehend von einem Startvolumen $V_0$ und einer gegebenen Zeitschrittweite $\\Delta t$ den diskreten Zeitverlauf der Wassertiefe $h(t)$ bis zur Leerung des Sees zurückgibt. Beachten Sie, dass sich auch der Volumenstrom zeitlich ändert.** *(Hinweis: Die Änderung des Volumens lässt sich annähernd über $V_{n+1}=V_n-\\dot{V_n} \\cdot \\Delta t$ beschreiben.)*"
   ]
  },
  {
   "cell_type": "code",
   "execution_count": 20,
   "metadata": {},
   "outputs": [],
   "source": [
    "def abfluss(V0, dt, height_func):\n",
    "\n",
    "    t_list = [0]\n",
    "    V_list = [V0]\n",
    "    h_list = [height_func(V0)]\n",
    "    \n",
    "    while V_list[-1] > 0:\n",
    "        u_unten_0 = (2*g*h_list[-1])**0.5    # m/s\n",
    "        V_dot_0 = u_unten_0*A_out            # m^3/s\n",
    "        V_next = V_list[-1] - (V_dot_0 * dt)\n",
    "        V_list.append(V_next)\n",
    "        h_list.append(height_func(V_list[-1]))\n",
    "        t_list.append(t_list[-1]+dt)\n",
    "    \n",
    "    return t_list, h_list, V_list\n",
    "\n",
    "t_list_min, h_list_min, V_list_min = abfluss(V0, 60, tiefe_kegel)\n",
    "t_list_day, h_list_day, V_list_day = abfluss(V0, 60*60*24*4, tiefe_kegel)\n",
    "\n",
    "V_list_Kegel = V_list_min\n",
    "t_list_Kegel = t_list_min"
   ]
  },
  {
   "cell_type": "markdown",
   "metadata": {},
   "source": [
    "**5) Wie lange dauert es, bis der Stausee komplett abgelassen wurde? Plotten Sie den Zeitverlauf der Wassertiefe bis zur Leerung für zwei Zeitschrittweiten:**\n",
    "  * $\\Delta t_1$ = 1 Minute\n",
    "  * $\\Delta t_2$ = 4 Tage\n",
    "\n",
    "**Diskutieren Sie Auffälligkeiten.**"
   ]
  },
  {
   "cell_type": "code",
   "execution_count": 29,
   "metadata": {},
   "outputs": [
    {
     "data": {
      "application/vnd.jupyter.widget-view+json": {
       "model_id": "53dda21aeab047b4bf1908a0454d808f",
       "version_major": 2,
       "version_minor": 0
      },
      "text/plain": [
       "Canvas(toolbar=Toolbar(toolitems=[('Home', 'Reset original view', 'home', 'home'), ('Back', 'Back to previous …"
      ]
     },
     "metadata": {},
     "output_type": "display_data"
    }
   ],
   "source": [
    "%matplotlib ipympl\n",
    "from matplotlib.pyplot import plot, show, legend, xlabel, ylabel, xticks, xlim, ylim\n",
    "# Plotbefehl: plot(x_werte_liste, y_werte_liste)\n",
    "# Hier eigenen Code schreiben ...\n",
    "\n",
    "plot(t_list_min, h_list_min, label='$\\mathrm{d}t=60\\mathrm{s}$')\n",
    "plot(t_list_day, h_list_day, label='$\\mathrm{d}t=4\\mathrm{d}$')\n",
    "legend()\n",
    "xlabel('$t$ in days')\n",
    "ylabel('$z$ in m')\n",
    "xlim([0, max(t_list_min[-1], t_list_day[-1])])\n",
    "ylim([0, h_list_min[0]])\n",
    "\n",
    "locs, labels = xticks()\n",
    "xticks(locs, locs//(60*60*24))\n",
    "\n",
    "\n",
    "show()"
   ]
  },
  {
   "cell_type": "code",
   "execution_count": 28,
   "metadata": {},
   "outputs": [],
   "source": [
    "plot(t_list_min, V_list_min, label='$\\mathrm{d}t=60\\mathrm{s}$')\n",
    "plot(t_list_day, V_list_day, label='$\\mathrm{d}t=4\\mathrm{d}$')\n",
    "show()"
   ]
  },
  {
   "cell_type": "markdown",
   "metadata": {},
   "source": [
    "**6) Wiederholen Sie Aufgabenteil 5) unter der Annahme, dass der See bei gleichem Volumen und gleicher Oberfläche annähernd durch einen *Zylinder* beschrieben wird. Vermeiden Sie soweit wie möglich redundanten Code.**"
   ]
  },
  {
   "cell_type": "code",
   "execution_count": 23,
   "metadata": {},
   "outputs": [
    {
     "data": {
      "text/plain": [
       "([<matplotlib.axis.XTick at 0x2cf814a7148>,\n",
       "  <matplotlib.axis.XTick at 0x2cf8148d4c8>,\n",
       "  <matplotlib.axis.XTick at 0x2cf8032ea48>,\n",
       "  <matplotlib.axis.XTick at 0x2cf801742c8>,\n",
       "  <matplotlib.axis.XTick at 0x2cf814651c8>],\n",
       " <a list of 5 Text xticklabel objects>)"
      ]
     },
     "execution_count": 23,
     "metadata": {},
     "output_type": "execute_result"
    },
    {
     "data": {
      "image/png": "[encoded data removed]",
      "text/plain": [
       "<Figure size 432x288 with 1 Axes>"
      ]
     },
     "metadata": {
      "needs_background": "light"
     },
     "output_type": "display_data"
    }
   ],
   "source": [
    "def tiefe_zylinder(V):\n",
    "    return (V/(r0**2*pi))\n",
    "\n",
    "t_list_min, h_list_min, V_list_min = abfluss(V0, 60, tiefe_zylinder)\n",
    "t_list_day, h_list_day, V_list_day = abfluss(V0, 60*60*24*4, tiefe_zylinder)\n",
    "\n",
    "V_list_Zylinder = V_list_min\n",
    "t_list_Zylinder = t_list_min\n",
    "\n",
    "plot(t_list_min, h_list_min, label='$\\mathrm{d}t=60\\mathrm{s}$')\n",
    "plot(t_list_day, h_list_day, label='$\\mathrm{d}t=4\\mathrm{d}$')\n",
    "legend()\n",
    "xlabel('$t$ in days')\n",
    "ylabel('$z$ in m')\n",
    "xlim([0, max(t_list_min[-1], t_list_day[-1])])\n",
    "ylim([0, h_list_min[0]])\n",
    "\n",
    "locs, labels = xticks()\n",
    "xticks(locs, locs//(60*60*24))\n",
    "\n",
    "locs, labels = xticks()\n",
    "xticks(locs[1:-1], locs[1:-1]//(60*60*24))"
   ]
  },
  {
   "cell_type": "code",
   "execution_count": 24,
   "metadata": {},
   "outputs": [
    {
     "name": "stderr",
     "output_type": "stream",
     "text": [
      "C:\\Users\\Simon\\anaconda3\\lib\\site-packages\\IPython\\core\\pylabtools.py:132: UserWarning: Creating legend with loc=\"best\" can be slow with large amounts of data.\n",
      "  fig.canvas.print_figure(bytes_io, **kw)\n"
     ]
    },
    {
     "data": {
      "image/png": "[encoded data removed]",
      "text/plain": [
       "<Figure size 432x288 with 1 Axes>"
      ]
     },
     "metadata": {
      "needs_background": "light"
     },
     "output_type": "display_data"
    }
   ],
   "source": [
    "plot(t_list_Kegel, V_list_Kegel, label='$V_{\\mathrm{Kegel}}$')\n",
    "plot(t_list_Zylinder, V_list_Zylinder, label='$V_{\\mathrm{Zylinder}}$')\n",
    "legend()\n",
    "show()"
   ]
  },
  {
   "cell_type": "code",
   "execution_count": null,
   "metadata": {},
   "outputs": [],
   "source": []
  }
 ],
 "metadata": {
  "kernelspec": {
   "display_name": "Python 3",
   "language": "python",
   "name": "python3"
  },
  "language_info": {
   "codemirror_mode": {
    "name": "ipython",
    "version": 3
   },
   "file_extension": ".py",
   "mimetype": "text/x-python",
   "name": "python",
   "nbconvert_exporter": "python",
   "pygments_lexer": "ipython3",
   "version": "3.7.6"
  }
 },
 "nbformat": 4,
 "nbformat_minor": 4
}
